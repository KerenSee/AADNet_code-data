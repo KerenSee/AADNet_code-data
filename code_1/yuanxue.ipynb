{
 "cells": [
  {
   "cell_type": "code",
   "execution_count": 1,
   "id": "initial_id",
   "metadata": {
    "collapsed": true,
    "ExecuteTime": {
     "end_time": "2023-12-07T03:54:53.523660800Z",
     "start_time": "2023-12-07T03:54:47.350487Z"
    }
   },
   "outputs": [
    {
     "name": "stdout",
     "output_type": "stream",
     "text": [
      "Opening raw data file ../ProcessedData\\Female1-post_segment_1.fif...\n",
      "    Range : 0 ... 5749 =      0.000 ...    11.498 secs\n",
      "Ready.\n",
      "Reading 0 ... 5749  =      0.000 ...    11.498 secs...\n",
      "Opening raw data file ../ProcessedData\\Female1-post_segment_2.fif...\n",
      "    Range : 0 ... 5749 =      0.000 ...    11.498 secs\n",
      "Ready.\n",
      "Reading 0 ... 5749  =      0.000 ...    11.498 secs...\n",
      "Opening raw data file ../ProcessedData\\Female1-post_segment_3.fif...\n",
      "    Range : 0 ... 5749 =      0.000 ...    11.498 secs\n",
      "Ready.\n",
      "Reading 0 ... 5749  =      0.000 ...    11.498 secs...\n",
      "Opening raw data file ../ProcessedData\\Female1-post_segment_4.fif...\n",
      "    Range : 0 ... 5749 =      0.000 ...    11.498 secs\n",
      "Ready.\n",
      "Reading 0 ... 5749  =      0.000 ...    11.498 secs...\n",
      "Opening raw data file ../ProcessedData\\Female1-post_segment_5.fif...\n",
      "    Range : 0 ... 5749 =      0.000 ...    11.498 secs\n",
      "Ready.\n",
      "Reading 0 ... 5749  =      0.000 ...    11.498 secs...\n",
      "Opening raw data file ../ProcessedData\\Female1-post_segment_6.fif...\n",
      "    Range : 0 ... 5749 =      0.000 ...    11.498 secs\n",
      "Ready.\n",
      "Reading 0 ... 5749  =      0.000 ...    11.498 secs...\n",
      "Opening raw data file ../ProcessedData\\Female2-post_segment_1.fif...\n",
      "    Range : 0 ... 5749 =      0.000 ...    11.498 secs\n",
      "Ready.\n",
      "Reading 0 ... 5749  =      0.000 ...    11.498 secs...\n",
      "Opening raw data file ../ProcessedData\\Female2-post_segment_2.fif...\n",
      "    Range : 0 ... 5749 =      0.000 ...    11.498 secs\n",
      "Ready.\n",
      "Reading 0 ... 5749  =      0.000 ...    11.498 secs...\n",
      "Opening raw data file ../ProcessedData\\Female2-post_segment_3.fif...\n",
      "    Range : 0 ... 5749 =      0.000 ...    11.498 secs\n",
      "Ready.\n",
      "Reading 0 ... 5749  =      0.000 ...    11.498 secs...\n",
      "Opening raw data file ../ProcessedData\\Female2-post_segment_4.fif...\n",
      "    Range : 0 ... 5749 =      0.000 ...    11.498 secs\n",
      "Ready.\n",
      "Reading 0 ... 5749  =      0.000 ...    11.498 secs...\n",
      "Opening raw data file ../ProcessedData\\Female2-post_segment_5.fif...\n",
      "    Range : 0 ... 5749 =      0.000 ...    11.498 secs\n",
      "Ready.\n",
      "Reading 0 ... 5749  =      0.000 ...    11.498 secs...\n",
      "Opening raw data file ../ProcessedData\\Female2-post_segment_6.fif...\n",
      "    Range : 0 ... 5749 =      0.000 ...    11.498 secs\n",
      "Ready.\n",
      "Reading 0 ... 5749  =      0.000 ...    11.498 secs...\n",
      "Opening raw data file ../ProcessedData\\Female3-post_segment_1.fif...\n",
      "    Range : 0 ... 5749 =      0.000 ...    11.498 secs\n",
      "Ready.\n",
      "Reading 0 ... 5749  =      0.000 ...    11.498 secs...\n",
      "Opening raw data file ../ProcessedData\\Female3-post_segment_2.fif...\n",
      "    Range : 0 ... 5749 =      0.000 ...    11.498 secs\n",
      "Ready.\n",
      "Reading 0 ... 5749  =      0.000 ...    11.498 secs...\n",
      "Opening raw data file ../ProcessedData\\Female3-post_segment_3.fif...\n",
      "    Range : 0 ... 5749 =      0.000 ...    11.498 secs\n",
      "Ready.\n",
      "Reading 0 ... 5749  =      0.000 ...    11.498 secs...\n",
      "Opening raw data file ../ProcessedData\\Female3-post_segment_4.fif...\n",
      "    Range : 0 ... 5749 =      0.000 ...    11.498 secs\n"
     ]
    },
    {
     "name": "stderr",
     "output_type": "stream",
     "text": [
      "C:\\Users\\Keren\\AppData\\Local\\Temp\\ipykernel_20800\\700074775.py:17: RuntimeWarning: This filename (../ProcessedData\\Female1-post_segment_1.fif) does not conform to MNE naming conventions. All raw files should end with raw.fif, raw_sss.fif, raw_tsss.fif, _meg.fif, _eeg.fif, _ieeg.fif, raw.fif.gz, raw_sss.fif.gz, raw_tsss.fif.gz, _meg.fif.gz, _eeg.fif.gz or _ieeg.fif.gz\n",
      "  raw = mne.io.read_raw_fif(file_path, preload=True)\n",
      "C:\\Users\\Keren\\AppData\\Local\\Temp\\ipykernel_20800\\700074775.py:17: RuntimeWarning: This filename (../ProcessedData\\Female1-post_segment_2.fif) does not conform to MNE naming conventions. All raw files should end with raw.fif, raw_sss.fif, raw_tsss.fif, _meg.fif, _eeg.fif, _ieeg.fif, raw.fif.gz, raw_sss.fif.gz, raw_tsss.fif.gz, _meg.fif.gz, _eeg.fif.gz or _ieeg.fif.gz\n",
      "  raw = mne.io.read_raw_fif(file_path, preload=True)\n",
      "C:\\Users\\Keren\\AppData\\Local\\Temp\\ipykernel_20800\\700074775.py:17: RuntimeWarning: This filename (../ProcessedData\\Female1-post_segment_3.fif) does not conform to MNE naming conventions. All raw files should end with raw.fif, raw_sss.fif, raw_tsss.fif, _meg.fif, _eeg.fif, _ieeg.fif, raw.fif.gz, raw_sss.fif.gz, raw_tsss.fif.gz, _meg.fif.gz, _eeg.fif.gz or _ieeg.fif.gz\n",
      "  raw = mne.io.read_raw_fif(file_path, preload=True)\n",
      "C:\\Users\\Keren\\AppData\\Local\\Temp\\ipykernel_20800\\700074775.py:17: RuntimeWarning: This filename (../ProcessedData\\Female1-post_segment_4.fif) does not conform to MNE naming conventions. All raw files should end with raw.fif, raw_sss.fif, raw_tsss.fif, _meg.fif, _eeg.fif, _ieeg.fif, raw.fif.gz, raw_sss.fif.gz, raw_tsss.fif.gz, _meg.fif.gz, _eeg.fif.gz or _ieeg.fif.gz\n",
      "  raw = mne.io.read_raw_fif(file_path, preload=True)\n",
      "C:\\Users\\Keren\\AppData\\Local\\Temp\\ipykernel_20800\\700074775.py:17: RuntimeWarning: This filename (../ProcessedData\\Female1-post_segment_5.fif) does not conform to MNE naming conventions. All raw files should end with raw.fif, raw_sss.fif, raw_tsss.fif, _meg.fif, _eeg.fif, _ieeg.fif, raw.fif.gz, raw_sss.fif.gz, raw_tsss.fif.gz, _meg.fif.gz, _eeg.fif.gz or _ieeg.fif.gz\n",
      "  raw = mne.io.read_raw_fif(file_path, preload=True)\n",
      "C:\\Users\\Keren\\AppData\\Local\\Temp\\ipykernel_20800\\700074775.py:17: RuntimeWarning: This filename (../ProcessedData\\Female1-post_segment_6.fif) does not conform to MNE naming conventions. All raw files should end with raw.fif, raw_sss.fif, raw_tsss.fif, _meg.fif, _eeg.fif, _ieeg.fif, raw.fif.gz, raw_sss.fif.gz, raw_tsss.fif.gz, _meg.fif.gz, _eeg.fif.gz or _ieeg.fif.gz\n",
      "  raw = mne.io.read_raw_fif(file_path, preload=True)\n",
      "C:\\Users\\Keren\\AppData\\Local\\Temp\\ipykernel_20800\\700074775.py:17: RuntimeWarning: This filename (../ProcessedData\\Female2-post_segment_1.fif) does not conform to MNE naming conventions. All raw files should end with raw.fif, raw_sss.fif, raw_tsss.fif, _meg.fif, _eeg.fif, _ieeg.fif, raw.fif.gz, raw_sss.fif.gz, raw_tsss.fif.gz, _meg.fif.gz, _eeg.fif.gz or _ieeg.fif.gz\n",
      "  raw = mne.io.read_raw_fif(file_path, preload=True)\n",
      "C:\\Users\\Keren\\AppData\\Local\\Temp\\ipykernel_20800\\700074775.py:17: RuntimeWarning: This filename (../ProcessedData\\Female2-post_segment_2.fif) does not conform to MNE naming conventions. All raw files should end with raw.fif, raw_sss.fif, raw_tsss.fif, _meg.fif, _eeg.fif, _ieeg.fif, raw.fif.gz, raw_sss.fif.gz, raw_tsss.fif.gz, _meg.fif.gz, _eeg.fif.gz or _ieeg.fif.gz\n",
      "  raw = mne.io.read_raw_fif(file_path, preload=True)\n",
      "C:\\Users\\Keren\\AppData\\Local\\Temp\\ipykernel_20800\\700074775.py:17: RuntimeWarning: This filename (../ProcessedData\\Female2-post_segment_3.fif) does not conform to MNE naming conventions. All raw files should end with raw.fif, raw_sss.fif, raw_tsss.fif, _meg.fif, _eeg.fif, _ieeg.fif, raw.fif.gz, raw_sss.fif.gz, raw_tsss.fif.gz, _meg.fif.gz, _eeg.fif.gz or _ieeg.fif.gz\n",
      "  raw = mne.io.read_raw_fif(file_path, preload=True)\n",
      "C:\\Users\\Keren\\AppData\\Local\\Temp\\ipykernel_20800\\700074775.py:17: RuntimeWarning: This filename (../ProcessedData\\Female2-post_segment_4.fif) does not conform to MNE naming conventions. All raw files should end with raw.fif, raw_sss.fif, raw_tsss.fif, _meg.fif, _eeg.fif, _ieeg.fif, raw.fif.gz, raw_sss.fif.gz, raw_tsss.fif.gz, _meg.fif.gz, _eeg.fif.gz or _ieeg.fif.gz\n",
      "  raw = mne.io.read_raw_fif(file_path, preload=True)\n",
      "C:\\Users\\Keren\\AppData\\Local\\Temp\\ipykernel_20800\\700074775.py:17: RuntimeWarning: This filename (../ProcessedData\\Female2-post_segment_5.fif) does not conform to MNE naming conventions. All raw files should end with raw.fif, raw_sss.fif, raw_tsss.fif, _meg.fif, _eeg.fif, _ieeg.fif, raw.fif.gz, raw_sss.fif.gz, raw_tsss.fif.gz, _meg.fif.gz, _eeg.fif.gz or _ieeg.fif.gz\n",
      "  raw = mne.io.read_raw_fif(file_path, preload=True)\n",
      "C:\\Users\\Keren\\AppData\\Local\\Temp\\ipykernel_20800\\700074775.py:17: RuntimeWarning: This filename (../ProcessedData\\Female2-post_segment_6.fif) does not conform to MNE naming conventions. All raw files should end with raw.fif, raw_sss.fif, raw_tsss.fif, _meg.fif, _eeg.fif, _ieeg.fif, raw.fif.gz, raw_sss.fif.gz, raw_tsss.fif.gz, _meg.fif.gz, _eeg.fif.gz or _ieeg.fif.gz\n",
      "  raw = mne.io.read_raw_fif(file_path, preload=True)\n",
      "C:\\Users\\Keren\\AppData\\Local\\Temp\\ipykernel_20800\\700074775.py:17: RuntimeWarning: This filename (../ProcessedData\\Female3-post_segment_1.fif) does not conform to MNE naming conventions. All raw files should end with raw.fif, raw_sss.fif, raw_tsss.fif, _meg.fif, _eeg.fif, _ieeg.fif, raw.fif.gz, raw_sss.fif.gz, raw_tsss.fif.gz, _meg.fif.gz, _eeg.fif.gz or _ieeg.fif.gz\n",
      "  raw = mne.io.read_raw_fif(file_path, preload=True)\n",
      "C:\\Users\\Keren\\AppData\\Local\\Temp\\ipykernel_20800\\700074775.py:17: RuntimeWarning: This filename (../ProcessedData\\Female3-post_segment_2.fif) does not conform to MNE naming conventions. All raw files should end with raw.fif, raw_sss.fif, raw_tsss.fif, _meg.fif, _eeg.fif, _ieeg.fif, raw.fif.gz, raw_sss.fif.gz, raw_tsss.fif.gz, _meg.fif.gz, _eeg.fif.gz or _ieeg.fif.gz\n",
      "  raw = mne.io.read_raw_fif(file_path, preload=True)\n",
      "C:\\Users\\Keren\\AppData\\Local\\Temp\\ipykernel_20800\\700074775.py:17: RuntimeWarning: This filename (../ProcessedData\\Female3-post_segment_3.fif) does not conform to MNE naming conventions. All raw files should end with raw.fif, raw_sss.fif, raw_tsss.fif, _meg.fif, _eeg.fif, _ieeg.fif, raw.fif.gz, raw_sss.fif.gz, raw_tsss.fif.gz, _meg.fif.gz, _eeg.fif.gz or _ieeg.fif.gz\n",
      "  raw = mne.io.read_raw_fif(file_path, preload=True)\n",
      "C:\\Users\\Keren\\AppData\\Local\\Temp\\ipykernel_20800\\700074775.py:17: RuntimeWarning: This filename (../ProcessedData\\Female3-post_segment_4.fif) does not conform to MNE naming conventions. All raw files should end with raw.fif, raw_sss.fif, raw_tsss.fif, _meg.fif, _eeg.fif, _ieeg.fif, raw.fif.gz, raw_sss.fif.gz, raw_tsss.fif.gz, _meg.fif.gz, _eeg.fif.gz or _ieeg.fif.gz\n",
      "  raw = mne.io.read_raw_fif(file_path, preload=True)\n"
     ]
    },
    {
     "name": "stdout",
     "output_type": "stream",
     "text": [
      "Ready.\n",
      "Reading 0 ... 5749  =      0.000 ...    11.498 secs...\n",
      "Opening raw data file ../ProcessedData\\Female3-post_segment_5.fif...\n",
      "    Range : 0 ... 5749 =      0.000 ...    11.498 secs\n",
      "Ready.\n",
      "Reading 0 ... 5749  =      0.000 ...    11.498 secs...\n",
      "Opening raw data file ../ProcessedData\\Female3-post_segment_6.fif...\n",
      "    Range : 0 ... 5749 =      0.000 ...    11.498 secs\n",
      "Ready.\n",
      "Reading 0 ... 5749  =      0.000 ...    11.498 secs...\n",
      "Opening raw data file ../ProcessedData\\Female7-post_segment_1.fif...\n",
      "    Range : 0 ... 5749 =      0.000 ...    11.498 secs\n",
      "Ready.\n",
      "Reading 0 ... 5749  =      0.000 ...    11.498 secs...\n",
      "Opening raw data file ../ProcessedData\\Female7-post_segment_2.fif...\n",
      "    Range : 0 ... 5749 =      0.000 ...    11.498 secs\n",
      "Ready.\n",
      "Reading 0 ... 5749  =      0.000 ...    11.498 secs...\n",
      "Opening raw data file ../ProcessedData\\Female7-post_segment_3.fif...\n",
      "    Range : 0 ... 5749 =      0.000 ...    11.498 secs\n",
      "Ready.\n",
      "Reading 0 ... 5749  =      0.000 ...    11.498 secs...\n",
      "Opening raw data file ../ProcessedData\\Female7-post_segment_4.fif...\n",
      "    Range : 0 ... 5749 =      0.000 ...    11.498 secs\n",
      "Ready.\n",
      "Reading 0 ... 5749  =      0.000 ...    11.498 secs...\n",
      "Opening raw data file ../ProcessedData\\Female7-post_segment_5.fif...\n",
      "    Range : 0 ... 5749 =      0.000 ...    11.498 secs\n",
      "Ready.\n",
      "Reading 0 ... 5749  =      0.000 ...    11.498 secs...\n",
      "Opening raw data file ../ProcessedData\\Female7-post_segment_6.fif...\n",
      "    Range : 0 ... 5749 =      0.000 ...    11.498 secs\n",
      "Ready.\n",
      "Reading 0 ... 5749  =      0.000 ...    11.498 secs...\n",
      "Opening raw data file ../ProcessedData\\Female8-post_segment_1.fif...\n",
      "    Range : 0 ... 5749 =      0.000 ...    11.498 secs\n",
      "Ready.\n",
      "Reading 0 ... 5749  =      0.000 ...    11.498 secs...\n",
      "Opening raw data file ../ProcessedData\\Female8-post_segment_2.fif...\n",
      "    Range : 0 ... 5749 =      0.000 ...    11.498 secs\n",
      "Ready.\n",
      "Reading 0 ... 5749  =      0.000 ...    11.498 secs...\n",
      "Opening raw data file ../ProcessedData\\Female8-post_segment_3.fif...\n",
      "    Range : 0 ... 5749 =      0.000 ...    11.498 secs\n"
     ]
    },
    {
     "name": "stderr",
     "output_type": "stream",
     "text": [
      "C:\\Users\\Keren\\AppData\\Local\\Temp\\ipykernel_20800\\700074775.py:17: RuntimeWarning: This filename (../ProcessedData\\Female3-post_segment_5.fif) does not conform to MNE naming conventions. All raw files should end with raw.fif, raw_sss.fif, raw_tsss.fif, _meg.fif, _eeg.fif, _ieeg.fif, raw.fif.gz, raw_sss.fif.gz, raw_tsss.fif.gz, _meg.fif.gz, _eeg.fif.gz or _ieeg.fif.gz\n",
      "  raw = mne.io.read_raw_fif(file_path, preload=True)\n",
      "C:\\Users\\Keren\\AppData\\Local\\Temp\\ipykernel_20800\\700074775.py:17: RuntimeWarning: This filename (../ProcessedData\\Female3-post_segment_6.fif) does not conform to MNE naming conventions. All raw files should end with raw.fif, raw_sss.fif, raw_tsss.fif, _meg.fif, _eeg.fif, _ieeg.fif, raw.fif.gz, raw_sss.fif.gz, raw_tsss.fif.gz, _meg.fif.gz, _eeg.fif.gz or _ieeg.fif.gz\n",
      "  raw = mne.io.read_raw_fif(file_path, preload=True)\n",
      "C:\\Users\\Keren\\AppData\\Local\\Temp\\ipykernel_20800\\700074775.py:17: RuntimeWarning: This filename (../ProcessedData\\Female7-post_segment_1.fif) does not conform to MNE naming conventions. All raw files should end with raw.fif, raw_sss.fif, raw_tsss.fif, _meg.fif, _eeg.fif, _ieeg.fif, raw.fif.gz, raw_sss.fif.gz, raw_tsss.fif.gz, _meg.fif.gz, _eeg.fif.gz or _ieeg.fif.gz\n",
      "  raw = mne.io.read_raw_fif(file_path, preload=True)\n",
      "C:\\Users\\Keren\\AppData\\Local\\Temp\\ipykernel_20800\\700074775.py:17: RuntimeWarning: This filename (../ProcessedData\\Female7-post_segment_2.fif) does not conform to MNE naming conventions. All raw files should end with raw.fif, raw_sss.fif, raw_tsss.fif, _meg.fif, _eeg.fif, _ieeg.fif, raw.fif.gz, raw_sss.fif.gz, raw_tsss.fif.gz, _meg.fif.gz, _eeg.fif.gz or _ieeg.fif.gz\n",
      "  raw = mne.io.read_raw_fif(file_path, preload=True)\n",
      "C:\\Users\\Keren\\AppData\\Local\\Temp\\ipykernel_20800\\700074775.py:17: RuntimeWarning: This filename (../ProcessedData\\Female7-post_segment_3.fif) does not conform to MNE naming conventions. All raw files should end with raw.fif, raw_sss.fif, raw_tsss.fif, _meg.fif, _eeg.fif, _ieeg.fif, raw.fif.gz, raw_sss.fif.gz, raw_tsss.fif.gz, _meg.fif.gz, _eeg.fif.gz or _ieeg.fif.gz\n",
      "  raw = mne.io.read_raw_fif(file_path, preload=True)\n",
      "C:\\Users\\Keren\\AppData\\Local\\Temp\\ipykernel_20800\\700074775.py:17: RuntimeWarning: This filename (../ProcessedData\\Female7-post_segment_4.fif) does not conform to MNE naming conventions. All raw files should end with raw.fif, raw_sss.fif, raw_tsss.fif, _meg.fif, _eeg.fif, _ieeg.fif, raw.fif.gz, raw_sss.fif.gz, raw_tsss.fif.gz, _meg.fif.gz, _eeg.fif.gz or _ieeg.fif.gz\n",
      "  raw = mne.io.read_raw_fif(file_path, preload=True)\n",
      "C:\\Users\\Keren\\AppData\\Local\\Temp\\ipykernel_20800\\700074775.py:17: RuntimeWarning: This filename (../ProcessedData\\Female7-post_segment_5.fif) does not conform to MNE naming conventions. All raw files should end with raw.fif, raw_sss.fif, raw_tsss.fif, _meg.fif, _eeg.fif, _ieeg.fif, raw.fif.gz, raw_sss.fif.gz, raw_tsss.fif.gz, _meg.fif.gz, _eeg.fif.gz or _ieeg.fif.gz\n",
      "  raw = mne.io.read_raw_fif(file_path, preload=True)\n",
      "C:\\Users\\Keren\\AppData\\Local\\Temp\\ipykernel_20800\\700074775.py:17: RuntimeWarning: This filename (../ProcessedData\\Female7-post_segment_6.fif) does not conform to MNE naming conventions. All raw files should end with raw.fif, raw_sss.fif, raw_tsss.fif, _meg.fif, _eeg.fif, _ieeg.fif, raw.fif.gz, raw_sss.fif.gz, raw_tsss.fif.gz, _meg.fif.gz, _eeg.fif.gz or _ieeg.fif.gz\n",
      "  raw = mne.io.read_raw_fif(file_path, preload=True)\n",
      "C:\\Users\\Keren\\AppData\\Local\\Temp\\ipykernel_20800\\700074775.py:17: RuntimeWarning: This filename (../ProcessedData\\Female8-post_segment_1.fif) does not conform to MNE naming conventions. All raw files should end with raw.fif, raw_sss.fif, raw_tsss.fif, _meg.fif, _eeg.fif, _ieeg.fif, raw.fif.gz, raw_sss.fif.gz, raw_tsss.fif.gz, _meg.fif.gz, _eeg.fif.gz or _ieeg.fif.gz\n",
      "  raw = mne.io.read_raw_fif(file_path, preload=True)\n",
      "C:\\Users\\Keren\\AppData\\Local\\Temp\\ipykernel_20800\\700074775.py:17: RuntimeWarning: This filename (../ProcessedData\\Female8-post_segment_2.fif) does not conform to MNE naming conventions. All raw files should end with raw.fif, raw_sss.fif, raw_tsss.fif, _meg.fif, _eeg.fif, _ieeg.fif, raw.fif.gz, raw_sss.fif.gz, raw_tsss.fif.gz, _meg.fif.gz, _eeg.fif.gz or _ieeg.fif.gz\n",
      "  raw = mne.io.read_raw_fif(file_path, preload=True)\n",
      "C:\\Users\\Keren\\AppData\\Local\\Temp\\ipykernel_20800\\700074775.py:17: RuntimeWarning: This filename (../ProcessedData\\Female8-post_segment_3.fif) does not conform to MNE naming conventions. All raw files should end with raw.fif, raw_sss.fif, raw_tsss.fif, _meg.fif, _eeg.fif, _ieeg.fif, raw.fif.gz, raw_sss.fif.gz, raw_tsss.fif.gz, _meg.fif.gz, _eeg.fif.gz or _ieeg.fif.gz\n",
      "  raw = mne.io.read_raw_fif(file_path, preload=True)\n"
     ]
    },
    {
     "name": "stdout",
     "output_type": "stream",
     "text": [
      "Ready.\n",
      "Reading 0 ... 5749  =      0.000 ...    11.498 secs...\n",
      "Opening raw data file ../ProcessedData\\Female8-post_segment_4.fif...\n",
      "    Range : 0 ... 5749 =      0.000 ...    11.498 secs\n",
      "Ready.\n",
      "Reading 0 ... 5749  =      0.000 ...    11.498 secs...\n",
      "Opening raw data file ../ProcessedData\\Female8-post_segment_5.fif...\n",
      "    Range : 0 ... 5749 =      0.000 ...    11.498 secs\n",
      "Ready.\n",
      "Reading 0 ... 5749  =      0.000 ...    11.498 secs...\n",
      "Opening raw data file ../ProcessedData\\Female8-post_segment_6.fif...\n",
      "    Range : 0 ... 5749 =      0.000 ...    11.498 secs\n",
      "Ready.\n",
      "Reading 0 ... 5749  =      0.000 ...    11.498 secs...\n",
      "Opening raw data file ../ProcessedData\\Male1-post_segment_1.fif...\n",
      "    Range : 0 ... 5749 =      0.000 ...    11.498 secs\n",
      "Ready.\n",
      "Reading 0 ... 5749  =      0.000 ...    11.498 secs...\n",
      "Opening raw data file ../ProcessedData\\Male1-post_segment_2.fif...\n",
      "    Range : 0 ... 5749 =      0.000 ...    11.498 secs\n",
      "Ready.\n",
      "Reading 0 ... 5749  =      0.000 ...    11.498 secs...\n",
      "Opening raw data file ../ProcessedData\\Male1-post_segment_3.fif...\n",
      "    Range : 0 ... 5749 =      0.000 ...    11.498 secs\n",
      "Ready.\n",
      "Reading 0 ... 5749  =      0.000 ...    11.498 secs...\n",
      "Opening raw data file ../ProcessedData\\Male1-post_segment_4.fif...\n",
      "    Range : 0 ... 5749 =      0.000 ...    11.498 secs\n",
      "Ready.\n",
      "Reading 0 ... 5749  =      0.000 ...    11.498 secs...\n",
      "Opening raw data file ../ProcessedData\\Male1-post_segment_5.fif...\n",
      "    Range : 0 ... 5749 =      0.000 ...    11.498 secs\n",
      "Ready.\n",
      "Reading 0 ... 5749  =      0.000 ...    11.498 secs...\n",
      "Opening raw data file ../ProcessedData\\Male1-post_segment_6.fif...\n",
      "    Range : 0 ... 5749 =      0.000 ...    11.498 secs\n",
      "Ready.\n",
      "Reading 0 ... 5749  =      0.000 ...    11.498 secs...\n",
      "Opening raw data file ../ProcessedData\\Male2-post_segment_1.fif...\n",
      "    Range : 0 ... 5749 =      0.000 ...    11.498 secs\n",
      "Ready.\n",
      "Reading 0 ... 5749  =      0.000 ...    11.498 secs...\n",
      "Opening raw data file ../ProcessedData\\Male2-post_segment_2.fif...\n",
      "    Range : 0 ... 5749 =      0.000 ...    11.498 secs\n"
     ]
    },
    {
     "name": "stderr",
     "output_type": "stream",
     "text": [
      "C:\\Users\\Keren\\AppData\\Local\\Temp\\ipykernel_20800\\700074775.py:17: RuntimeWarning: This filename (../ProcessedData\\Female8-post_segment_4.fif) does not conform to MNE naming conventions. All raw files should end with raw.fif, raw_sss.fif, raw_tsss.fif, _meg.fif, _eeg.fif, _ieeg.fif, raw.fif.gz, raw_sss.fif.gz, raw_tsss.fif.gz, _meg.fif.gz, _eeg.fif.gz or _ieeg.fif.gz\n",
      "  raw = mne.io.read_raw_fif(file_path, preload=True)\n",
      "C:\\Users\\Keren\\AppData\\Local\\Temp\\ipykernel_20800\\700074775.py:17: RuntimeWarning: This filename (../ProcessedData\\Female8-post_segment_5.fif) does not conform to MNE naming conventions. All raw files should end with raw.fif, raw_sss.fif, raw_tsss.fif, _meg.fif, _eeg.fif, _ieeg.fif, raw.fif.gz, raw_sss.fif.gz, raw_tsss.fif.gz, _meg.fif.gz, _eeg.fif.gz or _ieeg.fif.gz\n",
      "  raw = mne.io.read_raw_fif(file_path, preload=True)\n",
      "C:\\Users\\Keren\\AppData\\Local\\Temp\\ipykernel_20800\\700074775.py:17: RuntimeWarning: This filename (../ProcessedData\\Female8-post_segment_6.fif) does not conform to MNE naming conventions. All raw files should end with raw.fif, raw_sss.fif, raw_tsss.fif, _meg.fif, _eeg.fif, _ieeg.fif, raw.fif.gz, raw_sss.fif.gz, raw_tsss.fif.gz, _meg.fif.gz, _eeg.fif.gz or _ieeg.fif.gz\n",
      "  raw = mne.io.read_raw_fif(file_path, preload=True)\n",
      "C:\\Users\\Keren\\AppData\\Local\\Temp\\ipykernel_20800\\700074775.py:17: RuntimeWarning: This filename (../ProcessedData\\Male1-post_segment_1.fif) does not conform to MNE naming conventions. All raw files should end with raw.fif, raw_sss.fif, raw_tsss.fif, _meg.fif, _eeg.fif, _ieeg.fif, raw.fif.gz, raw_sss.fif.gz, raw_tsss.fif.gz, _meg.fif.gz, _eeg.fif.gz or _ieeg.fif.gz\n",
      "  raw = mne.io.read_raw_fif(file_path, preload=True)\n",
      "C:\\Users\\Keren\\AppData\\Local\\Temp\\ipykernel_20800\\700074775.py:17: RuntimeWarning: This filename (../ProcessedData\\Male1-post_segment_2.fif) does not conform to MNE naming conventions. All raw files should end with raw.fif, raw_sss.fif, raw_tsss.fif, _meg.fif, _eeg.fif, _ieeg.fif, raw.fif.gz, raw_sss.fif.gz, raw_tsss.fif.gz, _meg.fif.gz, _eeg.fif.gz or _ieeg.fif.gz\n",
      "  raw = mne.io.read_raw_fif(file_path, preload=True)\n",
      "C:\\Users\\Keren\\AppData\\Local\\Temp\\ipykernel_20800\\700074775.py:17: RuntimeWarning: This filename (../ProcessedData\\Male1-post_segment_3.fif) does not conform to MNE naming conventions. All raw files should end with raw.fif, raw_sss.fif, raw_tsss.fif, _meg.fif, _eeg.fif, _ieeg.fif, raw.fif.gz, raw_sss.fif.gz, raw_tsss.fif.gz, _meg.fif.gz, _eeg.fif.gz or _ieeg.fif.gz\n",
      "  raw = mne.io.read_raw_fif(file_path, preload=True)\n",
      "C:\\Users\\Keren\\AppData\\Local\\Temp\\ipykernel_20800\\700074775.py:17: RuntimeWarning: This filename (../ProcessedData\\Male1-post_segment_4.fif) does not conform to MNE naming conventions. All raw files should end with raw.fif, raw_sss.fif, raw_tsss.fif, _meg.fif, _eeg.fif, _ieeg.fif, raw.fif.gz, raw_sss.fif.gz, raw_tsss.fif.gz, _meg.fif.gz, _eeg.fif.gz or _ieeg.fif.gz\n",
      "  raw = mne.io.read_raw_fif(file_path, preload=True)\n",
      "C:\\Users\\Keren\\AppData\\Local\\Temp\\ipykernel_20800\\700074775.py:17: RuntimeWarning: This filename (../ProcessedData\\Male1-post_segment_5.fif) does not conform to MNE naming conventions. All raw files should end with raw.fif, raw_sss.fif, raw_tsss.fif, _meg.fif, _eeg.fif, _ieeg.fif, raw.fif.gz, raw_sss.fif.gz, raw_tsss.fif.gz, _meg.fif.gz, _eeg.fif.gz or _ieeg.fif.gz\n",
      "  raw = mne.io.read_raw_fif(file_path, preload=True)\n",
      "C:\\Users\\Keren\\AppData\\Local\\Temp\\ipykernel_20800\\700074775.py:17: RuntimeWarning: This filename (../ProcessedData\\Male1-post_segment_6.fif) does not conform to MNE naming conventions. All raw files should end with raw.fif, raw_sss.fif, raw_tsss.fif, _meg.fif, _eeg.fif, _ieeg.fif, raw.fif.gz, raw_sss.fif.gz, raw_tsss.fif.gz, _meg.fif.gz, _eeg.fif.gz or _ieeg.fif.gz\n",
      "  raw = mne.io.read_raw_fif(file_path, preload=True)\n",
      "C:\\Users\\Keren\\AppData\\Local\\Temp\\ipykernel_20800\\700074775.py:17: RuntimeWarning: This filename (../ProcessedData\\Male2-post_segment_1.fif) does not conform to MNE naming conventions. All raw files should end with raw.fif, raw_sss.fif, raw_tsss.fif, _meg.fif, _eeg.fif, _ieeg.fif, raw.fif.gz, raw_sss.fif.gz, raw_tsss.fif.gz, _meg.fif.gz, _eeg.fif.gz or _ieeg.fif.gz\n",
      "  raw = mne.io.read_raw_fif(file_path, preload=True)\n",
      "C:\\Users\\Keren\\AppData\\Local\\Temp\\ipykernel_20800\\700074775.py:17: RuntimeWarning: This filename (../ProcessedData\\Male2-post_segment_2.fif) does not conform to MNE naming conventions. All raw files should end with raw.fif, raw_sss.fif, raw_tsss.fif, _meg.fif, _eeg.fif, _ieeg.fif, raw.fif.gz, raw_sss.fif.gz, raw_tsss.fif.gz, _meg.fif.gz, _eeg.fif.gz or _ieeg.fif.gz\n",
      "  raw = mne.io.read_raw_fif(file_path, preload=True)\n"
     ]
    },
    {
     "name": "stdout",
     "output_type": "stream",
     "text": [
      "Ready.\n",
      "Reading 0 ... 5749  =      0.000 ...    11.498 secs...\n",
      "Opening raw data file ../ProcessedData\\Male2-post_segment_3.fif...\n",
      "    Range : 0 ... 5749 =      0.000 ...    11.498 secs\n",
      "Ready.\n",
      "Reading 0 ... 5749  =      0.000 ...    11.498 secs...\n",
      "Opening raw data file ../ProcessedData\\Male2-post_segment_4.fif...\n",
      "    Range : 0 ... 5749 =      0.000 ...    11.498 secs\n",
      "Ready.\n",
      "Reading 0 ... 5749  =      0.000 ...    11.498 secs...\n",
      "Opening raw data file ../ProcessedData\\Male2-post_segment_5.fif...\n",
      "    Range : 0 ... 5749 =      0.000 ...    11.498 secs\n",
      "Ready.\n",
      "Reading 0 ... 5749  =      0.000 ...    11.498 secs...\n",
      "Opening raw data file ../ProcessedData\\Male2-post_segment_6.fif...\n",
      "    Range : 0 ... 5749 =      0.000 ...    11.498 secs\n",
      "Ready.\n",
      "Reading 0 ... 5749  =      0.000 ...    11.498 secs...\n",
      "Opening raw data file ../ProcessedData\\Male4-post_segment_1.fif...\n",
      "    Range : 0 ... 5749 =      0.000 ...    11.498 secs\n",
      "Ready.\n",
      "Reading 0 ... 5749  =      0.000 ...    11.498 secs...\n",
      "Opening raw data file ../ProcessedData\\Male4-post_segment_2.fif...\n",
      "    Range : 0 ... 5749 =      0.000 ...    11.498 secs\n",
      "Ready.\n",
      "Reading 0 ... 5749  =      0.000 ...    11.498 secs...\n",
      "Opening raw data file ../ProcessedData\\Male4-post_segment_3.fif...\n",
      "    Range : 0 ... 5749 =      0.000 ...    11.498 secs\n",
      "Ready.\n",
      "Reading 0 ... 5749  =      0.000 ...    11.498 secs...\n",
      "Opening raw data file ../ProcessedData\\Male4-post_segment_4.fif...\n",
      "    Range : 0 ... 5749 =      0.000 ...    11.498 secs\n",
      "Ready.\n",
      "Reading 0 ... 5749  =      0.000 ...    11.498 secs...\n",
      "Opening raw data file ../ProcessedData\\Male4-post_segment_5.fif...\n",
      "    Range : 0 ... 5749 =      0.000 ...    11.498 secs\n",
      "Ready.\n",
      "Reading 0 ... 5749  =      0.000 ...    11.498 secs...\n",
      "Opening raw data file ../ProcessedData\\Male4-post_segment_6.fif...\n",
      "    Range : 0 ... 5749 =      0.000 ...    11.498 secs\n",
      "Ready.\n",
      "Reading 0 ... 5749  =      0.000 ...    11.498 secs...\n",
      "Opening raw data file ../ProcessedData\\Male5-post_segment_1.fif...\n",
      "    Range : 0 ... 5749 =      0.000 ...    11.498 secs\n",
      "Ready.\n",
      "Reading 0 ... 5749  =      0.000 ...    11.498 secs...\n",
      "Opening raw data file ../ProcessedData\\Male5-post_segment_2.fif...\n"
     ]
    },
    {
     "name": "stderr",
     "output_type": "stream",
     "text": [
      "C:\\Users\\Keren\\AppData\\Local\\Temp\\ipykernel_20800\\700074775.py:17: RuntimeWarning: This filename (../ProcessedData\\Male2-post_segment_3.fif) does not conform to MNE naming conventions. All raw files should end with raw.fif, raw_sss.fif, raw_tsss.fif, _meg.fif, _eeg.fif, _ieeg.fif, raw.fif.gz, raw_sss.fif.gz, raw_tsss.fif.gz, _meg.fif.gz, _eeg.fif.gz or _ieeg.fif.gz\n",
      "  raw = mne.io.read_raw_fif(file_path, preload=True)\n",
      "C:\\Users\\Keren\\AppData\\Local\\Temp\\ipykernel_20800\\700074775.py:17: RuntimeWarning: This filename (../ProcessedData\\Male2-post_segment_4.fif) does not conform to MNE naming conventions. All raw files should end with raw.fif, raw_sss.fif, raw_tsss.fif, _meg.fif, _eeg.fif, _ieeg.fif, raw.fif.gz, raw_sss.fif.gz, raw_tsss.fif.gz, _meg.fif.gz, _eeg.fif.gz or _ieeg.fif.gz\n",
      "  raw = mne.io.read_raw_fif(file_path, preload=True)\n",
      "C:\\Users\\Keren\\AppData\\Local\\Temp\\ipykernel_20800\\700074775.py:17: RuntimeWarning: This filename (../ProcessedData\\Male2-post_segment_5.fif) does not conform to MNE naming conventions. All raw files should end with raw.fif, raw_sss.fif, raw_tsss.fif, _meg.fif, _eeg.fif, _ieeg.fif, raw.fif.gz, raw_sss.fif.gz, raw_tsss.fif.gz, _meg.fif.gz, _eeg.fif.gz or _ieeg.fif.gz\n",
      "  raw = mne.io.read_raw_fif(file_path, preload=True)\n",
      "C:\\Users\\Keren\\AppData\\Local\\Temp\\ipykernel_20800\\700074775.py:17: RuntimeWarning: This filename (../ProcessedData\\Male2-post_segment_6.fif) does not conform to MNE naming conventions. All raw files should end with raw.fif, raw_sss.fif, raw_tsss.fif, _meg.fif, _eeg.fif, _ieeg.fif, raw.fif.gz, raw_sss.fif.gz, raw_tsss.fif.gz, _meg.fif.gz, _eeg.fif.gz or _ieeg.fif.gz\n",
      "  raw = mne.io.read_raw_fif(file_path, preload=True)\n",
      "C:\\Users\\Keren\\AppData\\Local\\Temp\\ipykernel_20800\\700074775.py:17: RuntimeWarning: This filename (../ProcessedData\\Male4-post_segment_1.fif) does not conform to MNE naming conventions. All raw files should end with raw.fif, raw_sss.fif, raw_tsss.fif, _meg.fif, _eeg.fif, _ieeg.fif, raw.fif.gz, raw_sss.fif.gz, raw_tsss.fif.gz, _meg.fif.gz, _eeg.fif.gz or _ieeg.fif.gz\n",
      "  raw = mne.io.read_raw_fif(file_path, preload=True)\n",
      "C:\\Users\\Keren\\AppData\\Local\\Temp\\ipykernel_20800\\700074775.py:17: RuntimeWarning: This filename (../ProcessedData\\Male4-post_segment_2.fif) does not conform to MNE naming conventions. All raw files should end with raw.fif, raw_sss.fif, raw_tsss.fif, _meg.fif, _eeg.fif, _ieeg.fif, raw.fif.gz, raw_sss.fif.gz, raw_tsss.fif.gz, _meg.fif.gz, _eeg.fif.gz or _ieeg.fif.gz\n",
      "  raw = mne.io.read_raw_fif(file_path, preload=True)\n",
      "C:\\Users\\Keren\\AppData\\Local\\Temp\\ipykernel_20800\\700074775.py:17: RuntimeWarning: This filename (../ProcessedData\\Male4-post_segment_3.fif) does not conform to MNE naming conventions. All raw files should end with raw.fif, raw_sss.fif, raw_tsss.fif, _meg.fif, _eeg.fif, _ieeg.fif, raw.fif.gz, raw_sss.fif.gz, raw_tsss.fif.gz, _meg.fif.gz, _eeg.fif.gz or _ieeg.fif.gz\n",
      "  raw = mne.io.read_raw_fif(file_path, preload=True)\n",
      "C:\\Users\\Keren\\AppData\\Local\\Temp\\ipykernel_20800\\700074775.py:17: RuntimeWarning: This filename (../ProcessedData\\Male4-post_segment_4.fif) does not conform to MNE naming conventions. All raw files should end with raw.fif, raw_sss.fif, raw_tsss.fif, _meg.fif, _eeg.fif, _ieeg.fif, raw.fif.gz, raw_sss.fif.gz, raw_tsss.fif.gz, _meg.fif.gz, _eeg.fif.gz or _ieeg.fif.gz\n",
      "  raw = mne.io.read_raw_fif(file_path, preload=True)\n",
      "C:\\Users\\Keren\\AppData\\Local\\Temp\\ipykernel_20800\\700074775.py:17: RuntimeWarning: This filename (../ProcessedData\\Male4-post_segment_5.fif) does not conform to MNE naming conventions. All raw files should end with raw.fif, raw_sss.fif, raw_tsss.fif, _meg.fif, _eeg.fif, _ieeg.fif, raw.fif.gz, raw_sss.fif.gz, raw_tsss.fif.gz, _meg.fif.gz, _eeg.fif.gz or _ieeg.fif.gz\n",
      "  raw = mne.io.read_raw_fif(file_path, preload=True)\n",
      "C:\\Users\\Keren\\AppData\\Local\\Temp\\ipykernel_20800\\700074775.py:17: RuntimeWarning: This filename (../ProcessedData\\Male4-post_segment_6.fif) does not conform to MNE naming conventions. All raw files should end with raw.fif, raw_sss.fif, raw_tsss.fif, _meg.fif, _eeg.fif, _ieeg.fif, raw.fif.gz, raw_sss.fif.gz, raw_tsss.fif.gz, _meg.fif.gz, _eeg.fif.gz or _ieeg.fif.gz\n",
      "  raw = mne.io.read_raw_fif(file_path, preload=True)\n",
      "C:\\Users\\Keren\\AppData\\Local\\Temp\\ipykernel_20800\\700074775.py:17: RuntimeWarning: This filename (../ProcessedData\\Male5-post_segment_1.fif) does not conform to MNE naming conventions. All raw files should end with raw.fif, raw_sss.fif, raw_tsss.fif, _meg.fif, _eeg.fif, _ieeg.fif, raw.fif.gz, raw_sss.fif.gz, raw_tsss.fif.gz, _meg.fif.gz, _eeg.fif.gz or _ieeg.fif.gz\n",
      "  raw = mne.io.read_raw_fif(file_path, preload=True)\n"
     ]
    },
    {
     "name": "stdout",
     "output_type": "stream",
     "text": [
      "    Range : 0 ... 5749 =      0.000 ...    11.498 secs\n",
      "Ready.\n",
      "Reading 0 ... 5749  =      0.000 ...    11.498 secs...\n",
      "Opening raw data file ../ProcessedData\\Male5-post_segment_3.fif...\n",
      "    Range : 0 ... 5749 =      0.000 ...    11.498 secs\n",
      "Ready.\n",
      "Reading 0 ... 5749  =      0.000 ...    11.498 secs...\n",
      "Opening raw data file ../ProcessedData\\Male5-post_segment_4.fif...\n",
      "    Range : 0 ... 5749 =      0.000 ...    11.498 secs\n",
      "Ready.\n",
      "Reading 0 ... 5749  =      0.000 ...    11.498 secs...\n",
      "Opening raw data file ../ProcessedData\\Male5-post_segment_5.fif...\n",
      "    Range : 0 ... 5749 =      0.000 ...    11.498 secs\n",
      "Ready.\n",
      "Reading 0 ... 5749  =      0.000 ...    11.498 secs...\n",
      "Opening raw data file ../ProcessedData\\Male5-post_segment_6.fif...\n",
      "    Range : 0 ... 5749 =      0.000 ...    11.498 secs\n",
      "Ready.\n",
      "Reading 0 ... 5749  =      0.000 ...    11.498 secs...\n",
      "Opening raw data file ../ProcessedData\\Male6-post_segment_1.fif...\n",
      "    Range : 0 ... 5749 =      0.000 ...    11.498 secs\n",
      "Ready.\n",
      "Reading 0 ... 5749  =      0.000 ...    11.498 secs...\n",
      "Opening raw data file ../ProcessedData\\Male6-post_segment_2.fif...\n",
      "    Range : 0 ... 5749 =      0.000 ...    11.498 secs\n",
      "Ready.\n",
      "Reading 0 ... 5749  =      0.000 ...    11.498 secs...\n",
      "Opening raw data file ../ProcessedData\\Male6-post_segment_3.fif...\n",
      "    Range : 0 ... 5749 =      0.000 ...    11.498 secs\n",
      "Ready.\n",
      "Reading 0 ... 5749  =      0.000 ...    11.498 secs...\n",
      "Opening raw data file ../ProcessedData\\Male6-post_segment_4.fif...\n",
      "    Range : 0 ... 5749 =      0.000 ...    11.498 secs\n",
      "Ready.\n",
      "Reading 0 ... 5749  =      0.000 ...    11.498 secs...\n",
      "Opening raw data file ../ProcessedData\\Male6-post_segment_5.fif...\n",
      "    Range : 0 ... 5749 =      0.000 ...    11.498 secs\n",
      "Ready.\n",
      "Reading 0 ... 5749  =      0.000 ...    11.498 secs...\n",
      "Opening raw data file ../ProcessedData\\Male6-post_segment_6.fif...\n",
      "    Range : 0 ... 5749 =      0.000 ...    11.498 secs\n",
      "Ready.\n",
      "Reading 0 ... 5749  =      0.000 ...    11.498 secs...\n"
     ]
    },
    {
     "name": "stderr",
     "output_type": "stream",
     "text": [
      "C:\\Users\\Keren\\AppData\\Local\\Temp\\ipykernel_20800\\700074775.py:17: RuntimeWarning: This filename (../ProcessedData\\Male5-post_segment_2.fif) does not conform to MNE naming conventions. All raw files should end with raw.fif, raw_sss.fif, raw_tsss.fif, _meg.fif, _eeg.fif, _ieeg.fif, raw.fif.gz, raw_sss.fif.gz, raw_tsss.fif.gz, _meg.fif.gz, _eeg.fif.gz or _ieeg.fif.gz\n",
      "  raw = mne.io.read_raw_fif(file_path, preload=True)\n",
      "C:\\Users\\Keren\\AppData\\Local\\Temp\\ipykernel_20800\\700074775.py:17: RuntimeWarning: This filename (../ProcessedData\\Male5-post_segment_3.fif) does not conform to MNE naming conventions. All raw files should end with raw.fif, raw_sss.fif, raw_tsss.fif, _meg.fif, _eeg.fif, _ieeg.fif, raw.fif.gz, raw_sss.fif.gz, raw_tsss.fif.gz, _meg.fif.gz, _eeg.fif.gz or _ieeg.fif.gz\n",
      "  raw = mne.io.read_raw_fif(file_path, preload=True)\n",
      "C:\\Users\\Keren\\AppData\\Local\\Temp\\ipykernel_20800\\700074775.py:17: RuntimeWarning: This filename (../ProcessedData\\Male5-post_segment_4.fif) does not conform to MNE naming conventions. All raw files should end with raw.fif, raw_sss.fif, raw_tsss.fif, _meg.fif, _eeg.fif, _ieeg.fif, raw.fif.gz, raw_sss.fif.gz, raw_tsss.fif.gz, _meg.fif.gz, _eeg.fif.gz or _ieeg.fif.gz\n",
      "  raw = mne.io.read_raw_fif(file_path, preload=True)\n",
      "C:\\Users\\Keren\\AppData\\Local\\Temp\\ipykernel_20800\\700074775.py:17: RuntimeWarning: This filename (../ProcessedData\\Male5-post_segment_5.fif) does not conform to MNE naming conventions. All raw files should end with raw.fif, raw_sss.fif, raw_tsss.fif, _meg.fif, _eeg.fif, _ieeg.fif, raw.fif.gz, raw_sss.fif.gz, raw_tsss.fif.gz, _meg.fif.gz, _eeg.fif.gz or _ieeg.fif.gz\n",
      "  raw = mne.io.read_raw_fif(file_path, preload=True)\n",
      "C:\\Users\\Keren\\AppData\\Local\\Temp\\ipykernel_20800\\700074775.py:17: RuntimeWarning: This filename (../ProcessedData\\Male5-post_segment_6.fif) does not conform to MNE naming conventions. All raw files should end with raw.fif, raw_sss.fif, raw_tsss.fif, _meg.fif, _eeg.fif, _ieeg.fif, raw.fif.gz, raw_sss.fif.gz, raw_tsss.fif.gz, _meg.fif.gz, _eeg.fif.gz or _ieeg.fif.gz\n",
      "  raw = mne.io.read_raw_fif(file_path, preload=True)\n",
      "C:\\Users\\Keren\\AppData\\Local\\Temp\\ipykernel_20800\\700074775.py:17: RuntimeWarning: This filename (../ProcessedData\\Male6-post_segment_1.fif) does not conform to MNE naming conventions. All raw files should end with raw.fif, raw_sss.fif, raw_tsss.fif, _meg.fif, _eeg.fif, _ieeg.fif, raw.fif.gz, raw_sss.fif.gz, raw_tsss.fif.gz, _meg.fif.gz, _eeg.fif.gz or _ieeg.fif.gz\n",
      "  raw = mne.io.read_raw_fif(file_path, preload=True)\n",
      "C:\\Users\\Keren\\AppData\\Local\\Temp\\ipykernel_20800\\700074775.py:17: RuntimeWarning: This filename (../ProcessedData\\Male6-post_segment_2.fif) does not conform to MNE naming conventions. All raw files should end with raw.fif, raw_sss.fif, raw_tsss.fif, _meg.fif, _eeg.fif, _ieeg.fif, raw.fif.gz, raw_sss.fif.gz, raw_tsss.fif.gz, _meg.fif.gz, _eeg.fif.gz or _ieeg.fif.gz\n",
      "  raw = mne.io.read_raw_fif(file_path, preload=True)\n",
      "C:\\Users\\Keren\\AppData\\Local\\Temp\\ipykernel_20800\\700074775.py:17: RuntimeWarning: This filename (../ProcessedData\\Male6-post_segment_3.fif) does not conform to MNE naming conventions. All raw files should end with raw.fif, raw_sss.fif, raw_tsss.fif, _meg.fif, _eeg.fif, _ieeg.fif, raw.fif.gz, raw_sss.fif.gz, raw_tsss.fif.gz, _meg.fif.gz, _eeg.fif.gz or _ieeg.fif.gz\n",
      "  raw = mne.io.read_raw_fif(file_path, preload=True)\n",
      "C:\\Users\\Keren\\AppData\\Local\\Temp\\ipykernel_20800\\700074775.py:17: RuntimeWarning: This filename (../ProcessedData\\Male6-post_segment_4.fif) does not conform to MNE naming conventions. All raw files should end with raw.fif, raw_sss.fif, raw_tsss.fif, _meg.fif, _eeg.fif, _ieeg.fif, raw.fif.gz, raw_sss.fif.gz, raw_tsss.fif.gz, _meg.fif.gz, _eeg.fif.gz or _ieeg.fif.gz\n",
      "  raw = mne.io.read_raw_fif(file_path, preload=True)\n",
      "C:\\Users\\Keren\\AppData\\Local\\Temp\\ipykernel_20800\\700074775.py:17: RuntimeWarning: This filename (../ProcessedData\\Male6-post_segment_5.fif) does not conform to MNE naming conventions. All raw files should end with raw.fif, raw_sss.fif, raw_tsss.fif, _meg.fif, _eeg.fif, _ieeg.fif, raw.fif.gz, raw_sss.fif.gz, raw_tsss.fif.gz, _meg.fif.gz, _eeg.fif.gz or _ieeg.fif.gz\n",
      "  raw = mne.io.read_raw_fif(file_path, preload=True)\n",
      "C:\\Users\\Keren\\AppData\\Local\\Temp\\ipykernel_20800\\700074775.py:17: RuntimeWarning: This filename (../ProcessedData\\Male6-post_segment_6.fif) does not conform to MNE naming conventions. All raw files should end with raw.fif, raw_sss.fif, raw_tsss.fif, _meg.fif, _eeg.fif, _ieeg.fif, raw.fif.gz, raw_sss.fif.gz, raw_tsss.fif.gz, _meg.fif.gz, _eeg.fif.gz or _ieeg.fif.gz\n",
      "  raw = mne.io.read_raw_fif(file_path, preload=True)\n"
     ]
    }
   ],
   "source": [
    "import mne\n",
    "import numpy as np\n",
    "import os\n",
    "#1、本身是否有可分的机制（听男或者听女，听左或这听右）假设可分性成立。SS（M）VEP（视觉稳态）。SSAEP。\n",
    "#2、选择合适的模型去将其分出来。模型可能可分，也可能不可分。\n",
    "#3、解释模型（梯度IG）得到生物性结论，做出假设性分析、推理。工科从结果论出发，不是从生物学出发。回到第一点\n",
    "#鸡尾酒会效应 = SS  —— 在多个不同频率的视觉、听觉的刺激中，注意力机制，会引发脑电信号的不同频率响应。\n",
    "#鸡尾酒会效应—— 在多个声源的场合，注意力会集中在听觉目标上，而忽视其他的声源。\n",
    "#我现在的声源，是男 、 女 ，具有较强的频率差别。 ≈ SSAEP/SSVEP\n",
    "#类内差异要小于类间差异。 男和女的声音是一样的。\n",
    "#注意对抗——算法。解释身边最普通的，真实存在的现象。\n",
    "#1、机制研究（现在做的，算法只是工具）AAD\n",
    "#2、怎么捕捉这个机制（算法的创新）身边的小痛点【注意对抗和单注意】【含噪音的，存在注意对抗】【不含噪音，单个注意源】\n",
    "#3、注意对抗1和2的引发性实验\n",
    "# 设置文件路径\n",
    "#Data1是男，Data2是女\n",
    "data_folder = '../ProcessedData'\n",
    "file_names = [\"Female1-post_segment_1.fif\",\"Female1-post_segment_2.fif\",\"Female1-post_segment_3.fif\",\"Female1-post_segment_4.fif\",\"Female1-post_segment_5.fif\",\"Female1-post_segment_6.fif\",\"Female2-post_segment_1.fif\",\"Female2-post_segment_2.fif\",\"Female2-post_segment_3.fif\",\"Female2-post_segment_4.fif\",\"Female2-post_segment_5.fif\",\"Female2-post_segment_6.fif\",\"Female3-post_segment_1.fif\",\"Female3-post_segment_2.fif\",\"Female3-post_segment_3.fif\",\"Female3-post_segment_4.fif\",\"Female3-post_segment_5.fif\",\"Female3-post_segment_6.fif\",\"Female7-post_segment_1.fif\",\"Female7-post_segment_2.fif\",\"Female7-post_segment_3.fif\",\"Female7-post_segment_4.fif\",\"Female7-post_segment_5.fif\",\"Female7-post_segment_6.fif\",\"Female8-post_segment_1.fif\",\"Female8-post_segment_2.fif\",\"Female8-post_segment_3.fif\",\"Female8-post_segment_4.fif\",\"Female8-post_segment_5.fif\",\"Female8-post_segment_6.fif\",\"Male1-post_segment_1.fif\",\"Male1-post_segment_2.fif\",\"Male1-post_segment_3.fif\",\"Male1-post_segment_4.fif\",\"Male1-post_segment_5.fif\",\"Male1-post_segment_6.fif\", \"Male2-post_segment_1.fif\",\"Male2-post_segment_2.fif\",\"Male2-post_segment_3.fif\",\"Male2-post_segment_4.fif\",\"Male2-post_segment_5.fif\",\"Male2-post_segment_6.fif\", \"Male4-post_segment_1.fif\",\"Male4-post_segment_2.fif\",\"Male4-post_segment_3.fif\",\"Male4-post_segment_4.fif\",\"Male4-post_segment_5.fif\",\"Male4-post_segment_6.fif\",\"Male5-post_segment_1.fif\",\"Male5-post_segment_2.fif\",\"Male5-post_segment_3.fif\",\"Male5-post_segment_4.fif\",\"Male5-post_segment_5.fif\",\"Male5-post_segment_6.fif\",\"Male6-post_segment_1.fif\",\"Male6-post_segment_2.fif\",\"Male6-post_segment_3.fif\",\"Male6-post_segment_4.fif\",\"Male6-post_segment_5.fif\",\"Male6-post_segment_6.fif\",]\n",
    "#\"Data1-post_segment_1.fif\", \"Data1-post_segment_2.fif\",\"Data1-post_segment_3.fif\",\"Data1-post_segment_4.fif\",\"Data1-post_segment_5.fif\",\"Data1-post_segment_6.fif\",\"TestData1-post_segment_1.fif\",\"TestData1-post_segment_2.fif\",\"TestData1-post_segment_3.fif\",\"TestData1-post_segment_4.fif\",\"TestData1-post_segment_5.fif\",\"TestData1-post_segment_6.fif\",\"TestData2-post_segment_1.fif\",\"TestData2-post_segment_2.fif\",\"TestData2-post_segment_3.fif\",\"TestData2-post_segment_4.fif\",\"TestData2-post_segment_5.fif\",\"TestData2-post_segment_6.fif\",]\n",
    "dataLabel = [0,0,0,0,0,0,0,0,0,0,0,0,0,0,0,0,0,0,0,0,0,0,0,0,0,0,0,0,0,0,1,1,1,1,1,1,1,1,1,1,1,1,1,1,1,1,1,1,1,1,1,1,1,1,1,1,1,1,1,1]\n",
    "\n",
    "\n",
    "\n",
    "# 用于存储每段 EEG 数据的列表\n",
    "eeg_data_list = []\n",
    "\n",
    "# 读取每个文件中的 EEG 数据\n",
    "for file_name in file_names:\n",
    "    file_path = os.path.join(data_folder, file_name)\n",
    "    raw = mne.io.read_raw_fif(file_path, preload=True)\n",
    "    \n",
    "    # 提取前 32 个通道是 EEG 通道\n",
    "    eeg_data = raw.get_data()[:32, :]\n",
    "    eeg_data_list.append(eeg_data)\n",
    "\n",
    "# 将列表中的 EEG 数据合并为一个 numpy 数组\n",
    "data = np.stack(eeg_data_list, axis=0)"
   ]
  },
  {
   "cell_type": "code",
   "execution_count": 2,
   "outputs": [
    {
     "name": "stderr",
     "output_type": "stream",
     "text": [
      "C:\\Users\\Keren\\AppData\\Local\\Temp\\ipykernel_20800\\3404352965.py:40: RuntimeWarning: More than 20 figures have been opened. Figures created through the pyplot interface (`matplotlib.pyplot.figure`) are retained until explicitly closed and may consume too much memory. (To control this warning, see the rcParam `figure.max_open_warning`). Consider using `matplotlib.pyplot.close()`.\n",
      "  fig = plt.figure()\n"
     ]
    },
    {
     "name": "stdout",
     "output_type": "stream",
     "text": [
      "data/Female/0.jpg\n",
      "data/Female/1.jpg\n",
      "data/Female/10.jpg\n",
      "data/Female/11.jpg\n",
      "data/Female/12.jpg\n",
      "data/Female/13.jpg\n",
      "data/Female/14.jpg\n",
      "data/Female/15.jpg\n",
      "data/Female/16.jpg\n",
      "data/Female/17.jpg\n",
      "data/Female/18.jpg\n",
      "data/Female/19.jpg\n",
      "data/Female/2.jpg\n",
      "data/Female/20.jpg\n",
      "data/Female/21.jpg\n",
      "data/Female/22.jpg\n",
      "data/Female/23.jpg\n",
      "data/Female/24.jpg\n",
      "data/Female/25.jpg\n",
      "data/Female/26.jpg\n",
      "data/Female/27.jpg\n",
      "data/Female/28.jpg\n",
      "data/Female/29.jpg\n",
      "data/Female/3.jpg\n",
      "data/Female/4.jpg\n",
      "data/Female/5.jpg\n",
      "data/Female/6.jpg\n",
      "data/Female/7.jpg\n",
      "data/Female/8.jpg\n",
      "data/Female/9.jpg\n",
      "data/Male/30.jpg\n",
      "data/Male/31.jpg\n",
      "data/Male/32.jpg\n",
      "data/Male/33.jpg\n",
      "data/Male/34.jpg\n",
      "data/Male/35.jpg\n",
      "data/Male/36.jpg\n",
      "data/Male/37.jpg\n",
      "data/Male/38.jpg\n",
      "data/Male/39.jpg\n",
      "data/Male/40.jpg\n",
      "data/Male/41.jpg\n",
      "data/Male/42.jpg\n",
      "data/Male/43.jpg\n",
      "data/Male/44.jpg\n",
      "data/Male/45.jpg\n",
      "data/Male/46.jpg\n",
      "data/Male/47.jpg\n",
      "data/Male/48.jpg\n",
      "data/Male/49.jpg\n",
      "data/Male/50.jpg\n",
      "data/Male/51.jpg\n",
      "data/Male/52.jpg\n",
      "data/Male/53.jpg\n",
      "data/Male/54.jpg\n",
      "data/Male/55.jpg\n",
      "data/Male/56.jpg\n",
      "data/Male/57.jpg\n",
      "data/Male/58.jpg\n",
      "data/Male/59.jpg\n",
      "wavelet transfrom completed\n"
     ]
    },
    {
     "data": {
      "text/plain": "<Figure size 800x600 with 0 Axes>"
     },
     "metadata": {},
     "output_type": "display_data"
    },
    {
     "data": {
      "text/plain": "<Figure size 800x600 with 0 Axes>"
     },
     "metadata": {},
     "output_type": "display_data"
    },
    {
     "data": {
      "text/plain": "<Figure size 800x600 with 0 Axes>"
     },
     "metadata": {},
     "output_type": "display_data"
    },
    {
     "data": {
      "text/plain": "<Figure size 800x600 with 0 Axes>"
     },
     "metadata": {},
     "output_type": "display_data"
    },
    {
     "data": {
      "text/plain": "<Figure size 800x600 with 0 Axes>"
     },
     "metadata": {},
     "output_type": "display_data"
    },
    {
     "data": {
      "text/plain": "<Figure size 800x600 with 0 Axes>"
     },
     "metadata": {},
     "output_type": "display_data"
    },
    {
     "data": {
      "text/plain": "<Figure size 800x600 with 0 Axes>"
     },
     "metadata": {},
     "output_type": "display_data"
    },
    {
     "data": {
      "text/plain": "<Figure size 800x600 with 0 Axes>"
     },
     "metadata": {},
     "output_type": "display_data"
    },
    {
     "data": {
      "text/plain": "<Figure size 800x600 with 0 Axes>"
     },
     "metadata": {},
     "output_type": "display_data"
    },
    {
     "data": {
      "text/plain": "<Figure size 800x600 with 0 Axes>"
     },
     "metadata": {},
     "output_type": "display_data"
    },
    {
     "data": {
      "text/plain": "<Figure size 800x600 with 0 Axes>"
     },
     "metadata": {},
     "output_type": "display_data"
    },
    {
     "data": {
      "text/plain": "<Figure size 800x600 with 0 Axes>"
     },
     "metadata": {},
     "output_type": "display_data"
    },
    {
     "data": {
      "text/plain": "<Figure size 800x600 with 0 Axes>"
     },
     "metadata": {},
     "output_type": "display_data"
    },
    {
     "data": {
      "text/plain": "<Figure size 800x600 with 0 Axes>"
     },
     "metadata": {},
     "output_type": "display_data"
    },
    {
     "data": {
      "text/plain": "<Figure size 800x600 with 0 Axes>"
     },
     "metadata": {},
     "output_type": "display_data"
    },
    {
     "data": {
      "text/plain": "<Figure size 800x600 with 0 Axes>"
     },
     "metadata": {},
     "output_type": "display_data"
    },
    {
     "data": {
      "text/plain": "<Figure size 800x600 with 0 Axes>"
     },
     "metadata": {},
     "output_type": "display_data"
    },
    {
     "data": {
      "text/plain": "<Figure size 800x600 with 0 Axes>"
     },
     "metadata": {},
     "output_type": "display_data"
    },
    {
     "data": {
      "text/plain": "<Figure size 800x600 with 0 Axes>"
     },
     "metadata": {},
     "output_type": "display_data"
    },
    {
     "data": {
      "text/plain": "<Figure size 800x600 with 0 Axes>"
     },
     "metadata": {},
     "output_type": "display_data"
    },
    {
     "data": {
      "text/plain": "<Figure size 800x600 with 0 Axes>"
     },
     "metadata": {},
     "output_type": "display_data"
    },
    {
     "data": {
      "text/plain": "<Figure size 800x600 with 0 Axes>"
     },
     "metadata": {},
     "output_type": "display_data"
    },
    {
     "data": {
      "text/plain": "<Figure size 800x600 with 0 Axes>"
     },
     "metadata": {},
     "output_type": "display_data"
    },
    {
     "data": {
      "text/plain": "<Figure size 800x600 with 0 Axes>"
     },
     "metadata": {},
     "output_type": "display_data"
    },
    {
     "data": {
      "text/plain": "<Figure size 800x600 with 0 Axes>"
     },
     "metadata": {},
     "output_type": "display_data"
    },
    {
     "data": {
      "text/plain": "<Figure size 800x600 with 0 Axes>"
     },
     "metadata": {},
     "output_type": "display_data"
    },
    {
     "data": {
      "text/plain": "<Figure size 800x600 with 0 Axes>"
     },
     "metadata": {},
     "output_type": "display_data"
    },
    {
     "data": {
      "text/plain": "<Figure size 800x600 with 0 Axes>"
     },
     "metadata": {},
     "output_type": "display_data"
    },
    {
     "data": {
      "text/plain": "<Figure size 800x600 with 0 Axes>"
     },
     "metadata": {},
     "output_type": "display_data"
    },
    {
     "data": {
      "text/plain": "<Figure size 800x600 with 0 Axes>"
     },
     "metadata": {},
     "output_type": "display_data"
    },
    {
     "data": {
      "text/plain": "<Figure size 800x600 with 0 Axes>"
     },
     "metadata": {},
     "output_type": "display_data"
    },
    {
     "data": {
      "text/plain": "<Figure size 800x600 with 0 Axes>"
     },
     "metadata": {},
     "output_type": "display_data"
    },
    {
     "data": {
      "text/plain": "<Figure size 800x600 with 0 Axes>"
     },
     "metadata": {},
     "output_type": "display_data"
    },
    {
     "data": {
      "text/plain": "<Figure size 800x600 with 0 Axes>"
     },
     "metadata": {},
     "output_type": "display_data"
    },
    {
     "data": {
      "text/plain": "<Figure size 800x600 with 0 Axes>"
     },
     "metadata": {},
     "output_type": "display_data"
    },
    {
     "data": {
      "text/plain": "<Figure size 800x600 with 0 Axes>"
     },
     "metadata": {},
     "output_type": "display_data"
    },
    {
     "data": {
      "text/plain": "<Figure size 800x600 with 0 Axes>"
     },
     "metadata": {},
     "output_type": "display_data"
    },
    {
     "data": {
      "text/plain": "<Figure size 800x600 with 0 Axes>"
     },
     "metadata": {},
     "output_type": "display_data"
    },
    {
     "data": {
      "text/plain": "<Figure size 800x600 with 0 Axes>"
     },
     "metadata": {},
     "output_type": "display_data"
    },
    {
     "data": {
      "text/plain": "<Figure size 800x600 with 0 Axes>"
     },
     "metadata": {},
     "output_type": "display_data"
    },
    {
     "data": {
      "text/plain": "<Figure size 800x600 with 0 Axes>"
     },
     "metadata": {},
     "output_type": "display_data"
    },
    {
     "data": {
      "text/plain": "<Figure size 800x600 with 0 Axes>"
     },
     "metadata": {},
     "output_type": "display_data"
    },
    {
     "data": {
      "text/plain": "<Figure size 800x600 with 0 Axes>"
     },
     "metadata": {},
     "output_type": "display_data"
    },
    {
     "data": {
      "text/plain": "<Figure size 800x600 with 0 Axes>"
     },
     "metadata": {},
     "output_type": "display_data"
    },
    {
     "data": {
      "text/plain": "<Figure size 800x600 with 0 Axes>"
     },
     "metadata": {},
     "output_type": "display_data"
    },
    {
     "data": {
      "text/plain": "<Figure size 800x600 with 0 Axes>"
     },
     "metadata": {},
     "output_type": "display_data"
    },
    {
     "data": {
      "text/plain": "<Figure size 800x600 with 0 Axes>"
     },
     "metadata": {},
     "output_type": "display_data"
    },
    {
     "data": {
      "text/plain": "<Figure size 800x600 with 0 Axes>"
     },
     "metadata": {},
     "output_type": "display_data"
    },
    {
     "data": {
      "text/plain": "<Figure size 800x600 with 0 Axes>"
     },
     "metadata": {},
     "output_type": "display_data"
    },
    {
     "data": {
      "text/plain": "<Figure size 800x600 with 0 Axes>"
     },
     "metadata": {},
     "output_type": "display_data"
    },
    {
     "data": {
      "text/plain": "<Figure size 800x600 with 0 Axes>"
     },
     "metadata": {},
     "output_type": "display_data"
    },
    {
     "data": {
      "text/plain": "<Figure size 800x600 with 0 Axes>"
     },
     "metadata": {},
     "output_type": "display_data"
    },
    {
     "data": {
      "text/plain": "<Figure size 800x600 with 0 Axes>"
     },
     "metadata": {},
     "output_type": "display_data"
    },
    {
     "data": {
      "text/plain": "<Figure size 800x600 with 0 Axes>"
     },
     "metadata": {},
     "output_type": "display_data"
    },
    {
     "data": {
      "text/plain": "<Figure size 800x600 with 0 Axes>"
     },
     "metadata": {},
     "output_type": "display_data"
    },
    {
     "data": {
      "text/plain": "<Figure size 800x600 with 0 Axes>"
     },
     "metadata": {},
     "output_type": "display_data"
    },
    {
     "data": {
      "text/plain": "<Figure size 800x600 with 0 Axes>"
     },
     "metadata": {},
     "output_type": "display_data"
    },
    {
     "data": {
      "text/plain": "<Figure size 800x600 with 0 Axes>"
     },
     "metadata": {},
     "output_type": "display_data"
    },
    {
     "data": {
      "text/plain": "<Figure size 800x600 with 0 Axes>"
     },
     "metadata": {},
     "output_type": "display_data"
    },
    {
     "data": {
      "text/plain": "<Figure size 800x600 with 0 Axes>"
     },
     "metadata": {},
     "output_type": "display_data"
    }
   ],
   "source": [
    "import pywt\n",
    "import matplotlib.pyplot as plt\n",
    "\n",
    "TimeStart = 0                     # start time\n",
    "TimeEnd = 11.5                       # end time \n",
    "sampleRate = 500\n",
    "samplePointStart=TimeStart*sampleRate\n",
    "samplePointEnd=TimeEnd*sampleRate\n",
    "wavename = 'morl'    \n",
    "totalscal = 69    # scale \n",
    "fc = pywt.central_frequency(wavename) #  central frequency\n",
    "cparam = 2 * fc * totalscal\n",
    "scales = cparam/np.arange(1,totalscal+1)\n",
    "t = np.arange(TimeStart,TimeEnd,1.0/sampleRate)\n",
    "###\n",
    "\n",
    "for i in range(data.shape[0]):  # 每一条数据\n",
    "    cwt_data = data[i, :, :]  \n",
    "\n",
    "    channels = 32\n",
    "    # 初始化小波时频图\n",
    "    cwtmatr = np.zeros((channels, len(scales), len(t)))\n",
    "    \n",
    "    # 对每个通道进行小波变换\n",
    "    for j in range(channels):\n",
    "        cwtmatr[j, :, :], frequencies = pywt.cwt(cwt_data[j, :], scales, wavename, 1.0/sampleRate)\n",
    "    \n",
    "    # 将所有通道的小波时频图合并\n",
    "    avg_cwtmatr = np.mean(cwtmatr, axis=0)\n",
    "\n",
    "    # for j in range(cwt_data.shape[0]):  # 每个通道\n",
    "    #     [cwtmatr, _] = pywt.cwt(cwt_data[j, :], scales, wavename, 1.0/sampling_rate)\n",
    "    #     cwt_channel_matrices.append(cwtmatr)\n",
    "    #     cwtmatr = np.concatenate([abs(cwtmatr3), abs(cwtmatrZ), abs(cwtmatr4)],axis=0)\n",
    "    # print(np.array(cwtmatr).shape)\n",
    "    \n",
    "   \n",
    "    \n",
    "    #cwt_channel_matrices = np.array(cwt_channel_matrices).flatten()\n",
    "    fig = plt.figure()\n",
    "    plt.contourf(avg_cwtmatr)\n",
    "    plt.xticks([])  # remove x\n",
    "    plt.yticks([])  # remove y\n",
    "    plt.axis('off') # remove axis\n",
    "    fig.set_size_inches(800/100.0,600/100.0)#  set pixels width*height\n",
    "    plt.gca().xaxis.set_major_locator(plt.NullLocator())\n",
    "    plt.gca().yaxis.set_major_locator(plt.NullLocator())\n",
    "    plt.subplots_adjust(top=1,bottom=0,left=0,right=1,hspace =0, wspace =0) \n",
    "    plt.margins(0,0)\n",
    "#     plt.colorbar()\n",
    "    if not os.path.exists('data/'):\n",
    "        os.mkdir('data/')\n",
    "    if not os.path.exists('data/Female/'):\n",
    "        os.mkdir('data/Female/')\n",
    "        os.mkdir('data/Male/')\n",
    "    if dataLabel[i] == 0:\n",
    "        filepath = r'data/Female/'+str(i)+'.jpg'\n",
    "    if dataLabel[i] == 1:\n",
    "        filepath = r'data/Male/'+str(i)+'.jpg'\n",
    "    \n",
    "  \n",
    "    #print(filepath)  \n",
    "    fig.savefig(filepath)\n",
    "    fig.clear()\n",
    "\n",
    "\n",
    "import cv2\n",
    "def cut_image(path):\n",
    "    for i in os.listdir(path):\n",
    "        print(path+i)\n",
    "        cv2.imwrite(path+i,cv2.imread(path+i)[400:600])\n",
    "cut_image('data/Female/')       \n",
    "cut_image('data/Male/')  \n",
    "print('wavelet transfrom completed')"
   ],
   "metadata": {
    "collapsed": false,
    "ExecuteTime": {
     "end_time": "2023-12-07T03:55:56.416684400Z",
     "start_time": "2023-12-07T03:55:27.217388900Z"
    }
   },
   "id": "593db026cb60ad12"
  },
  {
   "cell_type": "code",
   "execution_count": 2,
   "outputs": [],
   "source": [
    "BDANet"
   ],
   "metadata": {
    "collapsed": false,
    "ExecuteTime": {
     "end_time": "2023-12-06T15:46:59.696001600Z",
     "start_time": "2023-12-06T15:46:59.494585200Z"
    }
   },
   "id": "8d2064625fb86826"
  },
  {
   "cell_type": "raw",
   "source": [
    "# 训练模型"
   ],
   "metadata": {
    "collapsed": false
   },
   "id": "84109acf191dea37"
  },
  {
   "cell_type": "code",
   "execution_count": 59,
   "outputs": [
    {
     "name": "stdout",
     "output_type": "stream",
     "text": [
      "['data/Female/0.jpg' 'data/Female/1.jpg' 'data/Female/10.jpg'\n",
      " 'data/Female/11.jpg' 'data/Female/12.jpg' 'data/Female/13.jpg'\n",
      " 'data/Female/14.jpg' 'data/Female/15.jpg' 'data/Female/16.jpg'\n",
      " 'data/Female/17.jpg' 'data/Female/18.jpg' 'data/Female/19.jpg'\n",
      " 'data/Female/2.jpg' 'data/Female/20.jpg' 'data/Female/21.jpg'\n",
      " 'data/Female/22.jpg' 'data/Female/23.jpg' 'data/Female/24.jpg'\n",
      " 'data/Female/25.jpg' 'data/Female/26.jpg' 'data/Female/27.jpg'\n",
      " 'data/Female/28.jpg' 'data/Female/29.jpg' 'data/Female/3.jpg'\n",
      " 'data/Female/4.jpg' 'data/Female/5.jpg' 'data/Female/6.jpg'\n",
      " 'data/Female/7.jpg' 'data/Female/8.jpg' 'data/Female/9.jpg'\n",
      " 'data/Male/30.jpg' 'data/Male/31.jpg' 'data/Male/32.jpg'\n",
      " 'data/Male/33.jpg' 'data/Male/34.jpg' 'data/Male/35.jpg'\n",
      " 'data/Male/36.jpg' 'data/Male/37.jpg' 'data/Male/38.jpg'\n",
      " 'data/Male/39.jpg' 'data/Male/40.jpg' 'data/Male/41.jpg'\n",
      " 'data/Male/42.jpg' 'data/Male/43.jpg' 'data/Male/44.jpg'\n",
      " 'data/Male/45.jpg' 'data/Male/46.jpg' 'data/Male/47.jpg'\n",
      " 'data/Male/48.jpg' 'data/Male/49.jpg' 'data/Male/50.jpg'\n",
      " 'data/Male/51.jpg' 'data/Male/52.jpg' 'data/Male/53.jpg'\n",
      " 'data/Male/54.jpg' 'data/Male/55.jpg' 'data/Male/56.jpg'\n",
      " 'data/Male/57.jpg' 'data/Male/58.jpg' 'data/Male/59.jpg'] [1, 1, 1, 1, 1, 1, 1, 1, 1, 1, 1, 1, 1, 1, 1, 1, 1, 1, 1, 1, 1, 1, 1, 1, 1, 1, 1, 1, 1, 1, 2, 2, 2, 2, 2, 2, 2, 2, 2, 2, 2, 2, 2, 2, 2, 2, 2, 2, 2, 2, 2, 2, 2, 2, 2, 2, 2, 2, 2, 2]\n"
     ]
    }
   ],
   "source": [
    "# read train data  figure-->tensor\n",
    "# read_file \n",
    "# decode_png\n",
    "# load feature dataset\n",
    "\n",
    "import tensorflow as tf\n",
    "import numpy as np\n",
    "tf.compat.v1.disable_v2_behavior()\n",
    "\n",
    "def get_file(file_list):\n",
    "    label_list = []\n",
    "    image_list = []\n",
    "    for i in file_list:\n",
    "        image_list.append([i+j for j in os.listdir(i)])\n",
    "    image_list = np.array(image_list).flatten()\n",
    "    for i in image_list:\n",
    "        if 'Female' in i:\n",
    "            label_list.append(1)\n",
    "        else:\n",
    "            label_list.append(2)\n",
    "    # label_list = [label_list.append(1) if 'Female' in i else label_list.append(2) for i in image_list]\n",
    "    print(image_list,label_list)\n",
    "    index = np.random.permutation(len(image_list))\n",
    "    return np.array(image_list)[index], np.array(label_list)[index]\n",
    "\n",
    "pathname = ['data/Female/','data/Male/']\n",
    "image_list, label_list = get_file(pathname) "
   ],
   "metadata": {
    "collapsed": false,
    "ExecuteTime": {
     "end_time": "2023-12-06T16:10:28.738145800Z",
     "start_time": "2023-12-06T16:10:28.723195500Z"
    }
   },
   "id": "fc078429ec4dd4d5"
  },
  {
   "cell_type": "code",
   "execution_count": 59,
   "outputs": [],
   "source": [],
   "metadata": {
    "collapsed": false,
    "ExecuteTime": {
     "end_time": "2023-12-06T16:10:29.685932900Z",
     "start_time": "2023-12-06T16:10:29.674457300Z"
    }
   },
   "id": "c50a78c090de2235"
  },
  {
   "cell_type": "code",
   "execution_count": 59,
   "outputs": [],
   "source": [],
   "metadata": {
    "collapsed": false,
    "ExecuteTime": {
     "end_time": "2023-12-06T16:10:29.938170400Z",
     "start_time": "2023-12-06T16:10:29.926210700Z"
    }
   },
   "id": "505750905d96b2d7"
  },
  {
   "cell_type": "code",
   "execution_count": 67,
   "outputs": [
    {
     "name": "stdout",
     "output_type": "stream",
     "text": [
      "Model: \"sequential_8\"\n",
      "_________________________________________________________________\n",
      " Layer (type)                Output Shape              Param #   \n",
      "=================================================================\n",
      " conv2d_1 (Conv2D)           (None, 32, 32, 16)        448       \n",
      "                                                                 \n",
      " activation_1 (Activation)   (None, 32, 32, 16)        0         \n",
      "                                                                 \n",
      " conv2d_2 (Conv2D)           (None, 32, 32, 64)        9280      \n",
      "                                                                 \n",
      " activation_2 (Activation)   (None, 32, 32, 64)        0         \n",
      "                                                                 \n",
      " conv2d_3 (Conv2D)           (None, 32, 32, 128)       73856     \n",
      "                                                                 \n",
      " activation_3 (Activation)   (None, 32, 32, 128)       0         \n",
      "                                                                 \n",
      " maxpool2d_3 (MaxPooling2D)  (None, 16, 16, 128)       0         \n",
      "                                                                 \n",
      " conv2d_4 (Conv2D)           (None, 16, 16, 256)       295168    \n",
      "                                                                 \n",
      " activation_4 (Activation)   (None, 16, 16, 256)       0         \n",
      "                                                                 \n",
      " conv2d_5 (Conv2D)           (None, 16, 16, 512)       1180160   \n",
      "                                                                 \n",
      " activation_5 (Activation)   (None, 16, 16, 512)       0         \n",
      "                                                                 \n",
      " maxpool2d_5 (MaxPooling2D)  (None, 8, 8, 512)         0         \n",
      "                                                                 \n",
      " conv2d_6 (Conv2D)           (None, 8, 8, 512)         2359808   \n",
      "                                                                 \n",
      " activation_6 (Activation)   (None, 8, 8, 512)         0         \n",
      "                                                                 \n",
      " maxpool2d_6 (MaxPooling2D)  (None, 4, 4, 512)         0         \n",
      "                                                                 \n",
      " flatten_1 (Flatten)         (None, 8192)              0         \n",
      "                                                                 \n",
      " dense_1 (Dense)             (None, 512)               4194816   \n",
      "                                                                 \n",
      " activation_7 (Activation)   (None, 512)               0         \n",
      "                                                                 \n",
      " dropout_7 (Dropout)         (None, 512)               0         \n",
      "                                                                 \n",
      " dense_2 (Dense)             (None, 2)                 1026      \n",
      "                                                                 \n",
      " activation_8 (Activation)   (None, 2)                 0         \n",
      "                                                                 \n",
      "=================================================================\n",
      "Total params: 8,114,562\n",
      "Trainable params: 8,114,562\n",
      "Non-trainable params: 0\n",
      "_________________________________________________________________\n"
     ]
    },
    {
     "data": {
      "text/plain": "' \\ndef scheduler(epoch):\\n    if epoch % 30 == 0 and epoch != 0:\\n        lr = K.get_value(model.optimizer.lr)\\n        K.set_value(model.optimizer.lr, lr * 0.1)\\n        print(\"lr changed to {}\".format(lr * 0.1))\\n    return K.get_value(model.optimizer.lr)\\n'"
     },
     "execution_count": 67,
     "metadata": {},
     "output_type": "execute_result"
    }
   ],
   "source": [
    "\n",
    "# Keras \n",
    "from keras.models import Sequential\n",
    "from keras.layers import Dense, Dropout, Activation, Flatten\n",
    "from keras.layers import Conv2D, Conv1D, BatchNormalization, MaxPool2D\n",
    "from keras.optimizers import Adam            # 优化器\n",
    "from sklearn.model_selection import train_test_split\n",
    "import keras \n",
    "from keras import regularizers\n",
    "import keras.backend as K\n",
    "# from keras.callbacks import ReduceLROnPlateau\n",
    "from keras.callbacks import LearningRateScheduler\n",
    "s=32\n",
    "input_shape = (s, s, 3)\n",
    "num_classes = 2\n",
    "model_name = 'wavelet_cnn.h5'\n",
    "#定义模型\n",
    "model = Sequential()\n",
    "\n",
    "model.add(Conv2D(16, (3,3), padding = 'same', input_shape = input_shape, kernel_initializer = 'he_normal', name = 'conv2d_1'))\n",
    "model.add(Activation('relu',name = 'activation_1'))\n",
    "# model.add(MaxPool2D(pool_size=(4,4),name = 'maxpool2d_1'))\n",
    "# model.add(Dropout(0.5,name = 'dropout_1'))\n",
    "\n",
    "model.add(Conv2D(64, (3,3), padding = 'same',kernel_initializer = 'he_normal', name = 'conv2d_2'))\n",
    "model.add(Activation('relu',name = 'activation_2'))\n",
    "# model.add(MaxPool2D(pool_size=(2,2),name = 'maxpool2d_2'))\n",
    "# model.add(Dropout(0.5,name = 'dropout_2'))\n",
    "\n",
    "model.add(Conv2D(128, (3,3), padding = 'same',kernel_initializer = 'he_normal', name = 'conv2d_3'))\n",
    "model.add(Activation('relu',name = 'activation_3'))\n",
    "model.add(MaxPool2D(pool_size=(2,2),name = 'maxpool2d_3'))\n",
    "# model.add(Dropout(0.5,name = 'dropout_2'))\n",
    "\n",
    "model.add(Conv2D(256, (3,3), padding = 'same',kernel_initializer = 'he_normal', name = 'conv2d_4'))\n",
    "model.add(Activation('relu',name = 'activation_4'))\n",
    "# model.add(MaxPool2D(pool_size=(2,2),name = 'maxpool2d_4'))\n",
    "\n",
    "model.add(Conv2D(512, (3,3), padding = 'same',kernel_initializer = 'he_normal', name = 'conv2d_5'))\n",
    "model.add(Activation('relu',name = 'activation_5'))\n",
    "model.add(MaxPool2D(pool_size=(2,2),name = 'maxpool2d_5'))\n",
    "\n",
    "model.add(Conv2D(512, (3,3), padding = 'same',kernel_initializer = 'he_normal', name = 'conv2d_6'))\n",
    "model.add(Activation('relu',name = 'activation_6'))\n",
    "model.add(MaxPool2D(pool_size=(2,2),name = 'maxpool2d_6'))\n",
    "\n",
    "model.add(Flatten(name = 'flatten_1'))\n",
    "model.add(Dense(512,kernel_initializer='he_normal',name='dense_1'))\n",
    "model.add(Activation('relu',name='activation_7'))\n",
    "model.add(Dropout(0.3,name = 'dropout_7'))\n",
    "\n",
    "model.add(Dense(num_classes, kernel_initializer='he_normal',name='dense_2'))\n",
    "model.add(Activation('softmax',name='activation_8')) #outputs\n",
    "\n",
    "\n",
    "model.summary()\n",
    "\n",
    "\n",
    "# reduce_lr = ReduceLROnPlateau(monitor='val_loss', factor=0.1, patience=10, verbose=0, mode='auto')\n",
    "''' \n",
    "def scheduler(epoch):\n",
    "    if epoch % 30 == 0 and epoch != 0:\n",
    "        lr = K.get_value(model.optimizer.lr)\n",
    "        K.set_value(model.optimizer.lr, lr * 0.1)\n",
    "        print(\"lr changed to {}\".format(lr * 0.1))\n",
    "    return K.get_value(model.optimizer.lr)\n",
    "'''\n",
    "\n",
    "# 优化方法\n",
    "# opt = keras.optimizers.Adam(lr = 0.0003,decay = 1e-6)\n",
    "# model.compile(loss = 'binary_crossentropy',  metrics=['accuracy'])\n",
    "# model.save(model_name)\n",
    "\n",
    "\n",
    "\n",
    "# opt = keras.optimizers.Adam(lr = 0.001)\n",
    "# 编译模型\n",
    "\n",
    "# reduce_lr = LearningRateScheduler(scheduler)\n",
    "\n",
    "\n",
    "# x_train,x_test, y_train, y_test = train_test_split(X_Train,Y,test_size=0.2, random_state=0)\n",
    "\n",
    "#  normalization\n",
    "# x_train = x_train/255\n",
    "# x_test = x_test/255\n",
    "\n",
    "# y_train = keras.utils.to_categorical(y_train, num_classes)\n",
    "# y_test = keras.utils.to_categorical(y_test, num_classes)\n",
    "\n",
    "# history = model.fit(x_train, y_train, epochs=300, shuffle=False,validation_data=(x_test,y_test),batch_size=16)\n",
    "\n",
    "# history = model.fit(X_Train, Y, shuffle=True, batch_size=32, epochs=100, verbose=1, validation_split=0.2)\n",
    "\n",
    "\n"
   ],
   "metadata": {
    "collapsed": false,
    "ExecuteTime": {
     "end_time": "2023-12-06T16:13:59.598255200Z",
     "start_time": "2023-12-06T16:13:59.449075800Z"
    }
   },
   "id": "1086db7832e402ea"
  },
  {
   "cell_type": "code",
   "execution_count": 68,
   "outputs": [],
   "source": [
    "# from sklearn.utils import shuffle\n",
    "# X_Train,Y = shuffle(X_Train,Y, random_state=1280) "
   ],
   "metadata": {
    "collapsed": false,
    "ExecuteTime": {
     "end_time": "2023-12-06T16:14:00.624574500Z",
     "start_time": "2023-12-06T16:14:00.599960300Z"
    }
   },
   "id": "877e509c45a0ca65"
  },
  {
   "cell_type": "code",
   "execution_count": 69,
   "outputs": [],
   "source": [
    "from PIL import ImageEnhance\n",
    "import os\n",
    "import numpy as np\n",
    "from PIL import Image\n",
    "\n",
    "def brightnessEnhancement(root_path,img_name): #亮度增强\n",
    "    image = Image.open(os.path.join(root_path, img_name))\n",
    "    enh_bri = ImageEnhance.Brightness(image)\n",
    "    # brightness = 1.1+0.4*np.random.random()#取值范围1.1-1.5\n",
    "    brightness = 1.5\n",
    "    image_brightened = enh_bri.enhance(brightness)\n",
    "    return image_brightened\n",
    "\n",
    "\n",
    "def contrastEnhancement(img_name):  # 对比度增强\n",
    "    image = Image.open(img_name)\n",
    "    enh_con = ImageEnhance.Contrast(image)\n",
    "    # contrast = 1.1+0.4*np.random.random()#取值范围1.1-1.5\n",
    "    contrast = 1.5\n",
    "    image_contrasted = enh_con.enhance(contrast)\n",
    "    return image_contrasted\n",
    "\n",
    "def rotation(img_name):\n",
    "    img = Image.open(img_name)\n",
    "    random_angle = np.random.randint(-2, 2)*90\n",
    "    if random_angle==0:\n",
    "        rotation_img = img.rotate(-90) #旋转角度\n",
    "    else:\n",
    "        rotation_img = img.rotate( random_angle)  # 旋转角度\n",
    "    # rotation_img.save(os.path.join(root_path,img_name.split('.')[0] + '_rotation.jpg'))\n",
    "    return rotation_img\n",
    "\n",
    "def flip(img_name):   #翻转图像\n",
    "    img = Image.open(img_name)\n",
    "    filp_img = img.transpose(Image.FLIP_LEFT_RIGHT)\n",
    "    # filp_img.save(os.path.join(root_path,img_name.split('.')[0] + '_flip.jpg'))\n",
    "    return filp_img\n",
    "\n",
    "def createImage(image_list,label_list,saveDir):\n",
    "    i=0\n",
    "    label = []\n",
    "    im = []\n",
    "    # x = [i.split('/')[-1] for i in image_list]\n",
    "    for name in image_list:\n",
    "        im.append(image_list[i])\n",
    "        label.append(label_list[i])\n",
    "        saveName=\"cesun\"+str(i)+\".jpg\"\n",
    "        saveImage=contrastEnhancement(name)\n",
    "        saveImage.save(os.path.join(saveDir,saveName))\n",
    "        im.append(os.path.join(saveDir,saveName))\n",
    "        label.append(label_list[i])\n",
    "        saveName1 = \"flip\" + str(i) + \".jpg\"\n",
    "        saveImage1 = flip(name)\n",
    "        saveImage1.save(os.path.join(saveDir, saveName1))\n",
    "        im.append(os.path.join(saveDir,saveName))\n",
    "        label.append(label_list[i])\n",
    "#         saveName2 = \"brightnessE\" + str(i) + \".jpg\"\n",
    "#         saveImage2 = brightnessEnhancement(imageDir, name)\n",
    "#         saveImage2.save(os.path.join(saveDir, saveName2))\n",
    "        saveName3 = \"rotate\" + str(i) + \".jpg\"\n",
    "        saveImage = rotation(name)\n",
    "        saveImage.save(os.path.join(saveDir, saveName3))\n",
    "        im.append(os.path.join(saveDir,saveName))\n",
    "        label.append(label_list[i])\n",
    "        i=i+1\n",
    "    return im,label\n",
    "\n",
    "#tf.compat.v1.disable_eager_execution()\n",
    "def process_train(image_list,label_list,s):\n",
    "    N = len(image_list)\n",
    "    X = np.empty([N,s,s,3])#这里要改\n",
    "    with tf.compat.v1.Session() as sess:\n",
    "        for i in range(N):\n",
    "            # 读取图像文件\n",
    "            image_raw_data = tf.compat.v1.gfile.GFile(image_list[i],'rb').read() \n",
    "            # 将图像文件解码为tensor\n",
    "            image_data = tf.image.decode_jpeg(image_raw_data)\n",
    "    #         print(image_data.shape)\n",
    "            # 改变张量的形状 32*64\n",
    "            resized = tf.compat.v1.image.resize_images(image_data, [s,s]) \n",
    "            resized = np.asarray(resized.eval(),dtype='uint8')      # asarray 生成数组 \n",
    "    #         print(resized.shape)  \n",
    "            X[i]=resized \n",
    "            \n",
    "    # train data 深度学习的图像一定要做归一\n",
    "    #tf.compat.v1.disable_eager_execution()\n",
    "    tf.compat.v1.disable_v2_behavior()\n",
    "    X_Train = X\n",
    "    \n",
    "    Y = np.subtract(np.array(label_list), 0).reshape([N,1])\n",
    "    V = tf.compat.v1.one_hot(Y, depth=2,axis=1,dtype=tf.float32)\n",
    "    session = tf.compat.v1.Session()\n",
    "    Y = session.run(V)\n",
    "    session.close()\n",
    "    Y = Y.reshape([N,2])\n",
    "    X_Train = X_Train.astype('float32')/255.\n",
    "    \n",
    "    print(Y.shape)\n",
    "    print(X_Train.shape)\n",
    "    # resize\n",
    "    \n",
    "    return X_Train,Y\n",
    "# X_Train,Y = process_train(image_list,label_list)"
   ],
   "metadata": {
    "collapsed": false,
    "ExecuteTime": {
     "end_time": "2023-12-06T16:14:00.914810500Z",
     "start_time": "2023-12-06T16:14:00.907220200Z"
    }
   },
   "id": "fbc3afe0c289815c"
  },
  {
   "cell_type": "code",
   "execution_count": 70,
   "outputs": [
    {
     "data": {
      "text/plain": "array([1, 1, 1, 1, 2, 1, 1, 2, 2, 1, 2, 2, 1, 2, 1, 1, 1, 2, 2, 1, 1, 2,\n       2, 1, 2, 1, 2, 2, 1, 2, 2, 1, 2, 2, 1, 2, 2, 2, 1, 1, 2, 1, 2, 2,\n       1, 2, 1, 2, 2, 2, 1, 1, 2, 1, 1, 1, 2, 2, 1, 1])"
     },
     "execution_count": 70,
     "metadata": {},
     "output_type": "execute_result"
    }
   ],
   "source": [
    "label_list"
   ],
   "metadata": {
    "collapsed": false,
    "ExecuteTime": {
     "end_time": "2023-12-06T16:14:01.656615300Z",
     "start_time": "2023-12-06T16:14:01.625605100Z"
    }
   },
   "id": "d0a0501f90b3661e"
  },
  {
   "cell_type": "code",
   "execution_count": 70,
   "outputs": [],
   "source": [],
   "metadata": {
    "collapsed": false,
    "ExecuteTime": {
     "end_time": "2023-12-06T16:14:01.825406600Z",
     "start_time": "2023-12-06T16:14:01.806951300Z"
    }
   },
   "id": "33f0c3f945f5c94"
  },
  {
   "cell_type": "code",
   "execution_count": 70,
   "outputs": [],
   "source": [],
   "metadata": {
    "collapsed": false,
    "ExecuteTime": {
     "end_time": "2023-12-06T16:14:01.984485700Z",
     "start_time": "2023-12-06T16:14:01.970014900Z"
    }
   },
   "id": "c3b42b2fce80db56"
  },
  {
   "cell_type": "code",
   "execution_count": null,
   "outputs": [
    {
     "name": "stdout",
     "output_type": "stream",
     "text": [
      "1 50\n",
      "(200, 2)\n",
      "(200, 32, 32, 3)\n",
      "(10, 2)\n",
      "(10, 32, 32, 3)\n",
      "Train on 200 samples, validate on 10 samples\n",
      "Epoch 1/1000\n",
      "200/200 [==============================] - ETA: 0s - loss: 0.0299 - acc: 0.5000"
     ]
    },
    {
     "name": "stderr",
     "output_type": "stream",
     "text": [
      "D:\\P\\anaconda3\\envs\\TF\\lib\\site-packages\\keras\\engine\\training_v1.py:2045: UserWarning: `Model.state_updates` will be removed in a future version. This property should not be used in TensorFlow 2.0, as `updates` are applied automatically.\n",
      "  updates = self.state_updates\n"
     ]
    },
    {
     "name": "stdout",
     "output_type": "stream",
     "text": [
      "200/200 [==============================] - 5s 26ms/sample - loss: 0.0299 - acc: 0.5000 - val_loss: 51.4306 - val_acc: 0.8500\n",
      "Epoch 2/1000\n",
      "200/200 [==============================] - 5s 24ms/sample - loss: 6.4948e-36 - acc: 0.5000 - val_loss: 59.8925 - val_acc: 0.8500\n",
      "Epoch 3/1000\n",
      "200/200 [==============================] - 5s 24ms/sample - loss: 0.0000e+00 - acc: 0.5000 - val_loss: 60.7297 - val_acc: 0.8500\n",
      "Epoch 4/1000\n",
      "200/200 [==============================] - 5s 24ms/sample - loss: 0.0000e+00 - acc: 0.5000 - val_loss: 60.8022 - val_acc: 0.8500\n",
      "Epoch 5/1000\n",
      "200/200 [==============================] - 5s 24ms/sample - loss: 0.0000e+00 - acc: 0.5000 - val_loss: 60.8079 - val_acc: 0.8500\n",
      "Epoch 6/1000\n",
      "200/200 [==============================] - 5s 24ms/sample - loss: 0.0000e+00 - acc: 0.5000 - val_loss: 60.8081 - val_acc: 0.8500\n",
      "Epoch 7/1000\n",
      "200/200 [==============================] - 5s 24ms/sample - loss: 0.0000e+00 - acc: 0.5000 - val_loss: 60.8081 - val_acc: 0.8500\n",
      "Epoch 8/1000\n",
      "200/200 [==============================] - 5s 24ms/sample - loss: 0.0000e+00 - acc: 0.5000 - val_loss: 60.8081 - val_acc: 0.8500\n",
      "Epoch 9/1000\n",
      "200/200 [==============================] - 5s 24ms/sample - loss: 0.0000e+00 - acc: 0.5000 - val_loss: 60.8081 - val_acc: 0.8500\n",
      "Epoch 10/1000\n",
      "200/200 [==============================] - 5s 24ms/sample - loss: 0.0000e+00 - acc: 0.5000 - val_loss: 60.8081 - val_acc: 0.8500\n",
      "Epoch 11/1000\n",
      "200/200 [==============================] - 5s 23ms/sample - loss: 0.0000e+00 - acc: 0.5000 - val_loss: 60.8081 - val_acc: 0.8500\n",
      "Epoch 12/1000\n",
      "200/200 [==============================] - 5s 23ms/sample - loss: 0.0000e+00 - acc: 0.5000 - val_loss: 60.8081 - val_acc: 0.8500\n",
      "Epoch 13/1000\n",
      "200/200 [==============================] - 5s 23ms/sample - loss: 0.0000e+00 - acc: 0.5000 - val_loss: 60.8081 - val_acc: 0.8500\n",
      "Epoch 14/1000\n",
      "200/200 [==============================] - 5s 23ms/sample - loss: 0.0000e+00 - acc: 0.5000 - val_loss: 60.8081 - val_acc: 0.8500\n",
      "Epoch 15/1000\n",
      "200/200 [==============================] - 5s 23ms/sample - loss: 0.0000e+00 - acc: 0.5000 - val_loss: 60.8081 - val_acc: 0.8500\n",
      "Epoch 16/1000\n",
      "200/200 [==============================] - 5s 23ms/sample - loss: 0.0000e+00 - acc: 0.5000 - val_loss: 60.8081 - val_acc: 0.8500\n",
      "Epoch 17/1000\n",
      "200/200 [==============================] - 5s 23ms/sample - loss: 0.0000e+00 - acc: 0.5000 - val_loss: 60.8081 - val_acc: 0.8500\n",
      "Epoch 18/1000\n",
      "200/200 [==============================] - 5s 23ms/sample - loss: 0.0000e+00 - acc: 0.5000 - val_loss: 60.8081 - val_acc: 0.8500\n",
      "Epoch 19/1000\n",
      "200/200 [==============================] - 5s 23ms/sample - loss: 0.0000e+00 - acc: 0.5000 - val_loss: 60.8081 - val_acc: 0.8500\n",
      "Epoch 20/1000\n",
      "200/200 [==============================] - 5s 23ms/sample - loss: 0.0000e+00 - acc: 0.5000 - val_loss: 60.8081 - val_acc: 0.8500\n",
      "Epoch 21/1000\n",
      "200/200 [==============================] - 5s 23ms/sample - loss: 0.0000e+00 - acc: 0.5000 - val_loss: 60.8081 - val_acc: 0.8500\n",
      "Epoch 22/1000\n",
      "200/200 [==============================] - 5s 25ms/sample - loss: 0.0000e+00 - acc: 0.5000 - val_loss: 60.8081 - val_acc: 0.8500\n",
      "Epoch 23/1000\n",
      "200/200 [==============================] - 5s 23ms/sample - loss: 0.0000e+00 - acc: 0.5000 - val_loss: 60.8081 - val_acc: 0.8500\n",
      "Epoch 24/1000\n",
      "200/200 [==============================] - 5s 24ms/sample - loss: 0.0000e+00 - acc: 0.5000 - val_loss: 60.8081 - val_acc: 0.8500\n",
      "Epoch 25/1000\n",
      "200/200 [==============================] - 5s 23ms/sample - loss: 0.0000e+00 - acc: 0.5000 - val_loss: 60.8081 - val_acc: 0.8500\n",
      "Epoch 26/1000\n",
      "200/200 [==============================] - 5s 23ms/sample - loss: 0.0000e+00 - acc: 0.5000 - val_loss: 60.8081 - val_acc: 0.8500\n",
      "Epoch 27/1000\n",
      "200/200 [==============================] - 5s 23ms/sample - loss: 0.0000e+00 - acc: 0.5000 - val_loss: 60.8081 - val_acc: 0.8500\n",
      "Epoch 28/1000\n",
      "200/200 [==============================] - 5s 23ms/sample - loss: 0.0000e+00 - acc: 0.5000 - val_loss: 60.8081 - val_acc: 0.8500\n",
      "Epoch 29/1000\n",
      "200/200 [==============================] - 5s 23ms/sample - loss: 0.0000e+00 - acc: 0.5000 - val_loss: 60.8081 - val_acc: 0.8500\n",
      "Epoch 30/1000\n",
      "200/200 [==============================] - 5s 23ms/sample - loss: 0.0000e+00 - acc: 0.5000 - val_loss: 60.8081 - val_acc: 0.8500\n",
      "Epoch 31/1000\n",
      "200/200 [==============================] - 5s 24ms/sample - loss: 0.0000e+00 - acc: 0.5000 - val_loss: 60.8081 - val_acc: 0.8500\n",
      "Epoch 32/1000\n",
      "200/200 [==============================] - 5s 23ms/sample - loss: 0.0000e+00 - acc: 0.5000 - val_loss: 60.8081 - val_acc: 0.8500\n",
      "Epoch 33/1000\n",
      "200/200 [==============================] - 5s 24ms/sample - loss: 0.0000e+00 - acc: 0.5000 - val_loss: 60.8081 - val_acc: 0.8500\n",
      "Epoch 34/1000\n",
      "200/200 [==============================] - 5s 24ms/sample - loss: 0.0000e+00 - acc: 0.5000 - val_loss: 60.8081 - val_acc: 0.8500\n",
      "Epoch 35/1000\n",
      "200/200 [==============================] - 4s 22ms/sample - loss: 0.0000e+00 - acc: 0.5000 - val_loss: 60.8081 - val_acc: 0.8500\n",
      "Epoch 36/1000\n",
      "200/200 [==============================] - 4s 22ms/sample - loss: 0.0000e+00 - acc: 0.5000 - val_loss: 60.8081 - val_acc: 0.8500\n",
      "Epoch 37/1000\n",
      "200/200 [==============================] - 4s 21ms/sample - loss: 0.0000e+00 - acc: 0.5000 - val_loss: 60.8081 - val_acc: 0.8500\n",
      "Epoch 38/1000\n",
      "200/200 [==============================] - 4s 21ms/sample - loss: 0.0000e+00 - acc: 0.5000 - val_loss: 60.8081 - val_acc: 0.8500\n",
      "Epoch 39/1000\n",
      "200/200 [==============================] - 4s 21ms/sample - loss: 0.0000e+00 - acc: 0.5000 - val_loss: 60.8081 - val_acc: 0.8500\n",
      "Epoch 40/1000\n",
      "200/200 [==============================] - 4s 20ms/sample - loss: 0.0000e+00 - acc: 0.5000 - val_loss: 60.8081 - val_acc: 0.8500\n",
      "Epoch 41/1000\n",
      "200/200 [==============================] - 4s 21ms/sample - loss: 0.0000e+00 - acc: 0.5000 - val_loss: 60.8081 - val_acc: 0.8500\n",
      "Epoch 42/1000\n",
      "200/200 [==============================] - 4s 21ms/sample - loss: 0.0000e+00 - acc: 0.5000 - val_loss: 60.8081 - val_acc: 0.8500\n",
      "Epoch 43/1000\n",
      "200/200 [==============================] - 4s 22ms/sample - loss: 0.0000e+00 - acc: 0.5000 - val_loss: 60.8081 - val_acc: 0.8500\n",
      "Epoch 44/1000\n",
      "200/200 [==============================] - 4s 21ms/sample - loss: 0.0000e+00 - acc: 0.5000 - val_loss: 60.8081 - val_acc: 0.8500\n",
      "Epoch 45/1000\n",
      "200/200 [==============================] - 4s 20ms/sample - loss: 0.0000e+00 - acc: 0.5000 - val_loss: 60.8081 - val_acc: 0.8500\n",
      "Epoch 46/1000\n",
      "200/200 [==============================] - 4s 21ms/sample - loss: 0.0000e+00 - acc: 0.5000 - val_loss: 60.8081 - val_acc: 0.8500\n",
      "Epoch 47/1000\n",
      "200/200 [==============================] - 4s 21ms/sample - loss: 0.0000e+00 - acc: 0.5000 - val_loss: 60.8081 - val_acc: 0.8500\n",
      "Epoch 48/1000\n",
      "200/200 [==============================] - 4s 21ms/sample - loss: 0.0000e+00 - acc: 0.5000 - val_loss: 60.8081 - val_acc: 0.8500\n",
      "Epoch 49/1000\n",
      "200/200 [==============================] - 4s 21ms/sample - loss: 0.0000e+00 - acc: 0.5000 - val_loss: 60.8081 - val_acc: 0.8500\n",
      "Epoch 50/1000\n",
      "200/200 [==============================] - 4s 21ms/sample - loss: 0.0000e+00 - acc: 0.5000 - val_loss: 60.8081 - val_acc: 0.8500\n",
      "Epoch 51/1000\n",
      "200/200 [==============================] - 4s 20ms/sample - loss: 0.0000e+00 - acc: 0.5000 - val_loss: 60.8081 - val_acc: 0.8500\n",
      "Epoch 52/1000\n",
      "200/200 [==============================] - 4s 20ms/sample - loss: 0.0000e+00 - acc: 0.5000 - val_loss: 60.8081 - val_acc: 0.8500\n",
      "Epoch 53/1000\n",
      "200/200 [==============================] - 4s 21ms/sample - loss: 0.0000e+00 - acc: 0.5000 - val_loss: 60.8081 - val_acc: 0.8500\n",
      "Epoch 54/1000\n",
      "200/200 [==============================] - 4s 22ms/sample - loss: 0.0000e+00 - acc: 0.5000 - val_loss: 60.8081 - val_acc: 0.8500\n",
      "Epoch 55/1000\n",
      "200/200 [==============================] - 4s 21ms/sample - loss: 0.0000e+00 - acc: 0.5000 - val_loss: 60.8081 - val_acc: 0.8500\n",
      "Epoch 56/1000\n",
      "200/200 [==============================] - 4s 22ms/sample - loss: 0.0000e+00 - acc: 0.5000 - val_loss: 60.8081 - val_acc: 0.8500\n",
      "Epoch 57/1000\n",
      "200/200 [==============================] - 4s 22ms/sample - loss: 0.0000e+00 - acc: 0.5000 - val_loss: 60.8081 - val_acc: 0.8500\n",
      "Epoch 58/1000\n",
      "200/200 [==============================] - 4s 21ms/sample - loss: 0.0000e+00 - acc: 0.5000 - val_loss: 60.8081 - val_acc: 0.8500\n",
      "Epoch 59/1000\n",
      "200/200 [==============================] - 4s 21ms/sample - loss: 0.0000e+00 - acc: 0.5000 - val_loss: 60.8081 - val_acc: 0.8500\n",
      "Epoch 60/1000\n",
      "200/200 [==============================] - 4s 21ms/sample - loss: 0.0000e+00 - acc: 0.5000 - val_loss: 60.8081 - val_acc: 0.8500\n",
      "Epoch 61/1000\n",
      "200/200 [==============================] - 4s 21ms/sample - loss: 0.0000e+00 - acc: 0.5000 - val_loss: 60.8081 - val_acc: 0.8500\n",
      "Epoch 62/1000\n",
      "200/200 [==============================] - 4s 21ms/sample - loss: 0.0000e+00 - acc: 0.5000 - val_loss: 60.8081 - val_acc: 0.8500\n",
      "Epoch 63/1000\n",
      "200/200 [==============================] - 4s 21ms/sample - loss: 0.0000e+00 - acc: 0.5000 - val_loss: 60.8081 - val_acc: 0.8500\n",
      "Epoch 64/1000\n",
      "200/200 [==============================] - 4s 22ms/sample - loss: 0.0000e+00 - acc: 0.5000 - val_loss: 60.8081 - val_acc: 0.8500\n",
      "Epoch 65/1000\n",
      "200/200 [==============================] - 4s 22ms/sample - loss: 0.0000e+00 - acc: 0.5000 - val_loss: 60.8081 - val_acc: 0.8500\n",
      "Epoch 66/1000\n",
      "200/200 [==============================] - 4s 21ms/sample - loss: 0.0000e+00 - acc: 0.5000 - val_loss: 60.8081 - val_acc: 0.8500\n",
      "Epoch 67/1000\n",
      "200/200 [==============================] - 4s 21ms/sample - loss: 0.0000e+00 - acc: 0.5000 - val_loss: 60.8081 - val_acc: 0.8500\n",
      "Epoch 68/1000\n",
      "200/200 [==============================] - 4s 22ms/sample - loss: 0.0000e+00 - acc: 0.5000 - val_loss: 60.8081 - val_acc: 0.8500\n",
      "Epoch 69/1000\n",
      "200/200 [==============================] - 5s 23ms/sample - loss: 0.0000e+00 - acc: 0.5000 - val_loss: 60.8081 - val_acc: 0.8500\n",
      "Epoch 70/1000\n",
      "200/200 [==============================] - 5s 23ms/sample - loss: 0.0000e+00 - acc: 0.5000 - val_loss: 60.8081 - val_acc: 0.8500\n",
      "Epoch 71/1000\n",
      "200/200 [==============================] - 4s 22ms/sample - loss: 0.0000e+00 - acc: 0.5000 - val_loss: 60.8081 - val_acc: 0.8500\n",
      "Epoch 72/1000\n",
      "200/200 [==============================] - 4s 22ms/sample - loss: 0.0000e+00 - acc: 0.5000 - val_loss: 60.8081 - val_acc: 0.8500\n",
      "Epoch 73/1000\n",
      "200/200 [==============================] - 4s 22ms/sample - loss: 0.0000e+00 - acc: 0.5000 - val_loss: 60.8081 - val_acc: 0.8500\n",
      "Epoch 74/1000\n",
      "200/200 [==============================] - 4s 22ms/sample - loss: 0.0000e+00 - acc: 0.5000 - val_loss: 60.8081 - val_acc: 0.8500\n",
      "Epoch 75/1000\n",
      "200/200 [==============================] - 4s 22ms/sample - loss: 0.0000e+00 - acc: 0.5000 - val_loss: 60.8081 - val_acc: 0.8500\n",
      "Epoch 76/1000\n",
      "200/200 [==============================] - 4s 22ms/sample - loss: 0.0000e+00 - acc: 0.5000 - val_loss: 60.8081 - val_acc: 0.8500\n",
      "Epoch 77/1000\n",
      "200/200 [==============================] - 4s 21ms/sample - loss: 0.0000e+00 - acc: 0.5000 - val_loss: 60.8081 - val_acc: 0.8500\n",
      "Epoch 78/1000\n",
      "200/200 [==============================] - 4s 22ms/sample - loss: 0.0000e+00 - acc: 0.5000 - val_loss: 60.8081 - val_acc: 0.8500\n",
      "Epoch 79/1000\n",
      "200/200 [==============================] - 4s 21ms/sample - loss: 0.0000e+00 - acc: 0.5000 - val_loss: 60.8081 - val_acc: 0.8500\n",
      "Epoch 80/1000\n",
      "200/200 [==============================] - 4s 22ms/sample - loss: 0.0000e+00 - acc: 0.5000 - val_loss: 60.8081 - val_acc: 0.8500\n",
      "Epoch 81/1000\n",
      "200/200 [==============================] - 4s 22ms/sample - loss: 0.0000e+00 - acc: 0.5000 - val_loss: 60.8081 - val_acc: 0.8500\n",
      "Epoch 82/1000\n",
      "200/200 [==============================] - 4s 22ms/sample - loss: 0.0000e+00 - acc: 0.5000 - val_loss: 60.8081 - val_acc: 0.8500\n",
      "Epoch 83/1000\n",
      "200/200 [==============================] - 5s 23ms/sample - loss: 0.0000e+00 - acc: 0.5000 - val_loss: 60.8081 - val_acc: 0.8500\n",
      "Epoch 84/1000\n",
      "200/200 [==============================] - 5s 23ms/sample - loss: 0.0000e+00 - acc: 0.5000 - val_loss: 60.8081 - val_acc: 0.8500\n",
      "Epoch 85/1000\n",
      "200/200 [==============================] - 4s 22ms/sample - loss: 0.0000e+00 - acc: 0.5000 - val_loss: 60.8081 - val_acc: 0.8500\n",
      "Epoch 86/1000\n",
      "200/200 [==============================] - 5s 23ms/sample - loss: 0.0000e+00 - acc: 0.5000 - val_loss: 60.8081 - val_acc: 0.8500\n",
      "Epoch 87/1000\n",
      "200/200 [==============================] - 4s 22ms/sample - loss: 0.0000e+00 - acc: 0.5000 - val_loss: 60.8081 - val_acc: 0.8500\n",
      "Epoch 88/1000\n",
      "200/200 [==============================] - 4s 22ms/sample - loss: 0.0000e+00 - acc: 0.5000 - val_loss: 60.8081 - val_acc: 0.8500\n",
      "Epoch 89/1000\n",
      "200/200 [==============================] - 4s 22ms/sample - loss: 0.0000e+00 - acc: 0.5000 - val_loss: 60.8081 - val_acc: 0.8500\n",
      "Epoch 90/1000\n",
      "200/200 [==============================] - 4s 22ms/sample - loss: 0.0000e+00 - acc: 0.5000 - val_loss: 60.8081 - val_acc: 0.8500\n",
      "Epoch 91/1000\n",
      "200/200 [==============================] - 5s 24ms/sample - loss: 0.0000e+00 - acc: 0.5000 - val_loss: 60.8081 - val_acc: 0.8500\n",
      "Epoch 92/1000\n",
      "200/200 [==============================] - 4s 22ms/sample - loss: 0.0000e+00 - acc: 0.5000 - val_loss: 60.8081 - val_acc: 0.8500\n",
      "Epoch 93/1000\n",
      "200/200 [==============================] - 4s 22ms/sample - loss: 0.0000e+00 - acc: 0.5000 - val_loss: 60.8081 - val_acc: 0.8500\n",
      "Epoch 94/1000\n",
      "200/200 [==============================] - 4s 21ms/sample - loss: 0.0000e+00 - acc: 0.5000 - val_loss: 60.8081 - val_acc: 0.8500\n",
      "Epoch 95/1000\n",
      "200/200 [==============================] - 4s 22ms/sample - loss: 0.0000e+00 - acc: 0.5000 - val_loss: 60.8081 - val_acc: 0.8500\n",
      "Epoch 96/1000\n",
      "200/200 [==============================] - 4s 22ms/sample - loss: 0.0000e+00 - acc: 0.5000 - val_loss: 60.8081 - val_acc: 0.8500\n",
      "Epoch 97/1000\n",
      "200/200 [==============================] - 4s 22ms/sample - loss: 0.0000e+00 - acc: 0.5000 - val_loss: 60.8081 - val_acc: 0.8500\n",
      "Epoch 98/1000\n",
      "200/200 [==============================] - 4s 21ms/sample - loss: 0.0000e+00 - acc: 0.5000 - val_loss: 60.8081 - val_acc: 0.8500\n",
      "Epoch 99/1000\n",
      "200/200 [==============================] - 4s 22ms/sample - loss: 0.0000e+00 - acc: 0.5000 - val_loss: 60.8081 - val_acc: 0.8500\n",
      "Epoch 100/1000\n",
      "200/200 [==============================] - 4s 22ms/sample - loss: 0.0000e+00 - acc: 0.5000 - val_loss: 60.8081 - val_acc: 0.8500\n",
      "Epoch 101/1000\n",
      "200/200 [==============================] - 4s 22ms/sample - loss: 0.0000e+00 - acc: 0.5000 - val_loss: 60.8081 - val_acc: 0.8500\n",
      "Epoch 102/1000\n",
      "200/200 [==============================] - 4s 22ms/sample - loss: 0.0000e+00 - acc: 0.5000 - val_loss: 60.8081 - val_acc: 0.8500\n",
      "Epoch 103/1000\n",
      "200/200 [==============================] - 4s 22ms/sample - loss: 0.0000e+00 - acc: 0.5000 - val_loss: 60.8081 - val_acc: 0.8500\n",
      "Epoch 104/1000\n",
      "200/200 [==============================] - 4s 22ms/sample - loss: 0.0000e+00 - acc: 0.5000 - val_loss: 60.8081 - val_acc: 0.8500\n",
      "Epoch 105/1000\n",
      "200/200 [==============================] - 4s 22ms/sample - loss: 0.0000e+00 - acc: 0.5000 - val_loss: 60.8081 - val_acc: 0.8500\n",
      "Epoch 106/1000\n",
      "200/200 [==============================] - 5s 23ms/sample - loss: 0.0000e+00 - acc: 0.5000 - val_loss: 60.8081 - val_acc: 0.8500\n",
      "Epoch 107/1000\n",
      "200/200 [==============================] - 5s 23ms/sample - loss: 0.0000e+00 - acc: 0.5000 - val_loss: 60.8081 - val_acc: 0.8500\n",
      "Epoch 108/1000\n",
      "200/200 [==============================] - 4s 22ms/sample - loss: 0.0000e+00 - acc: 0.5000 - val_loss: 60.8081 - val_acc: 0.8500\n",
      "Epoch 109/1000\n",
      "200/200 [==============================] - 4s 22ms/sample - loss: 0.0000e+00 - acc: 0.5000 - val_loss: 60.8081 - val_acc: 0.8500\n",
      "Epoch 110/1000\n",
      "200/200 [==============================] - 5s 23ms/sample - loss: 0.0000e+00 - acc: 0.5000 - val_loss: 60.8081 - val_acc: 0.8500\n",
      "Epoch 111/1000\n",
      "200/200 [==============================] - 4s 22ms/sample - loss: 0.0000e+00 - acc: 0.5000 - val_loss: 60.8081 - val_acc: 0.8500\n",
      "Epoch 112/1000\n",
      "200/200 [==============================] - 4s 22ms/sample - loss: 0.0000e+00 - acc: 0.5000 - val_loss: 60.8081 - val_acc: 0.8500\n",
      "Epoch 113/1000\n",
      "200/200 [==============================] - 4s 22ms/sample - loss: 0.0000e+00 - acc: 0.5000 - val_loss: 60.8081 - val_acc: 0.8500\n",
      "Epoch 114/1000\n",
      "200/200 [==============================] - 4s 22ms/sample - loss: 0.0000e+00 - acc: 0.5000 - val_loss: 60.8081 - val_acc: 0.8500\n",
      "Epoch 115/1000\n",
      "200/200 [==============================] - 4s 22ms/sample - loss: 0.0000e+00 - acc: 0.5000 - val_loss: 60.8081 - val_acc: 0.8500\n",
      "Epoch 116/1000\n",
      "200/200 [==============================] - 5s 23ms/sample - loss: 0.0000e+00 - acc: 0.5000 - val_loss: 60.8081 - val_acc: 0.8500\n",
      "Epoch 117/1000\n",
      "200/200 [==============================] - 4s 22ms/sample - loss: 0.0000e+00 - acc: 0.5000 - val_loss: 60.8081 - val_acc: 0.8500\n",
      "Epoch 118/1000\n",
      "200/200 [==============================] - 5s 23ms/sample - loss: 0.0000e+00 - acc: 0.5000 - val_loss: 60.8081 - val_acc: 0.8500\n",
      "Epoch 119/1000\n",
      "200/200 [==============================] - 4s 21ms/sample - loss: 0.0000e+00 - acc: 0.5000 - val_loss: 60.8081 - val_acc: 0.8500\n",
      "Epoch 120/1000\n",
      "200/200 [==============================] - 4s 22ms/sample - loss: 0.0000e+00 - acc: 0.5000 - val_loss: 60.8081 - val_acc: 0.8500\n",
      "Epoch 121/1000\n",
      "200/200 [==============================] - 4s 22ms/sample - loss: 0.0000e+00 - acc: 0.5000 - val_loss: 60.8081 - val_acc: 0.8500\n",
      "Epoch 122/1000\n",
      "200/200 [==============================] - 4s 21ms/sample - loss: 0.0000e+00 - acc: 0.5000 - val_loss: 60.8081 - val_acc: 0.8500\n",
      "Epoch 123/1000\n",
      "200/200 [==============================] - 4s 22ms/sample - loss: 0.0000e+00 - acc: 0.5000 - val_loss: 60.8081 - val_acc: 0.8500\n",
      "Epoch 124/1000\n",
      "200/200 [==============================] - 4s 22ms/sample - loss: 0.0000e+00 - acc: 0.5000 - val_loss: 60.8081 - val_acc: 0.8500\n",
      "Epoch 125/1000\n",
      "200/200 [==============================] - 5s 23ms/sample - loss: 0.0000e+00 - acc: 0.5000 - val_loss: 60.8081 - val_acc: 0.8500\n",
      "Epoch 126/1000\n",
      "200/200 [==============================] - 4s 22ms/sample - loss: 0.0000e+00 - acc: 0.5000 - val_loss: 60.8081 - val_acc: 0.8500\n",
      "Epoch 127/1000\n",
      "200/200 [==============================] - 5s 23ms/sample - loss: 0.0000e+00 - acc: 0.5000 - val_loss: 60.8081 - val_acc: 0.8500\n",
      "Epoch 128/1000\n",
      "200/200 [==============================] - 4s 22ms/sample - loss: 0.0000e+00 - acc: 0.5000 - val_loss: 60.8081 - val_acc: 0.8500\n",
      "Epoch 129/1000\n",
      "200/200 [==============================] - 5s 23ms/sample - loss: 0.0000e+00 - acc: 0.5000 - val_loss: 60.8081 - val_acc: 0.8500\n",
      "Epoch 130/1000\n",
      "200/200 [==============================] - 4s 22ms/sample - loss: 0.0000e+00 - acc: 0.5000 - val_loss: 60.8081 - val_acc: 0.8500\n",
      "Epoch 131/1000\n",
      "200/200 [==============================] - 4s 22ms/sample - loss: 0.0000e+00 - acc: 0.5000 - val_loss: 60.8081 - val_acc: 0.8500\n",
      "Epoch 132/1000\n",
      "200/200 [==============================] - 4s 21ms/sample - loss: 0.0000e+00 - acc: 0.5000 - val_loss: 60.8081 - val_acc: 0.8500\n",
      "Epoch 133/1000\n",
      "200/200 [==============================] - 4s 21ms/sample - loss: 0.0000e+00 - acc: 0.5000 - val_loss: 60.8081 - val_acc: 0.8500\n",
      "Epoch 134/1000\n",
      "200/200 [==============================] - 4s 22ms/sample - loss: 0.0000e+00 - acc: 0.5000 - val_loss: 60.8081 - val_acc: 0.8500\n",
      "Epoch 135/1000\n",
      "200/200 [==============================] - 4s 21ms/sample - loss: 0.0000e+00 - acc: 0.5000 - val_loss: 60.8081 - val_acc: 0.8500\n",
      "Epoch 136/1000\n",
      "200/200 [==============================] - 5s 24ms/sample - loss: 0.0000e+00 - acc: 0.5000 - val_loss: 60.8081 - val_acc: 0.8500\n",
      "Epoch 137/1000\n",
      "200/200 [==============================] - 4s 22ms/sample - loss: 0.0000e+00 - acc: 0.5000 - val_loss: 60.8081 - val_acc: 0.8500\n",
      "Epoch 138/1000\n",
      "200/200 [==============================] - 4s 21ms/sample - loss: 0.0000e+00 - acc: 0.5000 - val_loss: 60.8081 - val_acc: 0.8500\n",
      "Epoch 139/1000\n",
      "200/200 [==============================] - 4s 22ms/sample - loss: 0.0000e+00 - acc: 0.5000 - val_loss: 60.8081 - val_acc: 0.8500\n",
      "Epoch 140/1000\n",
      "200/200 [==============================] - 4s 22ms/sample - loss: 0.0000e+00 - acc: 0.5000 - val_loss: 60.8081 - val_acc: 0.8500\n",
      "Epoch 141/1000\n",
      "200/200 [==============================] - 4s 22ms/sample - loss: 0.0000e+00 - acc: 0.5000 - val_loss: 60.8081 - val_acc: 0.8500\n",
      "Epoch 142/1000\n",
      "200/200 [==============================] - 4s 22ms/sample - loss: 0.0000e+00 - acc: 0.5000 - val_loss: 60.8081 - val_acc: 0.8500\n",
      "Epoch 143/1000\n",
      "200/200 [==============================] - 4s 22ms/sample - loss: 0.0000e+00 - acc: 0.5000 - val_loss: 60.8081 - val_acc: 0.8500\n",
      "Epoch 144/1000\n",
      "200/200 [==============================] - 4s 22ms/sample - loss: 0.0000e+00 - acc: 0.5000 - val_loss: 60.8081 - val_acc: 0.8500\n",
      "Epoch 145/1000\n",
      "200/200 [==============================] - 4s 21ms/sample - loss: 0.0000e+00 - acc: 0.5000 - val_loss: 60.8081 - val_acc: 0.8500\n",
      "Epoch 146/1000\n",
      "200/200 [==============================] - 4s 21ms/sample - loss: 0.0000e+00 - acc: 0.5000 - val_loss: 60.8081 - val_acc: 0.8500\n",
      "Epoch 147/1000\n",
      "200/200 [==============================] - 4s 22ms/sample - loss: 0.0000e+00 - acc: 0.5000 - val_loss: 60.8081 - val_acc: 0.8500\n",
      "Epoch 148/1000\n",
      "200/200 [==============================] - 4s 22ms/sample - loss: 0.0000e+00 - acc: 0.5000 - val_loss: 60.8081 - val_acc: 0.8500\n",
      "Epoch 149/1000\n",
      "200/200 [==============================] - 4s 21ms/sample - loss: 0.0000e+00 - acc: 0.5000 - val_loss: 60.8081 - val_acc: 0.8500\n",
      "Epoch 150/1000\n",
      "200/200 [==============================] - 4s 21ms/sample - loss: 0.0000e+00 - acc: 0.5000 - val_loss: 60.8081 - val_acc: 0.8500\n",
      "Epoch 151/1000\n",
      "200/200 [==============================] - 4s 21ms/sample - loss: 0.0000e+00 - acc: 0.5000 - val_loss: 60.8081 - val_acc: 0.8500\n",
      "Epoch 152/1000\n",
      "200/200 [==============================] - 4s 21ms/sample - loss: 0.0000e+00 - acc: 0.5000 - val_loss: 60.8081 - val_acc: 0.8500\n",
      "Epoch 153/1000\n",
      "200/200 [==============================] - 4s 21ms/sample - loss: 0.0000e+00 - acc: 0.5000 - val_loss: 60.8081 - val_acc: 0.8500\n",
      "Epoch 154/1000\n",
      "200/200 [==============================] - 4s 21ms/sample - loss: 0.0000e+00 - acc: 0.5000 - val_loss: 60.8081 - val_acc: 0.8500\n",
      "Epoch 155/1000\n",
      "200/200 [==============================] - 4s 21ms/sample - loss: 0.0000e+00 - acc: 0.5000 - val_loss: 60.8081 - val_acc: 0.8500\n",
      "Epoch 156/1000\n",
      "200/200 [==============================] - 4s 21ms/sample - loss: 0.0000e+00 - acc: 0.5000 - val_loss: 60.8081 - val_acc: 0.8500\n",
      "Epoch 157/1000\n",
      "200/200 [==============================] - 4s 21ms/sample - loss: 0.0000e+00 - acc: 0.5000 - val_loss: 60.8081 - val_acc: 0.8500\n",
      "Epoch 158/1000\n",
      "200/200 [==============================] - 4s 21ms/sample - loss: 0.0000e+00 - acc: 0.5000 - val_loss: 60.8081 - val_acc: 0.8500\n",
      "Epoch 159/1000\n",
      "200/200 [==============================] - 5s 23ms/sample - loss: 0.0000e+00 - acc: 0.5000 - val_loss: 60.8081 - val_acc: 0.8500\n",
      "Epoch 160/1000\n",
      "200/200 [==============================] - 4s 22ms/sample - loss: 0.0000e+00 - acc: 0.5000 - val_loss: 60.8081 - val_acc: 0.8500\n",
      "Epoch 161/1000\n",
      "200/200 [==============================] - 4s 21ms/sample - loss: 0.0000e+00 - acc: 0.5000 - val_loss: 60.8081 - val_acc: 0.8500\n",
      "Epoch 162/1000\n",
      "200/200 [==============================] - 4s 21ms/sample - loss: 0.0000e+00 - acc: 0.5000 - val_loss: 60.8081 - val_acc: 0.8500\n",
      "Epoch 163/1000\n",
      "200/200 [==============================] - 4s 21ms/sample - loss: 0.0000e+00 - acc: 0.5000 - val_loss: 60.8081 - val_acc: 0.8500\n",
      "Epoch 164/1000\n",
      "200/200 [==============================] - 4s 21ms/sample - loss: 0.0000e+00 - acc: 0.5000 - val_loss: 60.8081 - val_acc: 0.8500\n",
      "Epoch 165/1000\n",
      "200/200 [==============================] - 4s 22ms/sample - loss: 0.0000e+00 - acc: 0.5000 - val_loss: 60.8081 - val_acc: 0.8500\n",
      "Epoch 166/1000\n",
      "200/200 [==============================] - 4s 21ms/sample - loss: 0.0000e+00 - acc: 0.5000 - val_loss: 60.8081 - val_acc: 0.8500\n",
      "Epoch 167/1000\n",
      "200/200 [==============================] - 4s 22ms/sample - loss: 0.0000e+00 - acc: 0.5000 - val_loss: 60.8081 - val_acc: 0.8500\n",
      "Epoch 168/1000\n",
      "200/200 [==============================] - 4s 22ms/sample - loss: 0.0000e+00 - acc: 0.5000 - val_loss: 60.8081 - val_acc: 0.8500\n",
      "Epoch 169/1000\n",
      "200/200 [==============================] - 5s 23ms/sample - loss: 0.0000e+00 - acc: 0.5000 - val_loss: 60.8081 - val_acc: 0.8500\n",
      "Epoch 170/1000\n",
      "200/200 [==============================] - 4s 21ms/sample - loss: 0.0000e+00 - acc: 0.5000 - val_loss: 60.8081 - val_acc: 0.8500\n",
      "Epoch 171/1000\n",
      "200/200 [==============================] - 4s 22ms/sample - loss: 0.0000e+00 - acc: 0.5000 - val_loss: 60.8081 - val_acc: 0.8500\n",
      "Epoch 172/1000\n",
      "200/200 [==============================] - 4s 22ms/sample - loss: 0.0000e+00 - acc: 0.5000 - val_loss: 60.8081 - val_acc: 0.8500\n",
      "Epoch 173/1000\n",
      "200/200 [==============================] - 4s 22ms/sample - loss: 0.0000e+00 - acc: 0.5000 - val_loss: 60.8081 - val_acc: 0.8500\n",
      "Epoch 174/1000\n",
      "200/200 [==============================] - 4s 21ms/sample - loss: 0.0000e+00 - acc: 0.5000 - val_loss: 60.8081 - val_acc: 0.8500\n",
      "Epoch 175/1000\n",
      "200/200 [==============================] - 4s 21ms/sample - loss: 0.0000e+00 - acc: 0.5000 - val_loss: 60.8081 - val_acc: 0.8500\n",
      "Epoch 176/1000\n",
      "200/200 [==============================] - 4s 21ms/sample - loss: 0.0000e+00 - acc: 0.5000 - val_loss: 60.8081 - val_acc: 0.8500\n",
      "Epoch 177/1000\n",
      "200/200 [==============================] - 4s 21ms/sample - loss: 0.0000e+00 - acc: 0.5000 - val_loss: 60.8081 - val_acc: 0.8500\n",
      "Epoch 178/1000\n",
      "200/200 [==============================] - 4s 21ms/sample - loss: 0.0000e+00 - acc: 0.5000 - val_loss: 60.8081 - val_acc: 0.8500\n",
      "Epoch 179/1000\n",
      "200/200 [==============================] - 4s 21ms/sample - loss: 0.0000e+00 - acc: 0.5000 - val_loss: 60.8081 - val_acc: 0.8500\n",
      "Epoch 180/1000\n",
      "200/200 [==============================] - 4s 22ms/sample - loss: 0.0000e+00 - acc: 0.5000 - val_loss: 60.8081 - val_acc: 0.8500\n",
      "Epoch 181/1000\n",
      "200/200 [==============================] - 4s 22ms/sample - loss: 0.0000e+00 - acc: 0.5000 - val_loss: 60.8081 - val_acc: 0.8500\n",
      "Epoch 182/1000\n",
      "200/200 [==============================] - 4s 22ms/sample - loss: 0.0000e+00 - acc: 0.5000 - val_loss: 60.8081 - val_acc: 0.8500\n",
      "Epoch 183/1000\n",
      "200/200 [==============================] - 4s 22ms/sample - loss: 0.0000e+00 - acc: 0.5000 - val_loss: 60.8081 - val_acc: 0.8500\n",
      "Epoch 184/1000\n",
      "200/200 [==============================] - 4s 20ms/sample - loss: 0.0000e+00 - acc: 0.5000 - val_loss: 60.8081 - val_acc: 0.8500\n",
      "Epoch 185/1000\n",
      "200/200 [==============================] - 4s 22ms/sample - loss: 0.0000e+00 - acc: 0.5000 - val_loss: 60.8081 - val_acc: 0.8500\n",
      "Epoch 186/1000\n",
      "200/200 [==============================] - 4s 22ms/sample - loss: 0.0000e+00 - acc: 0.5000 - val_loss: 60.8081 - val_acc: 0.8500\n",
      "Epoch 187/1000\n",
      "200/200 [==============================] - 4s 21ms/sample - loss: 0.0000e+00 - acc: 0.5000 - val_loss: 60.8081 - val_acc: 0.8500\n",
      "Epoch 188/1000\n",
      "200/200 [==============================] - 4s 21ms/sample - loss: 0.0000e+00 - acc: 0.5000 - val_loss: 60.8081 - val_acc: 0.8500\n",
      "Epoch 189/1000\n",
      "200/200 [==============================] - 4s 21ms/sample - loss: 0.0000e+00 - acc: 0.5000 - val_loss: 60.8081 - val_acc: 0.8500\n",
      "Epoch 190/1000\n",
      "200/200 [==============================] - 4s 21ms/sample - loss: 0.0000e+00 - acc: 0.5000 - val_loss: 60.8081 - val_acc: 0.8500\n",
      "Epoch 191/1000\n",
      "200/200 [==============================] - 4s 21ms/sample - loss: 0.0000e+00 - acc: 0.5000 - val_loss: 60.8081 - val_acc: 0.8500\n",
      "Epoch 192/1000\n",
      "200/200 [==============================] - 4s 21ms/sample - loss: 0.0000e+00 - acc: 0.5000 - val_loss: 60.8081 - val_acc: 0.8500\n",
      "Epoch 193/1000\n",
      "200/200 [==============================] - 4s 21ms/sample - loss: 0.0000e+00 - acc: 0.5000 - val_loss: 60.8081 - val_acc: 0.8500\n",
      "Epoch 194/1000\n",
      "200/200 [==============================] - 4s 21ms/sample - loss: 0.0000e+00 - acc: 0.5000 - val_loss: 60.8081 - val_acc: 0.8500\n",
      "Epoch 195/1000\n",
      "200/200 [==============================] - 4s 21ms/sample - loss: 0.0000e+00 - acc: 0.5000 - val_loss: 60.8081 - val_acc: 0.8500\n",
      "Epoch 196/1000\n",
      "200/200 [==============================] - 4s 21ms/sample - loss: 0.0000e+00 - acc: 0.5000 - val_loss: 60.8081 - val_acc: 0.8500\n",
      "Epoch 197/1000\n",
      "200/200 [==============================] - 4s 21ms/sample - loss: 0.0000e+00 - acc: 0.5000 - val_loss: 60.8081 - val_acc: 0.8500\n",
      "Epoch 198/1000\n",
      "200/200 [==============================] - 4s 22ms/sample - loss: 0.0000e+00 - acc: 0.5000 - val_loss: 60.8081 - val_acc: 0.8500\n",
      "Epoch 199/1000\n",
      "200/200 [==============================] - 4s 21ms/sample - loss: 0.0000e+00 - acc: 0.5000 - val_loss: 60.8081 - val_acc: 0.8500\n",
      "Epoch 200/1000\n",
      "200/200 [==============================] - 4s 22ms/sample - loss: 0.0000e+00 - acc: 0.5000 - val_loss: 60.8081 - val_acc: 0.8500\n",
      "Epoch 201/1000\n",
      "200/200 [==============================] - 4s 22ms/sample - loss: 0.0000e+00 - acc: 0.5000 - val_loss: 60.8081 - val_acc: 0.8500\n",
      "Epoch 202/1000\n",
      "200/200 [==============================] - 4s 22ms/sample - loss: 0.0000e+00 - acc: 0.5000 - val_loss: 60.8081 - val_acc: 0.8500\n",
      "Epoch 203/1000\n",
      "200/200 [==============================] - 5s 23ms/sample - loss: 0.0000e+00 - acc: 0.5000 - val_loss: 60.8081 - val_acc: 0.8500\n",
      "Epoch 204/1000\n",
      "200/200 [==============================] - 4s 22ms/sample - loss: 0.0000e+00 - acc: 0.5000 - val_loss: 60.8081 - val_acc: 0.8500\n",
      "Epoch 205/1000\n",
      "200/200 [==============================] - 4s 22ms/sample - loss: 0.0000e+00 - acc: 0.5000 - val_loss: 60.8081 - val_acc: 0.8500\n",
      "Epoch 206/1000\n",
      "200/200 [==============================] - 4s 22ms/sample - loss: 0.0000e+00 - acc: 0.5000 - val_loss: 60.8081 - val_acc: 0.8500\n",
      "Epoch 207/1000\n",
      "200/200 [==============================] - 4s 22ms/sample - loss: 0.0000e+00 - acc: 0.5000 - val_loss: 60.8081 - val_acc: 0.8500\n",
      "Epoch 208/1000\n",
      "200/200 [==============================] - 4s 20ms/sample - loss: 0.0000e+00 - acc: 0.5000 - val_loss: 60.8081 - val_acc: 0.8500\n",
      "Epoch 209/1000\n",
      "200/200 [==============================] - 4s 21ms/sample - loss: 0.0000e+00 - acc: 0.5000 - val_loss: 60.8081 - val_acc: 0.8500\n",
      "Epoch 210/1000\n",
      "200/200 [==============================] - 4s 22ms/sample - loss: 0.0000e+00 - acc: 0.5000 - val_loss: 60.8081 - val_acc: 0.8500\n",
      "Epoch 211/1000\n",
      "200/200 [==============================] - 5s 23ms/sample - loss: 0.0000e+00 - acc: 0.5000 - val_loss: 60.8081 - val_acc: 0.8500\n",
      "Epoch 212/1000\n",
      "200/200 [==============================] - 4s 22ms/sample - loss: 0.0000e+00 - acc: 0.5000 - val_loss: 60.8081 - val_acc: 0.8500\n",
      "Epoch 213/1000\n",
      "200/200 [==============================] - 4s 21ms/sample - loss: 0.0000e+00 - acc: 0.5000 - val_loss: 60.8081 - val_acc: 0.8500\n",
      "Epoch 214/1000\n",
      "200/200 [==============================] - 4s 20ms/sample - loss: 0.0000e+00 - acc: 0.5000 - val_loss: 60.8081 - val_acc: 0.8500\n",
      "Epoch 215/1000\n",
      "200/200 [==============================] - 5s 25ms/sample - loss: 0.0000e+00 - acc: 0.5000 - val_loss: 60.8081 - val_acc: 0.8500\n",
      "Epoch 216/1000\n",
      "200/200 [==============================] - 5s 24ms/sample - loss: 0.0000e+00 - acc: 0.5000 - val_loss: 60.8081 - val_acc: 0.8500\n",
      "Epoch 217/1000\n",
      "200/200 [==============================] - 5s 24ms/sample - loss: 0.0000e+00 - acc: 0.5000 - val_loss: 60.8081 - val_acc: 0.8500\n",
      "Epoch 218/1000\n",
      "200/200 [==============================] - 5s 23ms/sample - loss: 0.0000e+00 - acc: 0.5000 - val_loss: 60.8081 - val_acc: 0.8500\n",
      "Epoch 219/1000\n",
      "200/200 [==============================] - 5s 23ms/sample - loss: 0.0000e+00 - acc: 0.5000 - val_loss: 60.8081 - val_acc: 0.8500\n",
      "Epoch 220/1000\n",
      "200/200 [==============================] - 5s 23ms/sample - loss: 0.0000e+00 - acc: 0.5000 - val_loss: 60.8081 - val_acc: 0.8500\n",
      "Epoch 221/1000\n",
      "200/200 [==============================] - 5s 23ms/sample - loss: 0.0000e+00 - acc: 0.5000 - val_loss: 60.8081 - val_acc: 0.8500\n",
      "Epoch 222/1000\n",
      "200/200 [==============================] - 5s 23ms/sample - loss: 0.0000e+00 - acc: 0.5000 - val_loss: 60.8081 - val_acc: 0.8500\n",
      "Epoch 223/1000\n",
      "200/200 [==============================] - 5s 23ms/sample - loss: 0.0000e+00 - acc: 0.5000 - val_loss: 60.8081 - val_acc: 0.8500\n",
      "Epoch 224/1000\n",
      "200/200 [==============================] - 5s 23ms/sample - loss: 0.0000e+00 - acc: 0.5000 - val_loss: 60.8081 - val_acc: 0.8500\n",
      "Epoch 225/1000\n",
      "200/200 [==============================] - 4s 22ms/sample - loss: 0.0000e+00 - acc: 0.5000 - val_loss: 60.8081 - val_acc: 0.8500\n",
      "Epoch 226/1000\n",
      "200/200 [==============================] - 4s 22ms/sample - loss: 0.0000e+00 - acc: 0.5000 - val_loss: 60.8081 - val_acc: 0.8500\n",
      "Epoch 227/1000\n",
      "200/200 [==============================] - 5s 23ms/sample - loss: 0.0000e+00 - acc: 0.5000 - val_loss: 60.8081 - val_acc: 0.8500\n",
      "Epoch 228/1000\n",
      "200/200 [==============================] - 5s 24ms/sample - loss: 0.0000e+00 - acc: 0.5000 - val_loss: 60.8081 - val_acc: 0.8500\n",
      "Epoch 229/1000\n",
      "200/200 [==============================] - 5s 23ms/sample - loss: 0.0000e+00 - acc: 0.5000 - val_loss: 60.8081 - val_acc: 0.8500\n",
      "Epoch 230/1000\n",
      "200/200 [==============================] - 5s 23ms/sample - loss: 0.0000e+00 - acc: 0.5000 - val_loss: 60.8081 - val_acc: 0.8500\n",
      "Epoch 231/1000\n",
      "200/200 [==============================] - 4s 22ms/sample - loss: 0.0000e+00 - acc: 0.5000 - val_loss: 60.8081 - val_acc: 0.8500\n",
      "Epoch 232/1000\n",
      "200/200 [==============================] - 4s 21ms/sample - loss: 0.0000e+00 - acc: 0.5000 - val_loss: 60.8081 - val_acc: 0.8500\n",
      "Epoch 233/1000\n",
      "200/200 [==============================] - 4s 22ms/sample - loss: 0.0000e+00 - acc: 0.5000 - val_loss: 60.8081 - val_acc: 0.8500\n",
      "Epoch 234/1000\n",
      "200/200 [==============================] - 5s 23ms/sample - loss: 0.0000e+00 - acc: 0.5000 - val_loss: 60.8081 - val_acc: 0.8500\n",
      "Epoch 235/1000\n",
      "200/200 [==============================] - 4s 22ms/sample - loss: 0.0000e+00 - acc: 0.5000 - val_loss: 60.8081 - val_acc: 0.8500\n",
      "Epoch 236/1000\n",
      "200/200 [==============================] - 5s 23ms/sample - loss: 0.0000e+00 - acc: 0.5000 - val_loss: 60.8081 - val_acc: 0.8500\n",
      "Epoch 237/1000\n",
      "200/200 [==============================] - 4s 22ms/sample - loss: 0.0000e+00 - acc: 0.5000 - val_loss: 60.8081 - val_acc: 0.8500\n",
      "Epoch 238/1000\n",
      "200/200 [==============================] - 4s 22ms/sample - loss: 0.0000e+00 - acc: 0.5000 - val_loss: 60.8081 - val_acc: 0.8500\n",
      "Epoch 239/1000\n",
      "200/200 [==============================] - 5s 23ms/sample - loss: 0.0000e+00 - acc: 0.5000 - val_loss: 60.8081 - val_acc: 0.8500\n",
      "Epoch 240/1000\n",
      "200/200 [==============================] - 5s 23ms/sample - loss: 0.0000e+00 - acc: 0.5000 - val_loss: 60.8081 - val_acc: 0.8500\n",
      "Epoch 241/1000\n",
      "200/200 [==============================] - 5s 23ms/sample - loss: 0.0000e+00 - acc: 0.5000 - val_loss: 60.8081 - val_acc: 0.8500\n",
      "Epoch 242/1000\n",
      "200/200 [==============================] - 5s 23ms/sample - loss: 0.0000e+00 - acc: 0.5000 - val_loss: 60.8081 - val_acc: 0.8500\n",
      "Epoch 243/1000\n",
      "200/200 [==============================] - 5s 23ms/sample - loss: 0.0000e+00 - acc: 0.5000 - val_loss: 60.8081 - val_acc: 0.8500\n",
      "Epoch 244/1000\n",
      "200/200 [==============================] - 5s 23ms/sample - loss: 0.0000e+00 - acc: 0.5000 - val_loss: 60.8081 - val_acc: 0.8500\n",
      "Epoch 245/1000\n",
      "200/200 [==============================] - 5s 23ms/sample - loss: 0.0000e+00 - acc: 0.5000 - val_loss: 60.8081 - val_acc: 0.8500\n",
      "Epoch 246/1000\n",
      "200/200 [==============================] - 5s 23ms/sample - loss: 0.0000e+00 - acc: 0.5000 - val_loss: 60.8081 - val_acc: 0.8500\n",
      "Epoch 247/1000\n",
      "200/200 [==============================] - 5s 23ms/sample - loss: 0.0000e+00 - acc: 0.5000 - val_loss: 60.8081 - val_acc: 0.8500\n",
      "Epoch 248/1000\n",
      "200/200 [==============================] - 5s 23ms/sample - loss: 0.0000e+00 - acc: 0.5000 - val_loss: 60.8081 - val_acc: 0.8500\n",
      "Epoch 249/1000\n",
      "200/200 [==============================] - 5s 23ms/sample - loss: 0.0000e+00 - acc: 0.5000 - val_loss: 60.8081 - val_acc: 0.8500\n",
      "Epoch 250/1000\n",
      "200/200 [==============================] - 5s 23ms/sample - loss: 0.0000e+00 - acc: 0.5000 - val_loss: 60.8081 - val_acc: 0.8500\n",
      "Epoch 251/1000\n",
      "200/200 [==============================] - 5s 23ms/sample - loss: 0.0000e+00 - acc: 0.5000 - val_loss: 60.8081 - val_acc: 0.8500\n",
      "Epoch 252/1000\n",
      "200/200 [==============================] - 5s 23ms/sample - loss: 0.0000e+00 - acc: 0.5000 - val_loss: 60.8081 - val_acc: 0.8500\n",
      "Epoch 253/1000\n",
      "200/200 [==============================] - 5s 23ms/sample - loss: 0.0000e+00 - acc: 0.5000 - val_loss: 60.8081 - val_acc: 0.8500\n",
      "Epoch 254/1000\n",
      "200/200 [==============================] - 4s 22ms/sample - loss: 0.0000e+00 - acc: 0.5000 - val_loss: 60.8081 - val_acc: 0.8500\n",
      "Epoch 255/1000\n",
      "200/200 [==============================] - 5s 23ms/sample - loss: 0.0000e+00 - acc: 0.5000 - val_loss: 60.8081 - val_acc: 0.8500\n",
      "Epoch 256/1000\n",
      "200/200 [==============================] - 4s 22ms/sample - loss: 0.0000e+00 - acc: 0.5000 - val_loss: 60.8081 - val_acc: 0.8500\n",
      "Epoch 257/1000\n",
      "200/200 [==============================] - 4s 22ms/sample - loss: 0.0000e+00 - acc: 0.5000 - val_loss: 60.8081 - val_acc: 0.8500\n",
      "Epoch 258/1000\n",
      "200/200 [==============================] - 5s 23ms/sample - loss: 0.0000e+00 - acc: 0.5000 - val_loss: 60.8081 - val_acc: 0.8500\n",
      "Epoch 259/1000\n",
      "200/200 [==============================] - 4s 22ms/sample - loss: 0.0000e+00 - acc: 0.5000 - val_loss: 60.8081 - val_acc: 0.8500\n",
      "Epoch 260/1000\n",
      "200/200 [==============================] - 4s 22ms/sample - loss: 0.0000e+00 - acc: 0.5000 - val_loss: 60.8081 - val_acc: 0.8500\n",
      "Epoch 261/1000\n",
      "200/200 [==============================] - 5s 23ms/sample - loss: 0.0000e+00 - acc: 0.5000 - val_loss: 60.8081 - val_acc: 0.8500\n",
      "Epoch 262/1000\n",
      "200/200 [==============================] - 5s 23ms/sample - loss: 0.0000e+00 - acc: 0.5000 - val_loss: 60.8081 - val_acc: 0.8500\n",
      "Epoch 263/1000\n",
      "200/200 [==============================] - 5s 23ms/sample - loss: 0.0000e+00 - acc: 0.5000 - val_loss: 60.8081 - val_acc: 0.8500\n",
      "Epoch 264/1000\n",
      "200/200 [==============================] - 5s 24ms/sample - loss: 0.0000e+00 - acc: 0.5000 - val_loss: 60.8081 - val_acc: 0.8500\n",
      "Epoch 265/1000\n",
      "200/200 [==============================] - 4s 22ms/sample - loss: 0.0000e+00 - acc: 0.5000 - val_loss: 60.8081 - val_acc: 0.8500\n",
      "Epoch 266/1000\n",
      "200/200 [==============================] - 4s 21ms/sample - loss: 0.0000e+00 - acc: 0.5000 - val_loss: 60.8081 - val_acc: 0.8500\n",
      "Epoch 267/1000\n",
      "200/200 [==============================] - 4s 20ms/sample - loss: 0.0000e+00 - acc: 0.5000 - val_loss: 60.8081 - val_acc: 0.8500\n",
      "Epoch 268/1000\n",
      "200/200 [==============================] - 4s 20ms/sample - loss: 0.0000e+00 - acc: 0.5000 - val_loss: 60.8081 - val_acc: 0.8500\n",
      "Epoch 269/1000\n",
      "200/200 [==============================] - 6s 29ms/sample - loss: 0.0000e+00 - acc: 0.5000 - val_loss: 60.8081 - val_acc: 0.8500\n",
      "Epoch 270/1000\n",
      "200/200 [==============================] - 5s 24ms/sample - loss: 0.0000e+00 - acc: 0.5000 - val_loss: 60.8081 - val_acc: 0.8500\n",
      "Epoch 271/1000\n",
      "200/200 [==============================] - 5s 24ms/sample - loss: 0.0000e+00 - acc: 0.5000 - val_loss: 60.8081 - val_acc: 0.8500\n",
      "Epoch 272/1000\n",
      "200/200 [==============================] - 5s 24ms/sample - loss: 0.0000e+00 - acc: 0.5000 - val_loss: 60.8081 - val_acc: 0.8500\n",
      "Epoch 273/1000\n",
      "200/200 [==============================] - 5s 26ms/sample - loss: 0.0000e+00 - acc: 0.5000 - val_loss: 60.8081 - val_acc: 0.8500\n",
      "Epoch 274/1000\n",
      "200/200 [==============================] - 4s 22ms/sample - loss: 0.0000e+00 - acc: 0.5000 - val_loss: 60.8081 - val_acc: 0.8500\n",
      "Epoch 275/1000\n",
      "200/200 [==============================] - 4s 22ms/sample - loss: 0.0000e+00 - acc: 0.5000 - val_loss: 60.8081 - val_acc: 0.8500\n",
      "Epoch 276/1000\n",
      "200/200 [==============================] - 4s 22ms/sample - loss: 0.0000e+00 - acc: 0.5000 - val_loss: 60.8081 - val_acc: 0.8500\n",
      "Epoch 277/1000\n",
      "200/200 [==============================] - 4s 21ms/sample - loss: 0.0000e+00 - acc: 0.5000 - val_loss: 60.8081 - val_acc: 0.8500\n",
      "Epoch 278/1000\n",
      "200/200 [==============================] - 4s 20ms/sample - loss: 0.0000e+00 - acc: 0.5000 - val_loss: 60.8081 - val_acc: 0.8500\n",
      "Epoch 279/1000\n",
      "200/200 [==============================] - 4s 21ms/sample - loss: 0.0000e+00 - acc: 0.5000 - val_loss: 60.8081 - val_acc: 0.8500\n",
      "Epoch 280/1000\n",
      "200/200 [==============================] - 4s 21ms/sample - loss: 0.0000e+00 - acc: 0.5000 - val_loss: 60.8081 - val_acc: 0.8500\n",
      "Epoch 281/1000\n",
      "200/200 [==============================] - 4s 21ms/sample - loss: 0.0000e+00 - acc: 0.5000 - val_loss: 60.8081 - val_acc: 0.8500\n",
      "Epoch 282/1000\n",
      "200/200 [==============================] - 4s 20ms/sample - loss: 0.0000e+00 - acc: 0.5000 - val_loss: 60.8081 - val_acc: 0.8500\n",
      "Epoch 283/1000\n",
      "200/200 [==============================] - 4s 20ms/sample - loss: 0.0000e+00 - acc: 0.5000 - val_loss: 60.8081 - val_acc: 0.8500\n",
      "Epoch 284/1000\n",
      "200/200 [==============================] - 4s 20ms/sample - loss: 0.0000e+00 - acc: 0.5000 - val_loss: 60.8081 - val_acc: 0.8500\n",
      "Epoch 285/1000\n",
      "200/200 [==============================] - 4s 20ms/sample - loss: 0.0000e+00 - acc: 0.5000 - val_loss: 60.8081 - val_acc: 0.8500\n",
      "Epoch 286/1000\n",
      "200/200 [==============================] - 4s 20ms/sample - loss: 0.0000e+00 - acc: 0.5000 - val_loss: 60.8081 - val_acc: 0.8500\n",
      "Epoch 287/1000\n",
      "200/200 [==============================] - 4s 20ms/sample - loss: 0.0000e+00 - acc: 0.5000 - val_loss: 60.8081 - val_acc: 0.8500\n",
      "Epoch 288/1000\n",
      "200/200 [==============================] - 4s 20ms/sample - loss: 0.0000e+00 - acc: 0.5000 - val_loss: 60.8081 - val_acc: 0.8500\n",
      "Epoch 289/1000\n",
      "200/200 [==============================] - 4s 21ms/sample - loss: 0.0000e+00 - acc: 0.5000 - val_loss: 60.8081 - val_acc: 0.8500\n",
      "Epoch 290/1000\n",
      "200/200 [==============================] - 4s 22ms/sample - loss: 0.0000e+00 - acc: 0.5000 - val_loss: 60.8081 - val_acc: 0.8500\n",
      "Epoch 291/1000\n",
      "200/200 [==============================] - 4s 20ms/sample - loss: 0.0000e+00 - acc: 0.5000 - val_loss: 60.8081 - val_acc: 0.8500\n",
      "Epoch 292/1000\n",
      "200/200 [==============================] - 4s 19ms/sample - loss: 0.0000e+00 - acc: 0.5000 - val_loss: 60.8081 - val_acc: 0.8500\n",
      "Epoch 293/1000\n",
      "200/200 [==============================] - 4s 20ms/sample - loss: 0.0000e+00 - acc: 0.5000 - val_loss: 60.8081 - val_acc: 0.8500\n",
      "Epoch 294/1000\n",
      "200/200 [==============================] - 4s 20ms/sample - loss: 0.0000e+00 - acc: 0.5000 - val_loss: 60.8081 - val_acc: 0.8500\n",
      "Epoch 295/1000\n",
      "192/200 [===========================>..] - ETA: 0s - loss: 0.0000e+00 - acc: 0.5000"
     ]
    }
   ],
   "source": [
    "import numpy as np\n",
    "from sklearn.model_selection import StratifiedKFold,KFold\n",
    "import shutil\n",
    "#import tensorflow as tf\n",
    "#tf.compat.v1.disable_eager_execution()\n",
    "#tf.compat.v1.disable_v2_behavior()\n",
    "\n",
    "kfold = KFold(n_splits=6,shuffle=False)\n",
    "scores = []\n",
    "# kfold = StratifiedKFold(n_splits=6, shuffle=True,random_state=1)\n",
    "%matplotlib inline\n",
    "import matplotlib.pyplot as plt\n",
    "import keras\n",
    "from sklearn.utils import shuffle\n",
    "opt = keras.optimizers.Adam(learning_rate = 0.00025)\n",
    "model.compile(optimizer=opt, loss = 'binary_crossentropy',  metrics=['accuracy'])\n",
    "# print(image_list.shape[0])\n",
    "saveDir=\"data/train_aug/\"   #数据增强生成图片的路径文件夹\n",
    "if not os.path.exists(saveDir):\n",
    "    os.mkdir(saveDir)\n",
    "\n",
    "i = 0\n",
    "for train, test in kfold.split(image_list, label_list):\n",
    "        print('1',len(image_list[train]))\n",
    "        train_im_list, train_label_list = createImage(image_list[train],label_list[train],saveDir)\n",
    "        train_im_list, train_label_list = shuffle(train_im_list, train_label_list, random_state=1280) \n",
    "        # print(len(train_im_list),len(image_list[test]))\n",
    "        h = model.fit(process_train(train_im_list, train_label_list,s), validation_data=(process_train(image_list[test],label_list[test],s)), epochs=1000, batch_size=8)\n",
    "        #  Visualization of training process\n",
    "        scores.append([h.history[\"loss\"],h.history[\"acc\"],\n",
    "                       h.history[\"val_loss\"],h.history[\"val_acc\"]])\n",
    "        i+=1\n",
    "    \n",
    "scores = np.array(scores)\n",
    "shutil.rmtree(saveDir)\n",
    "scores = np.mean(scores,axis= 0)\n",
    "\n",
    "print(scores)\n",
    "labs = [\"loss\",\"acc\",\"val_loss\",\"val_acc\"]\n",
    "result = zip([l+'_mean' for l in labs],[s[-1] for s in scores])\n",
    "[print(res) for res in result]\n",
    "[plt.plot(scores[i],label=labs[i]) for i in range(len(scores))]\n",
    "plt.legend()\n",
    "plt.savefig('eval'+'.png', dpi=300,bbox_inches = 'tight') #bbox_inches可完整显示\n",
    "plt.show()"
   ],
   "metadata": {
    "collapsed": false,
    "is_executing": true,
    "ExecuteTime": {
     "start_time": "2023-12-06T16:14:02.530418700Z"
    }
   },
   "id": "e42100a004de3d00"
  },
  {
   "cell_type": "code",
   "execution_count": null,
   "outputs": [],
   "source": [
    "print\n",
    "np.mean(scores[3])"
   ],
   "metadata": {
    "collapsed": false,
    "ExecuteTime": {
     "end_time": "2023-12-06T16:08:20.040264Z",
     "start_time": "2023-12-06T16:08:20.037274500Z"
    }
   },
   "id": "d1384181dc26dbba"
  },
  {
   "cell_type": "code",
   "execution_count": null,
   "outputs": [],
   "source": [],
   "metadata": {
    "collapsed": false,
    "ExecuteTime": {
     "start_time": "2023-12-06T15:42:27.520863200Z"
    }
   },
   "id": "23c3d019662ee49f"
  },
  {
   "cell_type": "code",
   "execution_count": null,
   "outputs": [],
   "source": [],
   "metadata": {
    "collapsed": false
   },
   "id": "8b45e15fd94a5dbf"
  }
 ],
 "metadata": {
  "kernelspec": {
   "display_name": "Python 3",
   "language": "python",
   "name": "python3"
  },
  "language_info": {
   "codemirror_mode": {
    "name": "ipython",
    "version": 2
   },
   "file_extension": ".py",
   "mimetype": "text/x-python",
   "name": "python",
   "nbconvert_exporter": "python",
   "pygments_lexer": "ipython2",
   "version": "2.7.6"
  }
 },
 "nbformat": 4,
 "nbformat_minor": 5
}
