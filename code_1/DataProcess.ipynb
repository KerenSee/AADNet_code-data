{
 "cells": [
  {
   "cell_type": "markdown",
   "source": [],
   "metadata": {
    "collapsed": false
   },
   "id": "a56747ec1b6000c5"
  },
  {
   "cell_type": "code",
   "execution_count": null,
   "outputs": [],
   "source": [
    "import os\n",
    "import mne\n",
    "import numpy as np\n",
    "PathName = ('../Data/')\n",
    "output_directory = '../ProcessedData/'\n",
    "#统计文件个数\n",
    "def CountFiles(path):\n",
    "    count = 0\n",
    "    for files in os.listdir(path):\n",
    "        count += 1\n",
    "    return count\n",
    "#使用函数\n",
    "#CountFiles(PathName)\n",
    "#读取文件\n",
    "file_paths = [os.path.join(PathName, file) for file in os.listdir(PathName) if file.endswith('.set')]\n",
    "\n",
    "channels_list = ['P8', 'T8', 'CP6', 'FC6', 'F8', 'F4', 'C4', 'P4', 'AF4', 'Fp2', 'Fp1', 'AF3', 'Fz', 'FC2', 'Cz',\n",
    "                 'CP2', 'PO3', 'O1', 'Oz', 'O2', 'PO4', 'Pz', 'CP1', 'FC1', 'P3', 'C3', 'F3', 'F7', 'FC5', 'CP5', 'T7', 'P7']\n",
    "\n",
    "for file_path in file_paths:\n",
    "    raw = mne.io.read_raw_eeglab(file_path, eog=channels_list, preload=True)\n",
    "    data = raw.get_data()\n",
    "\n",
    "    # 将数据按照采样点 34500 平均分成 6 份\n",
    "    num_segments = 69\n",
    "    segment_size = data.shape[1] // num_segments\n",
    "\n",
    "    for i in range(num_segments):\n",
    "        start_idx = i * segment_size\n",
    "        end_idx = (i + 1) * segment_size\n",
    "\n",
    "        \n",
    "        output_file_name = f\"{os.path.basename(file_path).split('.')[0]}_segment_{i + 1}.fif\"\n",
    "        output_file_path = os.path.join(output_directory, output_file_name)\n",
    "\n",
    "        # 创建新的 Raw 对象\n",
    "        raw_segment = mne.io.RawArray(data[:, start_idx:end_idx], raw.info)\n",
    "\n",
    "        # 保存 Raw 对象到新的文件\n",
    "        raw_segment.save(output_file_path, overwrite=True)\n",
    "\n",
    "print(\"Processing completed.\")"
   ],
   "metadata": {
    "collapsed": false
   },
   "id": "5ebe296c8fcc7b88"
  },
  {
   "cell_type": "code",
   "execution_count": null,
   "outputs": [],
   "source": [
    "seg_path_name = '../ProcessedData/Data1-post_segment_6.fif'\n",
    "raw = mne.io.read_raw_fif(seg_path_name)\n",
    "data = raw.get_data()\n",
    "print(data.shape)"
   ],
   "metadata": {
    "collapsed": false
   },
   "id": "194390aa30df4290"
  },
  {
   "cell_type": "code",
   "execution_count": null,
   "outputs": [],
   "source": [
    "import mne\n",
    "\n",
    "# 指定 EEG 文件的路径\n",
    "eeg_file_path = '你的文件路径.set'\n",
    "\n",
    "# 读取 EEG 数据，但不预加载\n",
    "raw = mne.io.read_raw_eeglab(eeg_file_path, preload=False)\n",
    "\n",
    "# 打印原始数据的信息\n",
    "print(raw.info)\n",
    "\n",
    "# 指定要加载的 EEG 通道\n",
    "eeg_channels = ['P8', 'T8', 'CP6', 'FC6', 'F8', 'F4', 'C4', 'P4', 'AF4', 'Fp2', 'Fp1', 'AF3', 'Fz', 'FC2', 'Cz',\n",
    "                 'CP2', 'PO3', 'O1', 'Oz', 'O2', 'PO4', 'Pz', 'CP1', 'FC1', 'P3', 'C3', 'F3', 'F7', 'FC5', 'CP5', 'T7', 'P7']  # 用你的实际通道名替换\n",
    "raw.pick_channels(eeg_channels)\n",
    "\n",
    "# 现在可以加载数据\n",
    "raw.load_data()\n",
    "\n",
    "# 打印加载后的数据信息\n",
    "print(raw.info)"
   ],
   "metadata": {
    "collapsed": false
   },
   "id": "30e938d8463e86a0"
  }
 ],
 "metadata": {
  "kernelspec": {
   "display_name": "Python 3",
   "language": "python",
   "name": "python3"
  },
  "language_info": {
   "codemirror_mode": {
    "name": "ipython",
    "version": 2
   },
   "file_extension": ".py",
   "mimetype": "text/x-python",
   "name": "python",
   "nbconvert_exporter": "python",
   "pygments_lexer": "ipython2",
   "version": "2.7.6"
  }
 },
 "nbformat": 4,
 "nbformat_minor": 5
}
