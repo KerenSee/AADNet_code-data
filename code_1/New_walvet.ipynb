{
 "cells": [
  {
   "cell_type": "code",
   "execution_count": 2,
   "id": "initial_id",
   "metadata": {
    "collapsed": true,
    "ExecuteTime": {
     "end_time": "2023-11-27T13:51:34.081043100Z",
     "start_time": "2023-11-27T13:51:29.808800200Z"
    }
   },
   "outputs": [
    {
     "name": "stdout",
     "output_type": "stream",
     "text": [
      "Reading D:\\P\\EEG_Process_Project\\NewDataSet\\Female1-post.fdt\n",
      "Reading 0 ... 34499  =      0.000 ...    68.998 secs...\n",
      "Reading D:\\P\\EEG_Process_Project\\NewDataSet\\Female2-post.fdt\n",
      "Reading 0 ... 34499  =      0.000 ...    68.998 secs...\n",
      "Reading D:\\P\\EEG_Process_Project\\NewDataSet\\Female3-post.fdt\n",
      "Reading 0 ... 34499  =      0.000 ...    68.998 secs...\n",
      "Reading D:\\P\\EEG_Process_Project\\NewDataSet\\Data1-post.fdt\n",
      "Reading 0 ... 34499  =      0.000 ...    68.998 secs...\n",
      "Reading D:\\P\\EEG_Process_Project\\NewDataSet\\Data2-post.fdt\n",
      "Reading 0 ... 34499  =      0.000 ...    68.998 secs...\n",
      "Reading D:\\P\\EEG_Process_Project\\NewDataSet\\Male1-post.fdt\n",
      "Reading 0 ... 34499  =      0.000 ...    68.998 secs...\n",
      "Reading D:\\P\\EEG_Process_Project\\NewDataSet\\Female7-post.fdt\n",
      "Reading 0 ... 34499  =      0.000 ...    68.998 secs...\n",
      "Reading D:\\P\\EEG_Process_Project\\NewDataSet\\Female8-post.fdt\n",
      "Reading 0 ... 34499  =      0.000 ...    68.998 secs...\n"
     ]
    },
    {
     "name": "stderr",
     "output_type": "stream",
     "text": [
      "C:\\Users\\Keren\\AppData\\Local\\Temp\\ipykernel_20464\\2942066813.py:15: RuntimeWarning: Data file name in EEG.data (TestData2-post.fdt) is incorrect, the file name must have changed on disk, using the correct file name (Data2-post.fdt).\n",
      "  raw = mne.io.read_raw_eeglab(file_path, preload=True)\n"
     ]
    },
    {
     "name": "stdout",
     "output_type": "stream",
     "text": [
      "Reading D:\\P\\EEG_Process_Project\\NewDataSet\\Male2-post.fdt\n",
      "Reading 0 ... 34499  =      0.000 ...    68.998 secs...\n",
      "Reading D:\\P\\EEG_Process_Project\\NewDataSet\\Male4-post.fdt\n",
      "Reading 0 ... 34499  =      0.000 ...    68.998 secs...\n",
      "Reading D:\\P\\EEG_Process_Project\\NewDataSet\\Male5-post.fdt\n",
      "Reading 0 ... 34499  =      0.000 ...    68.998 secs...\n",
      "Reading D:\\P\\EEG_Process_Project\\NewDataSet\\Male6-post.fdt\n",
      "Reading 0 ... 34499  =      0.000 ...    68.998 secs...\n"
     ]
    }
   ],
   "source": [
    "import mne\n",
    "import numpy as np\n",
    "import os\n",
    "\n",
    "# 设置文件路径\n",
    "data_folder = \"D:/P/EEG_Process_Project/NewDataSet/\"\n",
    "file_names = [\"Female1-post.set\", \"Female2-post.set\", \"Female3-post.set\", \"Data1-post.set\", \"Data2-post.set\", \"Male1-post.set\", \"Female7-post.set\", \"Female8-post.set\", \"Male2-post.set\", \"Male4-post.set\", \"Male5-post.set\", \"Male6-post.set\"]\n",
    "dataLabel = [0,0,0,1,0,1,0,0,1,1,1,1]\n",
    "# 用于存储每段 EEG 数据的列表\n",
    "eeg_data_list = []\n",
    "\n",
    "# 读取每个文件中的 EEG 数据\n",
    "for file_name in file_names:\n",
    "    file_path = os.path.join(data_folder, file_name)\n",
    "    raw = mne.io.read_raw_eeglab(file_path, preload=True)\n",
    "    \n",
    "    # 提取前 32 个通道是 EEG 通道\n",
    "    eeg_data = raw.get_data()[:32, :]\n",
    "    eeg_data_list.append(eeg_data)\n",
    "\n",
    "# 将列表中的 EEG 数据合并为一个 numpy 数组\n",
    "data = np.stack(eeg_data_list, axis=0)"
   ]
  },
  {
   "cell_type": "code",
   "execution_count": 3,
   "outputs": [
    {
     "name": "stderr",
     "output_type": "stream",
     "text": [
      "C:\\Users\\Keren\\AppData\\Local\\Temp\\ipykernel_20464\\150784676.py:42: RuntimeWarning: More than 20 figures have been opened. Figures created through the pyplot interface (`matplotlib.pyplot.figure`) are retained until explicitly closed and may consume too much memory. (To control this warning, see the rcParam `figure.max_open_warning`). Consider using `matplotlib.pyplot.close()`.\n",
      "  fig = plt.figure()\n"
     ]
    },
    {
     "name": "stdout",
     "output_type": "stream",
     "text": [
      "wavelet transform completed\n"
     ]
    },
    {
     "data": {
      "text/plain": "<Figure size 800x600 with 0 Axes>"
     },
     "metadata": {},
     "output_type": "display_data"
    },
    {
     "data": {
      "text/plain": "<Figure size 800x600 with 0 Axes>"
     },
     "metadata": {},
     "output_type": "display_data"
    },
    {
     "data": {
      "text/plain": "<Figure size 800x600 with 0 Axes>"
     },
     "metadata": {},
     "output_type": "display_data"
    },
    {
     "data": {
      "text/plain": "<Figure size 800x600 with 0 Axes>"
     },
     "metadata": {},
     "output_type": "display_data"
    },
    {
     "data": {
      "text/plain": "<Figure size 800x600 with 0 Axes>"
     },
     "metadata": {},
     "output_type": "display_data"
    },
    {
     "data": {
      "text/plain": "<Figure size 800x600 with 0 Axes>"
     },
     "metadata": {},
     "output_type": "display_data"
    },
    {
     "data": {
      "text/plain": "<Figure size 800x600 with 0 Axes>"
     },
     "metadata": {},
     "output_type": "display_data"
    },
    {
     "data": {
      "text/plain": "<Figure size 800x600 with 0 Axes>"
     },
     "metadata": {},
     "output_type": "display_data"
    },
    {
     "data": {
      "text/plain": "<Figure size 800x600 with 0 Axes>"
     },
     "metadata": {},
     "output_type": "display_data"
    },
    {
     "data": {
      "text/plain": "<Figure size 800x600 with 0 Axes>"
     },
     "metadata": {},
     "output_type": "display_data"
    },
    {
     "data": {
      "text/plain": "<Figure size 800x600 with 0 Axes>"
     },
     "metadata": {},
     "output_type": "display_data"
    },
    {
     "data": {
      "text/plain": "<Figure size 800x600 with 0 Axes>"
     },
     "metadata": {},
     "output_type": "display_data"
    },
    {
     "data": {
      "text/plain": "<Figure size 800x600 with 0 Axes>"
     },
     "metadata": {},
     "output_type": "display_data"
    },
    {
     "data": {
      "text/plain": "<Figure size 800x600 with 0 Axes>"
     },
     "metadata": {},
     "output_type": "display_data"
    },
    {
     "data": {
      "text/plain": "<Figure size 800x600 with 0 Axes>"
     },
     "metadata": {},
     "output_type": "display_data"
    },
    {
     "data": {
      "text/plain": "<Figure size 800x600 with 0 Axes>"
     },
     "metadata": {},
     "output_type": "display_data"
    },
    {
     "data": {
      "text/plain": "<Figure size 800x600 with 0 Axes>"
     },
     "metadata": {},
     "output_type": "display_data"
    },
    {
     "data": {
      "text/plain": "<Figure size 800x600 with 0 Axes>"
     },
     "metadata": {},
     "output_type": "display_data"
    },
    {
     "data": {
      "text/plain": "<Figure size 800x600 with 0 Axes>"
     },
     "metadata": {},
     "output_type": "display_data"
    },
    {
     "data": {
      "text/plain": "<Figure size 800x600 with 0 Axes>"
     },
     "metadata": {},
     "output_type": "display_data"
    },
    {
     "data": {
      "text/plain": "<Figure size 800x600 with 0 Axes>"
     },
     "metadata": {},
     "output_type": "display_data"
    },
    {
     "data": {
      "text/plain": "<Figure size 800x600 with 0 Axes>"
     },
     "metadata": {},
     "output_type": "display_data"
    },
    {
     "data": {
      "text/plain": "<Figure size 800x600 with 0 Axes>"
     },
     "metadata": {},
     "output_type": "display_data"
    },
    {
     "data": {
      "text/plain": "<Figure size 800x600 with 0 Axes>"
     },
     "metadata": {},
     "output_type": "display_data"
    },
    {
     "data": {
      "text/plain": "<Figure size 800x600 with 0 Axes>"
     },
     "metadata": {},
     "output_type": "display_data"
    },
    {
     "data": {
      "text/plain": "<Figure size 800x600 with 0 Axes>"
     },
     "metadata": {},
     "output_type": "display_data"
    },
    {
     "data": {
      "text/plain": "<Figure size 800x600 with 0 Axes>"
     },
     "metadata": {},
     "output_type": "display_data"
    },
    {
     "data": {
      "text/plain": "<Figure size 800x600 with 0 Axes>"
     },
     "metadata": {},
     "output_type": "display_data"
    },
    {
     "data": {
      "text/plain": "<Figure size 800x600 with 0 Axes>"
     },
     "metadata": {},
     "output_type": "display_data"
    },
    {
     "data": {
      "text/plain": "<Figure size 800x600 with 0 Axes>"
     },
     "metadata": {},
     "output_type": "display_data"
    },
    {
     "data": {
      "text/plain": "<Figure size 800x600 with 0 Axes>"
     },
     "metadata": {},
     "output_type": "display_data"
    },
    {
     "data": {
      "text/plain": "<Figure size 800x600 with 0 Axes>"
     },
     "metadata": {},
     "output_type": "display_data"
    },
    {
     "data": {
      "text/plain": "<Figure size 800x600 with 0 Axes>"
     },
     "metadata": {},
     "output_type": "display_data"
    },
    {
     "data": {
      "text/plain": "<Figure size 800x600 with 0 Axes>"
     },
     "metadata": {},
     "output_type": "display_data"
    },
    {
     "data": {
      "text/plain": "<Figure size 800x600 with 0 Axes>"
     },
     "metadata": {},
     "output_type": "display_data"
    },
    {
     "data": {
      "text/plain": "<Figure size 800x600 with 0 Axes>"
     },
     "metadata": {},
     "output_type": "display_data"
    },
    {
     "data": {
      "text/plain": "<Figure size 800x600 with 0 Axes>"
     },
     "metadata": {},
     "output_type": "display_data"
    },
    {
     "data": {
      "text/plain": "<Figure size 800x600 with 0 Axes>"
     },
     "metadata": {},
     "output_type": "display_data"
    },
    {
     "data": {
      "text/plain": "<Figure size 800x600 with 0 Axes>"
     },
     "metadata": {},
     "output_type": "display_data"
    },
    {
     "data": {
      "text/plain": "<Figure size 800x600 with 0 Axes>"
     },
     "metadata": {},
     "output_type": "display_data"
    },
    {
     "data": {
      "text/plain": "<Figure size 800x600 with 0 Axes>"
     },
     "metadata": {},
     "output_type": "display_data"
    },
    {
     "data": {
      "text/plain": "<Figure size 800x600 with 0 Axes>"
     },
     "metadata": {},
     "output_type": "display_data"
    },
    {
     "data": {
      "text/plain": "<Figure size 800x600 with 0 Axes>"
     },
     "metadata": {},
     "output_type": "display_data"
    },
    {
     "data": {
      "text/plain": "<Figure size 800x600 with 0 Axes>"
     },
     "metadata": {},
     "output_type": "display_data"
    },
    {
     "data": {
      "text/plain": "<Figure size 800x600 with 0 Axes>"
     },
     "metadata": {},
     "output_type": "display_data"
    },
    {
     "data": {
      "text/plain": "<Figure size 800x600 with 0 Axes>"
     },
     "metadata": {},
     "output_type": "display_data"
    },
    {
     "data": {
      "text/plain": "<Figure size 800x600 with 0 Axes>"
     },
     "metadata": {},
     "output_type": "display_data"
    },
    {
     "data": {
      "text/plain": "<Figure size 800x600 with 0 Axes>"
     },
     "metadata": {},
     "output_type": "display_data"
    },
    {
     "data": {
      "text/plain": "<Figure size 800x600 with 0 Axes>"
     },
     "metadata": {},
     "output_type": "display_data"
    },
    {
     "data": {
      "text/plain": "<Figure size 800x600 with 0 Axes>"
     },
     "metadata": {},
     "output_type": "display_data"
    },
    {
     "data": {
      "text/plain": "<Figure size 800x600 with 0 Axes>"
     },
     "metadata": {},
     "output_type": "display_data"
    },
    {
     "data": {
      "text/plain": "<Figure size 800x600 with 0 Axes>"
     },
     "metadata": {},
     "output_type": "display_data"
    },
    {
     "data": {
      "text/plain": "<Figure size 800x600 with 0 Axes>"
     },
     "metadata": {},
     "output_type": "display_data"
    },
    {
     "data": {
      "text/plain": "<Figure size 800x600 with 0 Axes>"
     },
     "metadata": {},
     "output_type": "display_data"
    },
    {
     "data": {
      "text/plain": "<Figure size 800x600 with 0 Axes>"
     },
     "metadata": {},
     "output_type": "display_data"
    },
    {
     "data": {
      "text/plain": "<Figure size 800x600 with 0 Axes>"
     },
     "metadata": {},
     "output_type": "display_data"
    },
    {
     "data": {
      "text/plain": "<Figure size 800x600 with 0 Axes>"
     },
     "metadata": {},
     "output_type": "display_data"
    },
    {
     "data": {
      "text/plain": "<Figure size 800x600 with 0 Axes>"
     },
     "metadata": {},
     "output_type": "display_data"
    },
    {
     "data": {
      "text/plain": "<Figure size 800x600 with 0 Axes>"
     },
     "metadata": {},
     "output_type": "display_data"
    },
    {
     "data": {
      "text/plain": "<Figure size 800x600 with 0 Axes>"
     },
     "metadata": {},
     "output_type": "display_data"
    },
    {
     "data": {
      "text/plain": "<Figure size 800x600 with 0 Axes>"
     },
     "metadata": {},
     "output_type": "display_data"
    },
    {
     "data": {
      "text/plain": "<Figure size 800x600 with 0 Axes>"
     },
     "metadata": {},
     "output_type": "display_data"
    },
    {
     "data": {
      "text/plain": "<Figure size 800x600 with 0 Axes>"
     },
     "metadata": {},
     "output_type": "display_data"
    },
    {
     "data": {
      "text/plain": "<Figure size 800x600 with 0 Axes>"
     },
     "metadata": {},
     "output_type": "display_data"
    },
    {
     "data": {
      "text/plain": "<Figure size 800x600 with 0 Axes>"
     },
     "metadata": {},
     "output_type": "display_data"
    },
    {
     "data": {
      "text/plain": "<Figure size 800x600 with 0 Axes>"
     },
     "metadata": {},
     "output_type": "display_data"
    },
    {
     "data": {
      "text/plain": "<Figure size 800x600 with 0 Axes>"
     },
     "metadata": {},
     "output_type": "display_data"
    },
    {
     "data": {
      "text/plain": "<Figure size 800x600 with 0 Axes>"
     },
     "metadata": {},
     "output_type": "display_data"
    },
    {
     "data": {
      "text/plain": "<Figure size 800x600 with 0 Axes>"
     },
     "metadata": {},
     "output_type": "display_data"
    },
    {
     "data": {
      "text/plain": "<Figure size 800x600 with 0 Axes>"
     },
     "metadata": {},
     "output_type": "display_data"
    },
    {
     "data": {
      "text/plain": "<Figure size 800x600 with 0 Axes>"
     },
     "metadata": {},
     "output_type": "display_data"
    },
    {
     "data": {
      "text/plain": "<Figure size 800x600 with 0 Axes>"
     },
     "metadata": {},
     "output_type": "display_data"
    }
   ],
   "source": [
    "import pywt\n",
    "import matplotlib.pyplot as plt\n",
    "import numpy as np\n",
    "import os\n",
    "\n",
    "TimeStart = 0                     # start time\n",
    "TimeEnd = 69                       # end time \n",
    "sampleRate = 500\n",
    "samplePointStart=TimeStart*sampleRate\n",
    "samplePointEnd=TimeEnd*sampleRate\n",
    "wavename = 'morl'    \n",
    "totalscal = 69    # scale \n",
    "fc = pywt.central_frequency(wavename) #  central frequency\n",
    "cparam = 2 * fc * totalscal\n",
    "scales = cparam/np.arange(1,totalscal+1)\n",
    "t = np.arange(TimeStart,TimeEnd,1.0/sampleRate)\n",
    "\n",
    "for i in range(data.shape[0]):  # 每一条数据\n",
    "    cwt_data = data[i, :, :]  \n",
    "\n",
    "    channels = 32\n",
    "    # 初始化小波时频图\n",
    "    cwtmatr = np.zeros((channels, len(scales), len(t)))\n",
    "    \n",
    "    # 对每个通道进行小波变换\n",
    "    for j in range(channels):\n",
    "        cwtmatr[j, :, :], frequencies = pywt.cwt(cwt_data[j, :], scales, wavename, 1.0/sampleRate)\n",
    "    \n",
    "    # 将所有通道的小波时频图合并\n",
    "\n",
    "    avg_cwtmatr = np.mean(cwtmatr, axis=0)\n",
    "    # print(cwtmatr.shape)\n",
    "    # print(avg_cwtmatr.shape)\n",
    "    #创建存储细分图像的子文件夹\n",
    "    if dataLabel[i] == 0:\n",
    "        folderpath = r'New_Female/' + str(i)\n",
    "    elif dataLabel[i] == 1:\n",
    "        folderpath = r'New_Male/' + str(i)\n",
    "    os.makedirs(folderpath, exist_ok=True)\n",
    "\n",
    "    for k in range(6):  # 细分图像\n",
    "        fig = plt.figure()\n",
    "\n",
    "        start_col = k * (avg_cwtmatr.shape[1] // 6)\n",
    "        end_col = (k + 1) * (avg_cwtmatr.shape[1] // 6)\n",
    "\n",
    "        plt.contourf(avg_cwtmatr[:, start_col:end_col])\n",
    "        plt.xticks([])  # remove x\n",
    "        plt.yticks([])  # remove y\n",
    "        plt.axis('off') # remove axis\n",
    "        fig.set_size_inches(800/100.0, 600/100.0)  # set pixels width*height\n",
    "        plt.gca().xaxis.set_major_locator(plt.NullLocator())\n",
    "        plt.gca().yaxis.set_major_locator(plt.NullLocator())\n",
    "        plt.subplots_adjust(top=1, bottom=0, left=0, right=1, hspace=0, wspace=0) \n",
    "        plt.margins(0, 0)\n",
    "\n",
    "        filepath = folderpath + '/' + str(i) + '_' + str(k) + '_sub.jpg'\n",
    "        fig.savefig(filepath)\n",
    "        fig.clear()\n",
    "\n",
    "print('wavelet transform completed')\n"
   ],
   "metadata": {
    "collapsed": false,
    "ExecuteTime": {
     "end_time": "2023-11-27T13:52:53.906410900Z",
     "start_time": "2023-11-27T13:51:37.483661300Z"
    }
   },
   "id": "ef300a33215a894"
  },
  {
   "cell_type": "code",
   "execution_count": 4,
   "outputs": [],
   "source": [
    "from PIL import ImageEnhance\n",
    "import os\n",
    "import numpy as np\n",
    "from PIL import Image\n",
    "\n",
    "def brightnessEnhancement(root_path,img_name): #亮度增强\n",
    "    image = Image.open(os.path.join(root_path, img_name))\n",
    "    enh_bri = ImageEnhance.Brightness(image)\n",
    "    # brightness = 1.1+0.4*np.random.random()#取值范围1.1-1.5\n",
    "    brightness = 1.5\n",
    "    image_brightened = enh_bri.enhance(brightness)\n",
    "    return image_brightened\n",
    "\n",
    "\n",
    "def contrastEnhancement(root_path, img_name):  # 对比度增强\n",
    "    image = Image.open(os.path.join(root_path, img_name))\n",
    "    enh_con = ImageEnhance.Contrast(image)\n",
    "    # contrast = 1.1+0.4*np.random.random()#取值范围1.1-1.5\n",
    "    contrast = 1.5\n",
    "    image_contrasted = enh_con.enhance(contrast)\n",
    "    return image_contrasted\n",
    "\n",
    "def rotation(root_path, img_name):\n",
    "    img = Image.open(os.path.join(root_path, img_name))\n",
    "    random_angle = np.random.randint(-2, 2)*90\n",
    "    if random_angle==0:\n",
    "        rotation_img = img.rotate(-90) #旋转角度\n",
    "    else:\n",
    "        rotation_img = img.rotate( random_angle)  # 旋转角度\n",
    "    # rotation_img.save(os.path.join(root_path,img_name.split('.')[0] + '_rotation.jpg'))\n",
    "    return rotation_img\n",
    "\n",
    "def flip(root_path,img_name):   #翻转图像\n",
    "    img = Image.open(os.path.join(root_path, img_name))\n",
    "    filp_img = img.transpose(Image.FLIP_LEFT_RIGHT)\n",
    "    # filp_img.save(os.path.join(root_path,img_name.split('.')[0] + '_flip.jpg'))\n",
    "    return filp_img\n",
    "\n",
    "def createImage(imageDir,saveDir):\n",
    "    i=0\n",
    "    for name in os.listdir(imageDir):\n",
    "        i=i+1\n",
    "        saveName=\"cesun\"+str(i)+\".jpg\"\n",
    "        saveImage=contrastEnhancement(imageDir,name)\n",
    "        saveImage.save(os.path.join(saveDir,saveName))\n",
    "        saveName1 = \"flip\" + str(i) + \".jpg\"\n",
    "        saveImage1 = flip(imageDir,name)\n",
    "        saveImage1.save(os.path.join(saveDir, saveName1))\n",
    "#         saveName2 = \"brightnessE\" + str(i) + \".jpg\"\n",
    "#         saveImage2 = brightnessEnhancement(imageDir, name)\n",
    "#         saveImage2.save(os.path.join(saveDir, saveName2))\n",
    "        saveName3 = \"rotate\" + str(i) + \".jpg\"\n",
    "        saveImage = rotation(imageDir, name)\n",
    "        saveImage.save(os.path.join(saveDir, saveName3))\n"
   ],
   "metadata": {
    "collapsed": false,
    "ExecuteTime": {
     "end_time": "2023-11-27T13:58:36.654045500Z",
     "start_time": "2023-11-27T13:58:36.631393100Z"
    }
   },
   "id": "49fbfb293ca945f0"
  },
  {
   "cell_type": "code",
   "execution_count": 5,
   "outputs": [],
   "source": [
    "# label 1\n",
    "imageDir=\"New_Female/\" #要改变的图片的路径文件夹\n",
    "saveDir=\"New_Female_aug/\"   #数据增强生成图片的路径文件夹\n",
    "createImage(imageDir,saveDir)\n",
    "\n",
    "# label 2\n",
    "imageDir=\"New_Male/\" #要改变的图片的路径文件夹\n",
    "saveDir=\"New_Male_aug/\"   #数据增强生成图片的路径文件夹\n",
    "createImage(imageDir,saveDir)\n"
   ],
   "metadata": {
    "collapsed": false,
    "ExecuteTime": {
     "end_time": "2023-11-27T13:58:42.189650Z",
     "start_time": "2023-11-27T13:58:39.152299600Z"
    }
   },
   "id": "c9b6c471b1f9cc6c"
  },
  {
   "cell_type": "code",
   "execution_count": null,
   "outputs": [],
   "source": [],
   "metadata": {
    "collapsed": false
   },
   "id": "b3493fcc72a47f49"
  }
 ],
 "metadata": {
  "kernelspec": {
   "display_name": "Python 3",
   "language": "python",
   "name": "python3"
  },
  "language_info": {
   "codemirror_mode": {
    "name": "ipython",
    "version": 2
   },
   "file_extension": ".py",
   "mimetype": "text/x-python",
   "name": "python",
   "nbconvert_exporter": "python",
   "pygments_lexer": "ipython2",
   "version": "2.7.6"
  }
 },
 "nbformat": 4,
 "nbformat_minor": 5
}
