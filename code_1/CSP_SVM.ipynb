{
 "cells": [
  {
   "cell_type": "code",
   "execution_count": 106,
   "metadata": {
    "pycharm": {
     "name": "#%%\n"
    }
   },
   "outputs": [],
   "source": [
    "from yx import csp_yx\n",
    "import matplotlib.pyplot as plt"
   ]
  },
  {
   "cell_type": "code",
   "execution_count": 107,
   "metadata": {
    "pycharm": {
     "name": "#%%\n"
    }
   },
   "outputs": [],
   "source": [
    "import scipy.io as sio\n",
    "import numpy as np\n",
    "dataSetfile = \"../L-R hand/dataset_BCIcomp1.mat\"\n",
    "testLabelfile = \"../test/labels_data_set_iii.mat\"\n",
    "EEGSignals = sio.loadmat(dataSetfile)\n",
    "LabelSet = sio.loadmat(testLabelfile)\n",
    "\n",
    "\n",
    "# EEGSignals_x_train = np.concatenate([EEGSignals['x_train'],EEGSignals['x_test']], axis=2)\n",
    "# EEGSignals_y_train = np.concatenate([EEGSignals['y_train'],LabelSet['y_test']])\n",
    "\n",
    "\n",
    "EEGSignals_x_train = EEGSignals['x_train']\n",
    "EEGSignals_y_train = EEGSignals['y_train']"
   ]
  },
  {
   "cell_type": "code",
   "execution_count": 108,
   "metadata": {
    "pycharm": {
     "name": "#%%\n"
    }
   },
   "outputs": [
    {
     "data": {
      "text/plain": [
       "(140, 1)"
      ]
     },
     "execution_count": 108,
     "metadata": {},
     "output_type": "execute_result"
    }
   ],
   "source": [
    "EEGSignals_y_train.shape"
   ]
  },
  {
   "cell_type": "code",
   "execution_count": 109,
   "metadata": {
    "pycharm": {
     "name": "#%%\n"
    }
   },
   "outputs": [
    {
     "name": "stderr",
     "output_type": "stream",
     "text": [
      "/Users/yuanxue/anaconda3/lib/python3.6/site-packages/sklearn/model_selection/_split.py:2026: FutureWarning: From version 0.21, test_size will always complement train_size unless both are specified.\n",
      "  FutureWarning)\n"
     ]
    }
   ],
   "source": [
    "from sklearn.utils import shuffle\n",
    "from sklearn.model_selection import train_test_split\n",
    "# X,Y = shuffle(EEGSignals_x_train,EEGSignals_y_train,random_state=1280) \n",
    "x_train, x_test, y_train, y_test = train_test_split(X, Y, train_size=0.8,shuffle=True)"
   ]
  },
  {
   "cell_type": "code",
   "execution_count": 110,
   "metadata": {
    "pycharm": {
     "name": "#%%\n"
    }
   },
   "outputs": [],
   "source": [
    "samplePointStart = 3\n",
    "samplePointEnd = 6\n",
    "sfreq = 128\n",
    "EEGSignals_x_train = EEGSignals_x_train[samplePointStart*sfreq:samplePointEnd*sfreq,:,:]"
   ]
  },
  {
   "cell_type": "code",
   "execution_count": 111,
   "metadata": {
    "pycharm": {
     "name": "#%%\n"
    }
   },
   "outputs": [],
   "source": [
    "def csp_yx(EEGSignals_x_train,EEGSignals_y_train):\n",
    "    \n",
    "    import numpy as np\n",
    "    \n",
    "    EEG_Channels = 3\n",
    "    EEG_Trials = 140\n",
    "    EEG_Classes = 2\n",
    "    class_labels = [1, 2]\n",
    "    \n",
    "    \n",
    "    \n",
    "    # 计算协方差矩阵 cov1 cov2\n",
    "    trialCov = np.zeros((EEG_Channels,EEG_Channels,EEG_Trials))\n",
    "    for i in range(140):\n",
    "        E = EEGSignals_x_train[:,:,i].T\n",
    "    #     print(E.shape)\n",
    "        EE = np.dot(E,E.T)\n",
    "        trialCov[:,:,i] = EE/np.trace(EE);    \n",
    "\n",
    "    \n",
    "    \n",
    "    cov1 = np.zeros((EEG_Channels,EEG_Channels,70))\n",
    "    cov2 = np.zeros((EEG_Channels,EEG_Channels,70))\n",
    "    \n",
    "    MatrixCov = np.zeros((3,3,2))\n",
    "    k=0\n",
    "    s=0\n",
    "    for i in range(EEG_Channels):\n",
    "        if EEGSignals_y_train[i] == 1:\n",
    "            cov1[:,:,k] = trialCov[:,:,i]\n",
    "            k=k+1\n",
    "        if EEGSignals_y_train[i] == 2:\n",
    "            cov2[:,:,s] = trialCov[:,:,i]\n",
    "            s=s+1\n",
    "            \n",
    "    np.set_printoptions(precision=4)\n",
    "    \n",
    "    # 计算平均协方差矩阵之和 covTotal\n",
    "    cov1 = np.mean(cov1,2)\n",
    "    cov2 = np.mean(cov2,2)\n",
    "    covTotal = cov1 + cov2\n",
    "    print(covTotal)\n",
    "    \n",
    "    # 计算公共特征向量矩阵和特征值\n",
    "    [Dt,Uc] = np.linalg.eigh(covTotal)\n",
    "    # 降序排序\n",
    "    Uc = Uc[:,abs(Dt).argsort()[::-1]]\n",
    "    Dt = sorted(abs(Dt),reverse=True)\n",
    "    \n",
    "    # 矩阵白化\n",
    "    Dt = np.diag(Dt)\n",
    "    Dt = np.sqrt(1./Dt)\n",
    "  \n",
    "    # 去 inf值\n",
    "    c = np.isinf(Dt)\n",
    "    Dt[c] = 0\n",
    "    print(Dt)\n",
    "    P = np.dot(Dt,Uc.T)\n",
    "    \n",
    "#     print(P)\n",
    "   \n",
    "    # 将P作用于 cov1 cov2\n",
    "    transformedCov1 = np.dot(np.dot(P,cov1),P.T)\n",
    "    transformedCov2 = np.dot(np.dot(P,cov2),P.T)  # S1 = P*R1*P.T\n",
    "   \n",
    "\n",
    "    # 将 transformedCov1 按主分量分解得到公共特征向量矩阵 B\n",
    "    \n",
    "    [D1,U1] = np.linalg.eig(transformedCov1)\n",
    "    # 降序\n",
    "    U1 = U1[:,abs(D1).argsort()]\n",
    "    D1 = sorted(abs(D1),reverse=True)\n",
    "\n",
    "#     print(U1)\n",
    "    \n",
    "    [D2,U2] = np.linalg.eig(transformedCov2)\n",
    "    # 升序\n",
    "    U2 = U2[:,abs(D2).argsort()]\n",
    "    D2 = np.sort(abs(D2))\n",
    "#     print(U2)\n",
    "\n",
    "    \n",
    "    # 计算投影矩阵\n",
    "    CSPMatrix = np.dot(U1.T,P)\n",
    "    \n",
    "    return CSPMatrix\n"
   ]
  },
  {
   "cell_type": "code",
   "execution_count": 112,
   "metadata": {
    "pycharm": {
     "name": "#%%\n"
    }
   },
   "outputs": [
    {
     "name": "stdout",
     "output_type": "stream",
     "text": [
      "[[0.0158 0.0112 0.0092]\n",
      " [0.0112 0.0135 0.0096]\n",
      " [0.0092 0.0096 0.0136]]\n",
      "[[ 5.3914  0.      0.    ]\n",
      " [ 0.     13.6203  0.    ]\n",
      " [ 0.      0.     18.0673]]\n"
     ]
    },
    {
     "name": "stderr",
     "output_type": "stream",
     "text": [
      "/Users/yuanxue/.local/lib/python3.6/site-packages/ipykernel_launcher.py:52: RuntimeWarning: divide by zero encountered in true_divide\n"
     ]
    }
   ],
   "source": [
    "W = csp_yx(EEGSignals_x_train,EEGSignals_y_train)"
   ]
  },
  {
   "cell_type": "code",
   "execution_count": 113,
   "metadata": {
    "pycharm": {
     "name": "#%%\n"
    }
   },
   "outputs": [
    {
     "data": {
      "text/plain": [
       "array([[11.0057, 10.2115,  3.5548],\n",
       "       [ 5.9966,  3.0307, 11.8433],\n",
       "       [ 1.554 , 10.6575,  1.2517],\n",
       "       [11.0057, 10.2115,  3.5548],\n",
       "       [ 5.9966,  3.0307, 11.8433],\n",
       "       [ 1.554 , 10.6575,  1.2517]])"
      ]
     },
     "execution_count": 113,
     "metadata": {},
     "output_type": "execute_result"
    }
   ],
   "source": [
    "FilterPairs = 3      # CSP特征选择参数m\n",
    "features_train = np.zeros((140, 2*FilterPairs))\n",
    "# features_test = np.zeros((80, 2*FilterPairs))\n",
    "\n",
    "m1 = W[0:FilterPairs]\n",
    "m2 = W[3-FilterPairs:3]\n",
    "\n",
    "Filter = np.concatenate([m1,m2])\n",
    "Filter = abs(Filter)\n",
    "Filter"
   ]
  },
  {
   "cell_type": "code",
   "execution_count": 114,
   "metadata": {
    "pycharm": {
     "name": "#%%\n"
    }
   },
   "outputs": [],
   "source": [
    "data = np.concatenate([EEGSignals['x_train'],EEGSignals['x_test']],axis=2)\n",
    "\n",
    "projectedTrial = np.zeros((2*FilterPairs,384))\n",
    "EEG_Trials = 140\n",
    "for i in range(EEG_Trials):\n",
    "    # 将源信号投影到 CSP空间上\n",
    "    projectedTrial = np.dot(Filter,data[:,:,i].T)\n",
    "        \n",
    "    # 将投影信号的方差得对数作为特征\n",
    "    variances_train = np.var(projectedTrial,1)\n",
    "    for f in range(len(variances_train)):\n",
    "        features_train[i,f] = np.log(variances_train[f]/sum(abs(variances_train)))\n",
    "\n"
   ]
  },
  {
   "cell_type": "code",
   "execution_count": 103,
   "metadata": {
    "pycharm": {
     "name": "#%%\n"
    }
   },
   "outputs": [
    {
     "data": {
      "image/png": "[encoded data removed]",
      "text/plain": [
       "<matplotlib.figure.Figure at 0x121c160f0>"
      ]
     },
     "metadata": {
      "needs_background": "light"
     },
     "output_type": "display_data"
    }
   ],
   "source": [
    "for i in range(140):\n",
    "    if EEGSignals_y_train[i]==1:\n",
    "        plt.scatter(features_train[i,1],features_train[i,2],color='red',marker='o',label='left')\n",
    "    if EEGSignals_y_train[i]==2:\n",
    "        plt.scatter(features_train[i,1],features_train[i,2],color='blue',marker='x',label='right')"
   ]
  },
  {
   "cell_type": "code",
   "execution_count": 118,
   "metadata": {
    "pycharm": {
     "name": "#%%\n"
    }
   },
   "outputs": [
    {
     "data": {
      "text/plain": [
       "(140, 6)"
      ]
     },
     "execution_count": 118,
     "metadata": {},
     "output_type": "execute_result"
    }
   ],
   "source": [
    "features_train.shape"
   ]
  },
  {
   "cell_type": "code",
   "execution_count": 122,
   "metadata": {
    "pycharm": {
     "name": "#%%\n"
    }
   },
   "outputs": [],
   "source": [
    "left = np.zeros(70)\n",
    "right = np.zeros(70)\n",
    "k = 0\n",
    "l = 0\n",
    "for i in range(140):\n",
    "    if EEGSignals_y_train[i]==1:\n",
    "        left[k] = np.mean(features_train[i])\n",
    "        k = k+1\n",
    "    else:\n",
    "        right[l] = np.mean(features_train[i])\n",
    "        l=l+1"
   ]
  },
  {
   "cell_type": "code",
   "execution_count": 126,
   "metadata": {
    "pycharm": {
     "name": "#%%\n"
    }
   },
   "outputs": [
    {
     "data": {
      "text/plain": [
       "-1.9019383426588514"
      ]
     },
     "execution_count": 126,
     "metadata": {},
     "output_type": "execute_result"
    }
   ],
   "source": [
    "np.mean(left)"
   ]
  },
  {
   "cell_type": "code",
   "execution_count": 127,
   "metadata": {
    "pycharm": {
     "name": "#%%\n"
    }
   },
   "outputs": [
    {
     "data": {
      "text/plain": [
       "-1.8993878032683236"
      ]
     },
     "execution_count": 127,
     "metadata": {},
     "output_type": "execute_result"
    }
   ],
   "source": [
    "np.mean(right)"
   ]
  },
  {
   "cell_type": "code",
   "execution_count": 123,
   "metadata": {
    "pycharm": {
     "name": "#%%\n"
    }
   },
   "outputs": [
    {
     "data": {
      "image/png": "[encoded data removed]",
      "text/plain": [
       "<matplotlib.figure.Figure at 0x1236aefd0>"
      ]
     },
     "metadata": {
      "needs_background": "light"
     },
     "output_type": "display_data"
    }
   ],
   "source": [
    "for i in range(140):\n",
    "    if EEGSignals_y_train[i]==1:\n",
    "        plt.scatter(np.mean(features_train[i,0:2]/sum(left)),np.mean(features_train[i,2:4]/sum(left)),color='red',marker='o',label='left')\n",
    "    if EEGSignals_y_train[i]==2:\n",
    "        plt.scatter(np.mean(features_train[i,0:2]/sum(right)),np.mean(features_train[i,2:4]/sum(right)),color='blue',marker='x',label='right')\n",
    "        \n",
    "        "
   ]
  },
  {
   "cell_type": "code",
   "execution_count": 62,
   "metadata": {
    "pycharm": {
     "name": "#%%\n"
    }
   },
   "outputs": [
    {
     "data": {
      "image/png": "[encoded data removed]",
      "text/plain": [
       "<matplotlib.figure.Figure at 0x10a238908>"
      ]
     },
     "metadata": {
      "needs_background": "light"
     },
     "output_type": "display_data"
    }
   ],
   "source": [
    "for i in range(140):\n",
    "    if EEGSignals_y_train[i]==1:\n",
    "        plt.scatter(np.mean(features_train[i,0:2]),np.mean(features_train[i,2:4]),color='red',marker='o',label='left')\n",
    "    if EEGSignals_y_train[i]==2:\n",
    "        plt.scatter(np.log(features_train[i,0:2]/sum(features_train)),np.mean(features_train[i,2:4]),color='blue',marker='x',label='right')"
   ]
  },
  {
   "cell_type": "code",
   "execution_count": null,
   "metadata": {
    "pycharm": {
     "name": "#%%\n"
    }
   },
   "outputs": [],
   "source": []
  },
  {
   "cell_type": "code",
   "execution_count": null,
   "metadata": {
    "pycharm": {
     "name": "#%%\n"
    }
   },
   "outputs": [],
   "source": []
  },
  {
   "cell_type": "code",
   "execution_count": null,
   "metadata": {
    "pycharm": {
     "name": "#%%\n"
    }
   },
   "outputs": [],
   "source": []
  },
  {
   "cell_type": "code",
   "execution_count": 63,
   "metadata": {
    "pycharm": {
     "name": "#%%\n"
    }
   },
   "outputs": [
    {
     "data": {
      "text/plain": [
       "array([-1.4934, -1.5827])"
      ]
     },
     "execution_count": 63,
     "metadata": {},
     "output_type": "execute_result"
    }
   ],
   "source": [
    "CSP = features_train[7,:2]\n",
    "CSP"
   ]
  },
  {
   "cell_type": "code",
   "execution_count": 82,
   "metadata": {
    "pycharm": {
     "name": "#%%\n"
    }
   },
   "outputs": [],
   "source": [
    "import numpy as np                \n",
    "from matplotlib import colors     \n",
    "from sklearn import svm            \n",
    "from sklearn import model_selection\n",
    "import matplotlib.pyplot as plt\n",
    "import matplotlib as mpl"
   ]
  },
  {
   "cell_type": "code",
   "execution_count": 83,
   "metadata": {
    "pycharm": {
     "name": "#%%\n"
    }
   },
   "outputs": [],
   "source": [
    "from sklearn.utils import shuffle\n",
    "from sklearn.ensemble import RandomForestClassifier\n",
    "\n",
    "\n",
    "X_Train,y_Train = shuffle(features_train,EEGSignals_y_train) \n",
    "y_Train = np.subtract(np.array(y_Train), 1)\n",
    "y_Train = y_Train.reshape([140,1])\n",
    "# y_Train\n"
   ]
  },
  {
   "cell_type": "code",
   "execution_count": 84,
   "metadata": {
    "pycharm": {
     "name": "#%%\n"
    }
   },
   "outputs": [
    {
     "name": "stderr",
     "output_type": "stream",
     "text": [
      "/Users/yuanxue/anaconda3/lib/python3.6/site-packages/sklearn/model_selection/_split.py:2026: FutureWarning: From version 0.21, test_size will always complement train_size unless both are specified.\n",
      "  FutureWarning)\n"
     ]
    }
   ],
   "source": [
    "from sklearn.model_selection import train_test_split\n",
    "x_train, x_test, y_train, y_test = train_test_split(features_train, EEGSignals_y_train, random_state=1, train_size=0.7)"
   ]
  },
  {
   "cell_type": "code",
   "execution_count": 85,
   "metadata": {
    "pycharm": {
     "name": "#%%\n"
    }
   },
   "outputs": [],
   "source": [
    "# SVM分类器构建\n",
    "def classifier():\n",
    "    clf = svm.SVC(kernel='rbf',gamma=30,decision_function_shape='ovo',C=50) #决策函数\n",
    "#     clf = svm.SVC(C=1.0, kernel='rbf', degree=3, gamma=0.0, coef0=0.0, shrinking=True, probability=False,tol=0.001, cache_size=200, class_weight=None, verbose=False, max_iter=-1, random_state=None)\n",
    "    return clf"
   ]
  },
  {
   "cell_type": "code",
   "execution_count": 86,
   "metadata": {
    "pycharm": {
     "name": "#%%\n"
    }
   },
   "outputs": [],
   "source": [
    "# 定义模型：SVM模型定义\n",
    "clf = classifier()\n"
   ]
  },
  {
   "cell_type": "code",
   "execution_count": 87,
   "metadata": {
    "pycharm": {
     "name": "#%%\n"
    }
   },
   "outputs": [],
   "source": [
    "def train(clf,x_train,y_train):\n",
    "    clf.fit(x_train,         #训练集特征向量\n",
    "            y_train.ravel()) #训练集目标值\n",
    "\n"
   ]
  },
  {
   "cell_type": "code",
   "execution_count": 88,
   "metadata": {
    "pycharm": {
     "name": "#%%\n"
    }
   },
   "outputs": [],
   "source": [
    "# 训练SVM模型\n",
    "train(clf,x_train,y_train)"
   ]
  },
  {
   "cell_type": "code",
   "execution_count": 89,
   "metadata": {
    "pycharm": {
     "name": "#%%\n"
    }
   },
   "outputs": [],
   "source": [
    "# 并判断a b是否相等，计算acc的均值\n",
    "def show_accuracy(a, b, tip):\n",
    "    acc = a.ravel() == b.ravel()\n",
    "    print('%s Accuracy:%.3f' %(tip, np.mean(acc)))\n",
    "\n"
   ]
  },
  {
   "cell_type": "code",
   "execution_count": 90,
   "metadata": {
    "pycharm": {
     "name": "#%%\n"
    }
   },
   "outputs": [],
   "source": [
    "def print_accuracy(clf,x_train,y_train,x_test,y_test):\n",
    "    #分别打印训练集和测试集的准确率  score(x_train,y_train):表示输出x_train,y_train在模型上的准确率\n",
    "    print('trianing prediction:%.3f' %(clf.score(x_train, y_train)))\n",
    "    print('test data prediction:%.3f' %(clf.score(x_test, y_test)))\n",
    "\n"
   ]
  },
  {
   "cell_type": "code",
   "execution_count": 91,
   "metadata": {
    "pycharm": {
     "name": "#%%\n"
    }
   },
   "outputs": [
    {
     "name": "stdout",
     "output_type": "stream",
     "text": [
      "train_size: (98, 1)\n",
      "test_size: (42, 1)\n",
      "traing data Accuracy:0.806\n",
      "testing data Accuracy:0.738\n"
     ]
    }
   ],
   "source": [
    " # predict()表示对x_train样本进行预测，返回样本类别\n",
    "print('train_size:',y_train.shape)\n",
    "print('test_size:',y_test.shape)\n",
    "show_accuracy(clf.predict(x_train), y_train, 'traing data')\n",
    "show_accuracy(clf.predict(x_test), y_test, 'testing data')\n",
    "\n"
   ]
  },
  {
   "cell_type": "code",
   "execution_count": null,
   "metadata": {
    "pycharm": {
     "name": "#%%\n"
    }
   },
   "outputs": [],
   "source": []
  },
  {
   "cell_type": "code",
   "execution_count": null,
   "metadata": {
    "pycharm": {
     "name": "#%%\n"
    }
   },
   "outputs": [],
   "source": []
  },
  {
   "cell_type": "code",
   "execution_count": null,
   "metadata": {
    "pycharm": {
     "name": "#%%\n"
    }
   },
   "outputs": [],
   "source": []
  },
  {
   "cell_type": "code",
   "execution_count": null,
   "metadata": {
    "pycharm": {
     "name": "#%%\n"
    }
   },
   "outputs": [],
   "source": []
  },
  {
   "cell_type": "code",
   "execution_count": null,
   "metadata": {
    "pycharm": {
     "name": "#%%\n"
    }
   },
   "outputs": [],
   "source": []
  },
  {
   "cell_type": "code",
   "execution_count": null,
   "metadata": {
    "pycharm": {
     "name": "#%%\n"
    }
   },
   "outputs": [],
   "source": []
  },
  {
   "cell_type": "code",
   "execution_count": null,
   "metadata": {
    "pycharm": {
     "name": "#%%\n"
    }
   },
   "outputs": [],
   "source": [
    "import matplotlib.pyplot as plt\n",
    "from sklearn import svm\n",
    "\n",
    "# from data import feature_train, target_train, feature_test, target_test\n",
    "\n",
    "svm_classifier = svm.SVC(C=1.0, kernel='rbf', decision_function_shape='ovr', gamma=0.01)\n",
    "svm_classifier.fit(feature_train, target_train)\n",
    "\n",
    "print(\"训练集:\", svm_classifier.score(feature_train,EEGSignals_y_train))\n",
    "print(\"测试集:\", svm_classifier.score(feature_test, EEGSignals_y_train))\n",
    "target_test_predict = svm_classifier.predict(feature_test)\n",
    "comp = zip(target_test, target_test_predict)\n",
    "print(list(comp))\n",
    "\n",
    "plt.figure()\n",
    "plt.subplot(121)\n",
    "plt.scatter(feature_test[:, 0], feature_test[:, 1], c=target_test.reshape((-1)), edgecolors='k', s=50)\n",
    "plt.subplot(122)\n",
    "plt.scatter(feature_test[:, 0], feature_test[:, 1], c=target_test_predict.reshape((-1)), edgecolors='k', s=50)\n",
    "plt.show()\n",
    "\n"
   ]
  },
  {
   "cell_type": "code",
   "execution_count": null,
   "metadata": {
    "pycharm": {
     "name": "#%%\n"
    }
   },
   "outputs": [],
   "source": []
  },
  {
   "cell_type": "code",
   "execution_count": null,
   "metadata": {
    "pycharm": {
     "name": "#%%\n"
    }
   },
   "outputs": [],
   "source": []
  },
  {
   "cell_type": "code",
   "execution_count": null,
   "metadata": {
    "pycharm": {
     "name": "#%%\n"
    }
   },
   "outputs": [],
   "source": []
  },
  {
   "cell_type": "code",
   "execution_count": null,
   "metadata": {
    "pycharm": {
     "name": "#%%\n"
    }
   },
   "outputs": [],
   "source": []
  },
  {
   "cell_type": "code",
   "execution_count": null,
   "metadata": {
    "pycharm": {
     "name": "#%%\n"
    }
   },
   "outputs": [],
   "source": []
  },
  {
   "cell_type": "code",
   "execution_count": null,
   "metadata": {
    "pycharm": {
     "name": "#%%\n"
    }
   },
   "outputs": [],
   "source": []
  },
  {
   "cell_type": "code",
   "execution_count": null,
   "metadata": {
    "pycharm": {
     "name": "#%%\n"
    }
   },
   "outputs": [],
   "source": []
  },
  {
   "cell_type": "code",
   "execution_count": null,
   "metadata": {
    "pycharm": {
     "name": "#%%\n"
    }
   },
   "outputs": [],
   "source": []
  },
  {
   "cell_type": "code",
   "execution_count": null,
   "metadata": {
    "pycharm": {
     "name": "#%%\n"
    }
   },
   "outputs": [],
   "source": []
  },
  {
   "cell_type": "code",
   "execution_count": null,
   "metadata": {
    "pycharm": {
     "name": "#%%\n"
    }
   },
   "outputs": [],
   "source": []
  },
  {
   "cell_type": "code",
   "execution_count": null,
   "metadata": {
    "pycharm": {
     "name": "#%%\n"
    }
   },
   "outputs": [],
   "source": []
  },
  {
   "cell_type": "code",
   "execution_count": null,
   "metadata": {
    "pycharm": {
     "name": "#%%\n"
    }
   },
   "outputs": [],
   "source": []
  },
  {
   "cell_type": "markdown",
   "metadata": {
    "pycharm": {
     "name": "#%% md\n"
    }
   },
   "source": [
    "# mne"
   ]
  },
  {
   "cell_type": "code",
   "execution_count": null,
   "metadata": {
    "pycharm": {
     "name": "#%%\n"
    }
   },
   "outputs": [],
   "source": [
    "import numpy as np\n",
    "import matplotlib.pyplot as plt\n",
    "from sklearn.pipeline import Pipeline\n",
    "from sklearn.discriminant_analysis import LinearDiscriminantAnalysis\n",
    "from sklearn.model_selection import ShuffleSplit, cross_val_score\n",
    "from mne import Epochs, pick_types, events_from_annotations\n",
    "from mne.channels import read_layout\n",
    "from mne.io import concatenate_raws, read_raw_edf\n",
    "from mne.datasets import eegbci\n",
    "from mne.decoding import CSP\n",
    " \n",
    "###############################################################################\n",
    "tmin, tmax = -1., 4.  #设置参数，记录点的前1秒后4秒用于生成epoch数据\n",
    "event_id = dict(hands=2, feet=3) #设置事件的映射关系\n",
    "subject = 1\n",
    "runs = [6, 10, 14]\n",
    "# 获取想要读取的文件名称，这个应该是没有会默认下载的数据\n",
    "raw_fnames = eegbci.load_data(subject, runs)\n",
    "# 将3个文件的数据进行拼接\n",
    "raw = concatenate_raws([read_raw_edf(f, preload=True) for f in raw_fnames])\n",
    "# 去掉通道名称后面的（.），不知道为什么默认情况下raw.info['ch_names']中的通道名后面有的点\n",
    "raw.rename_channels(lambda x: x.strip('.'))\n",
    "# 对原始数据进行FIR带通滤波\n",
    "raw.filter(7., 30., fir_design='firwin', skip_by_annotation='edge')#\n",
    "# 从annotation中获取事件信息\n",
    "events, _ = events_from_annotations(raw, event_id=dict(T1=2, T2=3))\n",
    "\n",
    "\n",
    "\n",
    "# 剔除坏道，提取其中有效的EEG数据\n",
    "picks = pick_types(raw.info, meg=False, eeg=True, stim=False, eog=False, exclude='bads')\n",
    "# 根据事件生成对应的Epochs数据\n",
    "epochs = Epochs(raw, events, event_id, tmin, tmax, proj=True, picks=picks, baseline=None, preload=True)\n",
    "# 截取其中的1秒到2秒之间的数据，也就是提示音后1秒到2秒之间的数据（这个在后面滑动窗口验证的时候有用）\n",
    "epochs_train = epochs.copy().crop(tmin=1., tmax=2.)\n",
    "# 将events转换为labels,event为2,3经过计算后也就是0,1\n",
    "labels = epochs.events[:, -1] - 2\n",
    "\n"
   ]
  },
  {
   "cell_type": "code",
   "execution_count": null,
   "metadata": {
    "pycharm": {
     "name": "#%%\n"
    }
   },
   "outputs": [],
   "source": []
  },
  {
   "cell_type": "code",
   "execution_count": null,
   "metadata": {
    "pycharm": {
     "name": "#%%\n"
    }
   },
   "outputs": [],
   "source": []
  },
  {
   "cell_type": "code",
   "execution_count": null,
   "metadata": {
    "pycharm": {
     "name": "#%%\n"
    }
   },
   "outputs": [],
   "source": []
  },
  {
   "cell_type": "code",
   "execution_count": null,
   "metadata": {
    "pycharm": {
     "name": "#%%\n"
    }
   },
   "outputs": [],
   "source": []
  },
  {
   "cell_type": "code",
   "execution_count": null,
   "metadata": {
    "pycharm": {
     "name": "#%%\n"
    }
   },
   "outputs": [],
   "source": []
  },
  {
   "cell_type": "code",
   "execution_count": null,
   "metadata": {
    "pycharm": {
     "name": "#%%\n"
    }
   },
   "outputs": [],
   "source": []
  },
  {
   "cell_type": "code",
   "execution_count": null,
   "metadata": {
    "pycharm": {
     "name": "#%%\n"
    }
   },
   "outputs": [],
   "source": []
  },
  {
   "cell_type": "code",
   "execution_count": 33,
   "metadata": {
    "pycharm": {
     "name": "#%%\n"
    }
   },
   "outputs": [],
   "source": [
    "import scipy.io as sio\n",
    "import numpy as np\n",
    "# load data \n",
    "dataSetfile = \"../L-R hand/dataset_BCIcomp1.mat\"\n",
    "testLabelfile = \"../test/labels_data_set_iii.mat\"\n",
    "\n",
    "LabelSet = sio.loadmat(testLabelfile)\n",
    "\n",
    "EEGSignals = sio.loadmat(dataSetfile)\n",
    "EEGSignals_x_train = np.concatenate([EEGSignals['x_train'],EEGSignals['x_test']], axis=2)\n",
    "EEGSignals_y_train = np.concatenate([EEGSignals['y_train'],LabelSet['y_test']])\n",
    "\n",
    "EEG_Channels = 3\n",
    "EEG_Trials = 280\n",
    "EEG_Classes = 2\n",
    "class_labels = [1, 2]"
   ]
  },
  {
   "cell_type": "code",
   "execution_count": 34,
   "metadata": {
    "pycharm": {
     "name": "#%%\n"
    }
   },
   "outputs": [
    {
     "data": {
      "text/plain": [
       "(1152, 3)"
      ]
     },
     "execution_count": 34,
     "metadata": {},
     "output_type": "execute_result"
    }
   ],
   "source": [
    "c = EEGSignals_x_train[:,:,1]\n",
    "c.shape"
   ]
  },
  {
   "cell_type": "code",
   "execution_count": 35,
   "metadata": {
    "pycharm": {
     "name": "#%%\n"
    }
   },
   "outputs": [],
   "source": [
    "trialCov = np.zeros((EEG_Channels,EEG_Channels,EEG_Trials))"
   ]
  },
  {
   "cell_type": "code",
   "execution_count": 36,
   "metadata": {
    "pycharm": {
     "name": "#%%\n"
    }
   },
   "outputs": [],
   "source": [
    "for i in range(280):\n",
    "    E = EEGSignals_x_train[:,:,i].T\n",
    "#     print(E.shape)\n",
    "    EE = np.dot(E,E.T)\n",
    "    trialCov[:,:,i] = EE/np.trace(EE);  "
   ]
  },
  {
   "cell_type": "code",
   "execution_count": 37,
   "metadata": {
    "pycharm": {
     "name": "#%%\n"
    }
   },
   "outputs": [],
   "source": [
    "np.set_printoptions(precision=4)"
   ]
  },
  {
   "cell_type": "code",
   "execution_count": 38,
   "metadata": {
    "pycharm": {
     "name": "#%%\n"
    }
   },
   "outputs": [],
   "source": [
    "cov1 = np.zeros((EEG_Channels,EEG_Channels,140))\n",
    "cov2 = np.zeros((EEG_Channels,EEG_Channels,140))\n",
    "MatrixCov = np.zeros((3,3,2))\n",
    "\n",
    "k=0\n",
    "s=0\n",
    "for i in range(280):\n",
    "    if EEGSignals_y_train[i] == 1:\n",
    "        cov1[:,:,k] = trialCov[:,:,i]\n",
    "        k=k+1\n",
    "    if EEGSignals_y_train[i] == 2:\n",
    "        cov2[:,:,s] = trialCov[:,:,i]\n",
    "        s=s+1"
   ]
  },
  {
   "cell_type": "code",
   "execution_count": 39,
   "metadata": {
    "pycharm": {
     "name": "#%%\n"
    }
   },
   "outputs": [
    {
     "data": {
      "text/plain": [
       "array([[0.7207, 0.5054, 0.3875],\n",
       "       [0.5054, 0.635 , 0.4633],\n",
       "       [0.3875, 0.4633, 0.6444]])"
      ]
     },
     "execution_count": 39,
     "metadata": {},
     "output_type": "execute_result"
    }
   ],
   "source": [
    "cov1 = np.mean(cov1,2)\n",
    "cov2 = np.mean(cov2,2)\n",
    "covTotal = cov1 + cov2\n",
    "covTotal"
   ]
  },
  {
   "cell_type": "code",
   "execution_count": 40,
   "metadata": {
    "pycharm": {
     "name": "#%%\n"
    }
   },
   "outputs": [],
   "source": [
    "[Dt,Uc] = np.linalg.eig(covTotal)\n",
    "Uc = Uc[:,Dt.argsort()[::-1]]\n",
    "Dt = sorted(Dt,reverse=True)"
   ]
  },
  {
   "cell_type": "code",
   "execution_count": 41,
   "metadata": {
    "pycharm": {
     "name": "#%%\n"
    }
   },
   "outputs": [
    {
     "data": {
      "text/plain": [
       "[1.5729537765057309, 0.2932442363315419, 0.1338019871627259]"
      ]
     },
     "execution_count": 41,
     "metadata": {},
     "output_type": "execute_result"
    }
   ],
   "source": [
    "Dt"
   ]
  },
  {
   "cell_type": "code",
   "execution_count": 42,
   "metadata": {
    "pycharm": {
     "name": "#%%\n"
    }
   },
   "outputs": [
    {
     "name": "stderr",
     "output_type": "stream",
     "text": [
      "/Users/yuanxue/.local/lib/python3.6/site-packages/ipykernel_launcher.py:2: RuntimeWarning: divide by zero encountered in true_divide\n",
      "  \n"
     ]
    }
   ],
   "source": [
    "Dt = np.diag(Dt)\n",
    "Dt = np.sqrt(1./Dt)"
   ]
  },
  {
   "cell_type": "code",
   "execution_count": 43,
   "metadata": {
    "pycharm": {
     "name": "#%%\n"
    }
   },
   "outputs": [],
   "source": [
    "c = np.isinf(Dt)\n",
    "Dt[c] = 0"
   ]
  },
  {
   "cell_type": "code",
   "execution_count": 44,
   "metadata": {
    "pycharm": {
     "name": "#%%\n"
    }
   },
   "outputs": [
    {
     "data": {
      "text/plain": [
       "array([[0.7973, 0.    , 0.    ],\n",
       "       [0.    , 1.8467, 0.    ],\n",
       "       [0.    , 0.    , 2.7338]])"
      ]
     },
     "execution_count": 44,
     "metadata": {},
     "output_type": "execute_result"
    }
   ],
   "source": [
    "Dt"
   ]
  },
  {
   "cell_type": "code",
   "execution_count": 45,
   "metadata": {
    "pycharm": {
     "name": "#%%\n"
    }
   },
   "outputs": [
    {
     "data": {
      "text/plain": [
       "array([[-0.597 , -0.5901, -0.5435],\n",
       "       [-0.681 ,  0.0146,  0.7321],\n",
       "       [ 0.4241, -0.8072,  0.4106]])"
      ]
     },
     "execution_count": 45,
     "metadata": {},
     "output_type": "execute_result"
    }
   ],
   "source": [
    "Uc.T"
   ]
  },
  {
   "cell_type": "code",
   "execution_count": 46,
   "metadata": {
    "pycharm": {
     "name": "#%%\n"
    }
   },
   "outputs": [],
   "source": [
    "P = np.dot(Dt,Uc.T)"
   ]
  },
  {
   "cell_type": "code",
   "execution_count": 47,
   "metadata": {
    "pycharm": {
     "name": "#%%\n"
    }
   },
   "outputs": [
    {
     "data": {
      "text/plain": [
       "array([[-0.476 , -0.4705, -0.4333],\n",
       "       [-1.2576,  0.027 ,  1.352 ],\n",
       "       [ 1.1593, -2.2067,  1.1225]])"
      ]
     },
     "execution_count": 47,
     "metadata": {},
     "output_type": "execute_result"
    }
   ],
   "source": [
    "P"
   ]
  },
  {
   "cell_type": "code",
   "execution_count": null,
   "metadata": {
    "pycharm": {
     "name": "#%%\n"
    }
   },
   "outputs": [],
   "source": []
  },
  {
   "cell_type": "code",
   "execution_count": 48,
   "metadata": {
    "pycharm": {
     "name": "#%%\n"
    }
   },
   "outputs": [],
   "source": [
    "transformedCov1 = np.dot(np.dot(P,cov1),P.T)\n",
    "transformedCov2 = np.dot(np.dot(P,cov2),P.T)"
   ]
  },
  {
   "cell_type": "code",
   "execution_count": 49,
   "metadata": {
    "pycharm": {
     "name": "#%%\n"
    }
   },
   "outputs": [
    {
     "data": {
      "text/plain": [
       "array([[ 0.5056,  0.048 ,  0.013 ],\n",
       "       [ 0.048 ,  0.4667, -0.026 ],\n",
       "       [ 0.013 , -0.026 ,  0.5075]])"
      ]
     },
     "execution_count": 49,
     "metadata": {},
     "output_type": "execute_result"
    }
   ],
   "source": [
    "transformedCov1"
   ]
  },
  {
   "cell_type": "code",
   "execution_count": 50,
   "metadata": {
    "pycharm": {
     "name": "#%%\n"
    }
   },
   "outputs": [
    {
     "name": "stdout",
     "output_type": "stream",
     "text": [
      "[0.5385562956851275, 0.5168626473729773, 0.4243509963645974]\n",
      "[0.4614 0.4831 0.5756]\n"
     ]
    }
   ],
   "source": [
    "[D1,U1] = np.linalg.eig(transformedCov1)\n",
    "# 降序\n",
    "U1 = U1[:,D1.argsort()]\n",
    "D1 = sorted(D1,reverse=True)\n",
    "\n",
    "[D2,U2] = np.linalg.eig(transformedCov2)\n",
    "# 升序\n",
    "U2 = U2[:,D2.argsort()]\n",
    "D2 = np.sort(D2)\n",
    "print(D1)\n",
    "print(D2)"
   ]
  },
  {
   "cell_type": "code",
   "execution_count": null,
   "metadata": {
    "pycharm": {
     "name": "#%%\n"
    }
   },
   "outputs": [],
   "source": []
  },
  {
   "cell_type": "code",
   "execution_count": null,
   "metadata": {
    "pycharm": {
     "name": "#%%\n"
    }
   },
   "outputs": [],
   "source": []
  },
  {
   "cell_type": "code",
   "execution_count": 51,
   "metadata": {
    "pycharm": {
     "name": "#%%\n"
    }
   },
   "outputs": [
    {
     "data": {
      "text/plain": [
       "array([[ 0.5056,  0.048 ,  0.013 ],\n",
       "       [ 0.048 ,  0.4667, -0.026 ],\n",
       "       [ 0.013 , -0.026 ,  0.5075]])"
      ]
     },
     "execution_count": 51,
     "metadata": {},
     "output_type": "execute_result"
    }
   ],
   "source": [
    "transformedCov1"
   ]
  },
  {
   "cell_type": "code",
   "execution_count": 52,
   "metadata": {
    "pycharm": {
     "name": "#%%\n"
    }
   },
   "outputs": [
    {
     "data": {
      "text/plain": [
       "array([0.4244, 0.5386, 0.5169])"
      ]
     },
     "execution_count": 52,
     "metadata": {},
     "output_type": "execute_result"
    }
   ],
   "source": [
    "[D1,U1] = np.linalg.eig(transformedCov1)\n",
    "D1"
   ]
  },
  {
   "cell_type": "code",
   "execution_count": 53,
   "metadata": {
    "pycharm": {
     "name": "#%%\n"
    }
   },
   "outputs": [
    {
     "data": {
      "text/plain": [
       "array([0.5756, 0.4614, 0.4831])"
      ]
     },
     "execution_count": 53,
     "metadata": {},
     "output_type": "execute_result"
    }
   ],
   "source": [
    "[D2,B2] = np.linalg.eig(transformedCov2)\n",
    "D2"
   ]
  },
  {
   "cell_type": "code",
   "execution_count": 54,
   "metadata": {
    "pycharm": {
     "name": "#%%\n"
    }
   },
   "outputs": [],
   "source": [
    "CSPMatrix = np.dot(U1.T,P)"
   ]
  },
  {
   "cell_type": "code",
   "execution_count": 55,
   "metadata": {
    "pycharm": {
     "name": "#%%\n"
    }
   },
   "outputs": [
    {
     "data": {
      "text/plain": [
       "array([[ 3.6592e-01,  4.5756e-01, -1.6601e+00],\n",
       "       [ 1.3043e+00, -2.0970e-05, -2.7008e-01],\n",
       "       [ 1.1476e+00, -2.2096e+00,  6.6844e-01]])"
      ]
     },
     "execution_count": 55,
     "metadata": {},
     "output_type": "execute_result"
    }
   ],
   "source": [
    "CSPMatrix"
   ]
  },
  {
   "cell_type": "code",
   "execution_count": 56,
   "metadata": {
    "pycharm": {
     "name": "#%%\n"
    }
   },
   "outputs": [
    {
     "data": {
      "text/plain": [
       "array([[ 0.3659,  0.4576, -1.6601],\n",
       "       [ 1.1476, -2.2096,  0.6684]])"
      ]
     },
     "execution_count": 56,
     "metadata": {},
     "output_type": "execute_result"
    }
   ],
   "source": [
    "FilterPairs = 1       # CSP特征选择参数m\n",
    "features_train = np.zeros((280, 2*FilterPairs))\n",
    "# features_test = np.zeros((80, 2*FilterPairs))\n",
    "\n",
    "m1 = CSPMatrix[0:FilterPairs]\n",
    "m2 = CSPMatrix[3-FilterPairs:3]\n",
    "\n",
    "Filter = np.concatenate([m1,m2])\n",
    "Filter"
   ]
  },
  {
   "cell_type": "code",
   "execution_count": 57,
   "metadata": {
    "pycharm": {
     "name": "#%%\n"
    }
   },
   "outputs": [],
   "source": [
    "data = np.concatenate([EEGSignals['x_train'],EEGSignals['x_test']],axis=2)\n",
    "\n",
    "projectedTrial = np.zeros((2*FilterPairs,1152))\n",
    "\n",
    "for i in range(EEG_Trials):\n",
    "    # 将源信号投影到 CSP空间上\n",
    "    projectedTrial = np.dot(Filter,data[:,:,i].T)\n",
    "        \n",
    "    # 将投影信号的方差得对数作为特征\n",
    "    variances_train = np.var(projectedTrial,1)\n",
    "    for f in range(len(variances_train)):\n",
    "        features_train[i,f] = np.log(variances_train[f])\n"
   ]
  },
  {
   "cell_type": "code",
   "execution_count": 58,
   "metadata": {
    "pycharm": {
     "name": "#%%\n"
    }
   },
   "outputs": [],
   "source": [
    "CSP = features_train[:,0:2]"
   ]
  },
  {
   "cell_type": "code",
   "execution_count": 59,
   "metadata": {
    "pycharm": {
     "name": "#%%\n"
    }
   },
   "outputs": [
    {
     "data": {
      "text/plain": [
       "array([[-4.937 , -4.679 ],\n",
       "       [-4.7594, -4.9566],\n",
       "       [-4.9996, -4.9785],\n",
       "       [-4.6977, -4.7697],\n",
       "       [-4.5586, -4.6966],\n",
       "       [-4.3995, -4.7476],\n",
       "       [-4.9687, -4.7659],\n",
       "       [-4.0282, -5.0187],\n",
       "       [-4.6098, -4.9587],\n",
       "       [-4.733 , -4.9407],\n",
       "       [-4.3976, -4.8441],\n",
       "       [-4.3839, -4.9846],\n",
       "       [-4.9511, -4.7687],\n",
       "       [-4.0545, -4.9121],\n",
       "       [-4.3983, -4.6116],\n",
       "       [-4.1374, -4.8903],\n",
       "       [-4.0777, -4.2483],\n",
       "       [-4.2081, -4.8505],\n",
       "       [-4.3474, -4.5136],\n",
       "       [-5.0339, -4.7017],\n",
       "       [-4.7548, -4.5406],\n",
       "       [-4.7135, -4.515 ],\n",
       "       [-5.3275, -4.861 ],\n",
       "       [-4.3482, -4.9505],\n",
       "       [-5.1895, -4.8317],\n",
       "       [-4.0714, -4.4315],\n",
       "       [-5.0352, -4.7917],\n",
       "       [-4.7228, -4.5053],\n",
       "       [-4.0243, -4.1323],\n",
       "       [-4.2357, -4.2608],\n",
       "       [-4.561 , -4.4544],\n",
       "       [-3.9315, -4.1187],\n",
       "       [-4.3334, -4.581 ],\n",
       "       [-4.5227, -4.7152],\n",
       "       [-4.6201, -4.6349],\n",
       "       [-4.5461, -4.7028],\n",
       "       [-4.6381, -4.6825],\n",
       "       [-4.8837, -4.7121],\n",
       "       [-4.7109, -5.016 ],\n",
       "       [-4.1124, -4.8562],\n",
       "       [-4.7948, -4.8505],\n",
       "       [-3.8399, -4.5123],\n",
       "       [-4.5026, -4.5948],\n",
       "       [-4.9373, -4.7963],\n",
       "       [-5.0277, -4.6751],\n",
       "       [-4.984 , -4.7987],\n",
       "       [-5.206 , -4.9093],\n",
       "       [-4.0854, -4.6772],\n",
       "       [-3.9261, -4.9701],\n",
       "       [-4.971 , -4.5728],\n",
       "       [-4.3557, -5.0114],\n",
       "       [-4.9098, -4.7435],\n",
       "       [-4.2269, -4.7147],\n",
       "       [-5.0714, -4.8418],\n",
       "       [-3.8122, -4.5553],\n",
       "       [-3.8394, -4.4544],\n",
       "       [-4.6004, -4.6097],\n",
       "       [-4.8254, -4.8048],\n",
       "       [-4.488 , -4.5898],\n",
       "       [-5.3207, -4.5879],\n",
       "       [-4.3714, -4.9794],\n",
       "       [-5.1288, -4.8125],\n",
       "       [-4.026 , -4.6672],\n",
       "       [-5.3116, -4.7128],\n",
       "       [-5.2683, -4.9068],\n",
       "       [-4.3948, -4.8989],\n",
       "       [-4.7555, -4.9546],\n",
       "       [-4.737 , -4.6536],\n",
       "       [-4.432 , -4.9635],\n",
       "       [-4.7877, -4.5224],\n",
       "       [-4.4068, -4.7367],\n",
       "       [-4.9814, -4.9815],\n",
       "       [-4.7698, -4.6254],\n",
       "       [-4.8598, -4.4532],\n",
       "       [-5.0797, -4.6002],\n",
       "       [-4.3712, -4.7153],\n",
       "       [-4.7294, -4.5352],\n",
       "       [-4.5359, -4.7483],\n",
       "       [-4.6477, -4.7353],\n",
       "       [-5.113 , -4.623 ],\n",
       "       [-5.2222, -4.7276],\n",
       "       [-4.1211, -4.6039],\n",
       "       [-4.7416, -4.7488],\n",
       "       [-4.6534, -4.9778],\n",
       "       [-4.6352, -4.6843],\n",
       "       [-4.7627, -4.8257],\n",
       "       [-4.3983, -4.4632],\n",
       "       [-4.6741, -4.657 ],\n",
       "       [-4.8047, -4.813 ],\n",
       "       [-4.6041, -4.8264],\n",
       "       [-4.3695, -4.7915],\n",
       "       [-5.3878, -4.6815],\n",
       "       [-4.0997, -4.6832],\n",
       "       [-4.9611, -4.5195],\n",
       "       [-4.9385, -4.6704],\n",
       "       [-5.1629, -4.8493],\n",
       "       [-4.4876, -4.6818],\n",
       "       [-4.7811, -4.5228],\n",
       "       [-5.715 , -4.8449],\n",
       "       [-5.2762, -4.8108],\n",
       "       [-3.6331, -4.4133],\n",
       "       [-4.7526, -4.6049],\n",
       "       [-4.3012, -4.6834],\n",
       "       [-4.7342, -4.3907],\n",
       "       [-4.2944, -4.3238],\n",
       "       [-5.0588, -4.6792],\n",
       "       [-4.9799, -4.7905],\n",
       "       [-4.1189, -4.5668],\n",
       "       [-4.7104, -4.6526],\n",
       "       [-4.4727, -4.8264],\n",
       "       [-4.344 , -4.2064],\n",
       "       [-4.5246, -4.7359],\n",
       "       [-4.8755, -4.5364],\n",
       "       [-4.0526, -4.6111],\n",
       "       [-4.5607, -4.3539],\n",
       "       [-5.2257, -4.6734],\n",
       "       [-4.792 , -4.1856],\n",
       "       [-4.1217, -3.6383],\n",
       "       [-4.8009, -4.5085],\n",
       "       [-4.3204, -4.6927],\n",
       "       [-5.2456, -4.8824],\n",
       "       [-5.2556, -4.7619],\n",
       "       [-5.1859, -3.3339],\n",
       "       [-4.6709, -3.8607],\n",
       "       [-4.3528, -4.6564],\n",
       "       [-4.6288, -4.8555],\n",
       "       [-5.4937, -4.8882],\n",
       "       [-4.6711, -4.6899],\n",
       "       [-4.8316, -4.5546],\n",
       "       [-3.844 , -4.3236],\n",
       "       [-3.8164, -3.2119],\n",
       "       [-4.971 , -3.7961],\n",
       "       [-4.3794, -4.1714],\n",
       "       [-3.8049, -4.0515],\n",
       "       [-4.4378, -3.3085],\n",
       "       [-4.3372, -3.9127],\n",
       "       [-3.8734, -3.9357],\n",
       "       [-3.8357, -2.8147],\n",
       "       [-4.3433, -4.475 ],\n",
       "       [-4.7473, -4.2204],\n",
       "       [-4.9175, -4.7853],\n",
       "       [-4.6191, -4.9775],\n",
       "       [-4.3343, -4.8441],\n",
       "       [-4.4476, -4.7103],\n",
       "       [-4.8299, -4.9115],\n",
       "       [-4.5346, -5.0217],\n",
       "       [-4.1381, -4.8403],\n",
       "       [-4.6125, -4.7091],\n",
       "       [-4.7346, -4.7662],\n",
       "       [-4.2486, -4.8063],\n",
       "       [-5.108 , -4.6896],\n",
       "       [-3.8785, -4.7559],\n",
       "       [-4.489 , -4.8266],\n",
       "       [-4.477 , -4.851 ],\n",
       "       [-4.1544, -4.7364],\n",
       "       [-3.7207, -4.5829],\n",
       "       [-5.1903, -5.0042],\n",
       "       [-4.724 , -4.8288],\n",
       "       [-4.656 , -4.7864],\n",
       "       [-4.225 , -4.998 ],\n",
       "       [-4.4146, -4.6976],\n",
       "       [-4.987 , -4.5437],\n",
       "       [-4.4775, -4.8329],\n",
       "       [-4.5575, -4.4395],\n",
       "       [-4.1086, -4.9088],\n",
       "       [-4.2047, -4.666 ],\n",
       "       [-4.3715, -4.6055],\n",
       "       [-4.3706, -4.4882],\n",
       "       [-4.6851, -4.6255],\n",
       "       [-4.5142, -4.773 ],\n",
       "       [-3.8034, -4.3573],\n",
       "       [-4.5   , -4.6808],\n",
       "       [-5.1007, -5.0179],\n",
       "       [-4.5781, -4.3853],\n",
       "       [-4.0123, -4.4116],\n",
       "       [-4.138 , -4.8087],\n",
       "       [-4.6126, -4.7649],\n",
       "       [-4.7121, -4.4672],\n",
       "       [-5.1075, -4.81  ],\n",
       "       [-4.2074, -4.2608],\n",
       "       [-4.6107, -4.7558],\n",
       "       [-5.11  , -4.9762],\n",
       "       [-5.0892, -4.8881],\n",
       "       [-4.6016, -4.7533],\n",
       "       [-4.3906, -4.5304],\n",
       "       [-3.9885, -4.5504],\n",
       "       [-4.0373, -4.9256],\n",
       "       [-4.0914, -4.5651],\n",
       "       [-4.1599, -4.7495],\n",
       "       [-4.3791, -4.5979],\n",
       "       [-4.1484, -4.5941],\n",
       "       [-4.0754, -4.7571],\n",
       "       [-3.8166, -4.0903],\n",
       "       [-4.3814, -4.8359],\n",
       "       [-5.2783, -4.8121],\n",
       "       [-4.2489, -4.6261],\n",
       "       [-4.7474, -4.6489],\n",
       "       [-4.3557, -4.8043],\n",
       "       [-4.3279, -4.5498],\n",
       "       [-4.4602, -4.4273],\n",
       "       [-4.1394, -4.07  ],\n",
       "       [-4.6545, -4.3033],\n",
       "       [-4.8307, -4.8215],\n",
       "       [-4.7008, -4.8459],\n",
       "       [-5.2968, -4.8221],\n",
       "       [-4.4458, -4.9281],\n",
       "       [-5.0219, -4.8188],\n",
       "       [-5.377 , -4.8695],\n",
       "       [-4.3593, -4.8894],\n",
       "       [-4.7507, -4.4725],\n",
       "       [-5.4554, -4.7448],\n",
       "       [-4.4044, -4.8316],\n",
       "       [-5.4017, -4.7785],\n",
       "       [-4.4024, -4.97  ],\n",
       "       [-4.8669, -4.8036],\n",
       "       [-5.1968, -4.6515],\n",
       "       [-4.4636, -4.4896],\n",
       "       [-4.3624, -4.7642],\n",
       "       [-4.5268, -4.5661],\n",
       "       [-4.4305, -4.859 ],\n",
       "       [-4.5042, -4.6478],\n",
       "       [-4.0317, -4.6634],\n",
       "       [-4.7488, -4.6185],\n",
       "       [-4.9094, -4.5977],\n",
       "       [-4.5331, -4.6202],\n",
       "       [-4.5185, -4.9585],\n",
       "       [-4.2595, -4.9187],\n",
       "       [-4.5574, -4.66  ],\n",
       "       [-4.1097, -4.6697],\n",
       "       [-4.353 , -4.9389],\n",
       "       [-4.5309, -4.7777],\n",
       "       [-4.2267, -4.8422],\n",
       "       [-4.2277, -4.7529],\n",
       "       [-3.9358, -4.707 ],\n",
       "       [-4.31  , -4.581 ],\n",
       "       [-4.4042, -4.6579],\n",
       "       [-4.1706, -4.7545],\n",
       "       [-4.3275, -4.4743],\n",
       "       [-4.515 , -4.7248],\n",
       "       [-4.3678, -4.7981],\n",
       "       [-4.8859, -4.6934],\n",
       "       [-4.5851, -4.7303],\n",
       "       [-5.0797, -4.6699],\n",
       "       [-5.2568, -4.6723],\n",
       "       [-4.6164, -4.6934],\n",
       "       [-5.5171, -4.4611],\n",
       "       [-4.7156, -4.1524],\n",
       "       [-4.3895, -4.5196],\n",
       "       [-4.1525, -3.9899],\n",
       "       [-4.5284, -4.6473],\n",
       "       [-4.2159, -4.3052],\n",
       "       [-4.2027, -4.5754],\n",
       "       [-4.1531, -4.4746],\n",
       "       [-3.6387, -3.6885],\n",
       "       [-3.747 , -4.2272],\n",
       "       [-4.6941, -4.5861],\n",
       "       [-4.0319, -4.3528],\n",
       "       [-4.4794, -4.2919],\n",
       "       [-4.0518, -3.9468],\n",
       "       [-4.2389, -4.3755],\n",
       "       [-5.121 , -3.8109],\n",
       "       [-5.0288, -3.9019],\n",
       "       [-4.4597, -3.0422],\n",
       "       [-5.1605, -4.0247],\n",
       "       [-4.8859, -4.9808],\n",
       "       [-4.8835, -4.6041],\n",
       "       [-4.7251, -4.467 ],\n",
       "       [-4.2244, -4.5939],\n",
       "       [-5.0285, -4.708 ],\n",
       "       [-4.253 , -4.1062],\n",
       "       [-4.4877, -3.5901],\n",
       "       [-4.5621, -4.278 ],\n",
       "       [-4.3507, -4.2286],\n",
       "       [-4.0333, -4.2869],\n",
       "       [-4.279 , -2.3859],\n",
       "       [-4.326 , -3.5545],\n",
       "       [-4.0558, -4.2995],\n",
       "       [-4.2025, -4.3443],\n",
       "       [-4.7441, -4.5342],\n",
       "       [-4.0951, -3.5842]])"
      ]
     },
     "execution_count": 59,
     "metadata": {},
     "output_type": "execute_result"
    }
   ],
   "source": [
    "CSP"
   ]
  },
  {
   "cell_type": "code",
   "execution_count": null,
   "metadata": {
    "pycharm": {
     "name": "#%%\n"
    }
   },
   "outputs": [],
   "source": []
  },
  {
   "cell_type": "code",
   "execution_count": null,
   "metadata": {
    "pycharm": {
     "name": "#%%\n"
    }
   },
   "outputs": [],
   "source": []
  },
  {
   "cell_type": "code",
   "execution_count": null,
   "metadata": {
    "pycharm": {
     "name": "#%%\n"
    }
   },
   "outputs": [],
   "source": [
    "for t=1:EEG_Trials    \n",
    "    %projecting the data onto the CSP filters    \n",
    "    projectedTrial_train = Filter * EEGSignals.x_train(:,:,t)';    \n",
    "    projectedTrial_test = Filter * EEGSignals.x_test(:,:,t)';\n",
    "    \n",
    "    %generating the features as the log variance of the projected signals\n",
    "    variances_train = var(projectedTrial_train,0,2);  \n",
    "    variances_test = var(projectedTrial_test,0,2);\n",
    "    for f=1:length(variances_train)\n",
    "        features_train(t,f) = log(variances_train(f));\n",
    "        % features_train(t,f) = log(variances_train(f)/sum(variances_train));   %修改后对应公式\n",
    "    end\n",
    "    for f=1:length(variances_test)\n",
    "        features_test(t,f) = log(variances_test(f));\n",
    "        %features_test(t,f) = log(variances_test(f)/sum(variances_test));  % 修改后对应公式"
   ]
  },
  {
   "cell_type": "code",
   "execution_count": null,
   "metadata": {
    "pycharm": {
     "name": "#%%\n"
    }
   },
   "outputs": [],
   "source": [
    "#从每一次实验中提取CSP特征\n",
    "for t in range(EEG_Trials):\n",
    "    \n",
    "    # 将数据投影到CSP空间\n",
    "    projectedTrial_train = Filter.dot(trainData[t])\n",
    "    projectedTrial_test = Filter.dot(trainData[t])\n",
    "    \n",
    "    # 投影后信号的方差作为特征\n",
    "    variances_train = np.var(projectedTrial_train, 1)\n",
    "    variances_test = np.var(projectedTrial_test, 1)\n",
    "    \n",
    "    for f in range(len(variances_train)):\n",
    "        feature_train[t, f] = np.log(variances_train[f])\n",
    " \n",
    "    for f in range(len(variances_test)):\n",
    "        feature_test[t, f] = np.log(variances_test[f])\n",
    " \n",
    " \n",
    " "
   ]
  },
  {
   "cell_type": "code",
   "execution_count": null,
   "metadata": {
    "pycharm": {
     "name": "#%%\n"
    }
   },
   "outputs": [],
   "source": []
  },
  {
   "cell_type": "code",
   "execution_count": null,
   "metadata": {
    "pycharm": {
     "name": "#%%\n"
    }
   },
   "outputs": [],
   "source": []
  },
  {
   "cell_type": "code",
   "execution_count": null,
   "metadata": {
    "pycharm": {
     "name": "#%%\n"
    }
   },
   "outputs": [],
   "source": []
  },
  {
   "cell_type": "code",
   "execution_count": null,
   "metadata": {
    "pycharm": {
     "name": "#%%\n"
    }
   },
   "outputs": [],
   "source": []
  },
  {
   "cell_type": "code",
   "execution_count": null,
   "metadata": {
    "pycharm": {
     "name": "#%%\n"
    }
   },
   "outputs": [],
   "source": []
  },
  {
   "cell_type": "code",
   "execution_count": null,
   "metadata": {
    "pycharm": {
     "name": "#%%\n"
    }
   },
   "outputs": [],
   "source": []
  },
  {
   "cell_type": "code",
   "execution_count": null,
   "metadata": {
    "pycharm": {
     "name": "#%%\n"
    }
   },
   "outputs": [],
   "source": []
  },
  {
   "cell_type": "code",
   "execution_count": null,
   "metadata": {
    "pycharm": {
     "name": "#%%\n"
    }
   },
   "outputs": [],
   "source": [
    "clc;\n",
    "clear;\n",
    "EEGSignals = load('/Users/yuanxue/BCI/MI/L-R hand/dataset_BCIcomp1.mat');   % 加载带通滤波后的脑电数据\n",
    "%check and initializations\n",
    "EEG_Channels = size(EEGSignals.x_train,2);\n",
    "EEG_Trials = size(EEGSignals.x_train,3);\n",
    "classLabels = unique(EEGSignals.y_train);% Return non-repeating values\n",
    "EEG_Classes = length(classLabels);\n",
    "covMatrix = cell(EEG_Classes,1); % 协方差矩阵\n",
    "% Computing the normalized covariance matrices for each trial\n",
    "trialCov = zeros(EEG_Channels,EEG_Channels,EEG_Trials);\n",
    "for i = 1:EEG_Trials\n",
    "    E = EEGSignals.x_train(:,:,i)';\n",
    "    EE = E*E';\n",
    "    trialCov(:,:,i) = EE./trace(EE);  % 计算协方差矩阵\n",
    "end\n",
    "clear E;\n",
    "clear EE;\n",
    "% 计算每一类样本数据的空间协方差之和\n",
    "for i = 1:EEG_Classes\n",
    "    covMatrix{i} = mean(trialCov(:,:,EEGSignals.y_train == classLabels(i)),3);\n",
    "end\n",
    "\n",
    "% 计算两类数据的空间协方差之和\n",
    "covTotal = covMatrix{1} + covMatrix{2};\n",
    "\n",
    "% 计算特征向量和特征矩阵\n",
    "[Uc,Dt] = eig(covTotal);\n",
    "% 特征值要降序排列\n",
    "Dt = diag(Dt);\n",
    "[Dt,egIndex] = sort(Dt, 'descend');% 降序\n",
    "Ut = Uc(:,egIndex);\n",
    "\n",
    "c = diag(sqrt(1./Dt))\n",
    "\n",
    "\n",
    "% 矩阵白化\n",
    "P = c*Ut';\n",
    "\n",
    "\n",
    "     \n",
    "\n",
    "\n",
    "\n",
    "% 矩阵P作用求公共特征向量transformedCov1 \n",
    "transformedCov1 = P*covMatrix{1}*P';\n",
    "transformedCov2 = P*covMatrix{2}*P';\n",
    "     \n",
    "\n",
    "%计算公共特征向量transformedCov1的特征向量和特征矩阵\n",
    "[U1,D1] = eig(transformedCov1);\n",
    "%计算公共特征向量transformedCov2的特征向量和特征矩阵\n",
    "[U2,D2] = eig(transformedCov2);\n",
    "\n",
    "     \n",
    "     \n",
    "eigenvalues = diag(D1);\n",
    "[eigenvalues,egIndex] = sort(eigenvalues, 'descend');% 降序排列\n",
    "U1 = U1(:, egIndex);\n",
    "\n",
    "     \n",
    "     \n",
    "eigenvalues2 = diag(D2);\n",
    "[eigenvalues2,egIndex2] = sort(eigenvalues2, 'descend');% 降序排列\n",
    "U2 = U2(:, egIndex2);\n",
    "\n",
    "\n",
    "% 计算投影矩阵W\n",
    "CSPMatrix = U1' * P;\n",
    "\n",
    "\n",
    "% 计算特征矩阵\n",
    "FilterPairs = 1;       % CSP特征选择参数m    CSP特征为2*m个\n",
    "features_train = zeros(EEG_Trials, 2*FilterPairs+1);\n",
    "features_test = zeros(EEG_Trials, 2*FilterPairs+1);\n",
    "Filter = CSPMatrix([1:FilterPairs (end-FilterPairs+1):end],:);\n",
    "%extracting the CSP features from each trial\n",
    "for t=1:EEG_Trials    \n",
    "    %projecting the data onto the CSP filters    \n",
    "    projectedTrial_train = Filter * EEGSignals.x_train(:,:,t)';    \n",
    "    projectedTrial_test = Filter * EEGSignals.x_test(:,:,t)';\n",
    "    %generating the features as the log variance of the projected signals\n",
    "    variances_train = var(projectedTrial_train,0,2);  \n",
    "    variances_test = var(projectedTrial_test,0,2);\n",
    "    for f=1:length(variances_train)\n",
    "        features_train(t,f) = log(variances_train(f));\n",
    "        % features_train(t,f) = log(variances_train(f)/sum(variances_train));   %修改后对应公式\n",
    "    end\n",
    "    for f=1:length(variances_test)\n",
    "        features_test(t,f) = log(variances_test(f));\n",
    "        %features_test(t,f) = log(variances_test(f)/sum(variances_test));  % 修改后对应公式\n",
    "    end\n",
    "disp(features_train(:,1:2))"
   ]
  },
  {
   "cell_type": "code",
   "execution_count": null,
   "metadata": {
    "pycharm": {
     "name": "#%%\n"
    }
   },
   "outputs": [],
   "source": [
    "\n",
    "%计算特征矩阵\n",
    "FilterPairs = 2\n",
    "feature_train = np.zeros([EEG_Trials, 2*FilterPairs+1])\n",
    "\n",
    "feature_test = np.zeros([EEG_Trials, 2*FilterPairs+1])\n",
    "\n",
    "Filter = np.r_[CSPMatrix[:FilterPairs], CSPMatrix[-FilterPairs:]]\n",
    " \n",
    "%从每一次实验中提取CSP特征\n",
    "for t in range(EEG_Trials):\n",
    "    %将数据投影到CSP空间\n",
    "    projectedTrial_train = Filter.dot(trainData[t])\n",
    "    projectedTrial_test = Filter.dot(trainData[t])\n",
    "    %投影后信号的方差作为特征\n",
    "    variances_train = np.var(projectedTrial_train, 1)\n",
    "    variances_test = np.var(projectedTrial_test, 1)\n",
    "    for f in range(len(variances_train)):\n",
    "        feature_train[t, f] = np.log(variances_train[f])\n",
    " \n",
    "    for f in range(len(variances_test)):\n",
    "        feature_test[t, f] = np.log(variances_test[f])\n",
    " \n",
    " \n",
    "CSP_Train_faetures = feature_train[:, 0:4]\n",
    "CSP_Test_features = feature_test[:, 0:4]\n"
   ]
  },
  {
   "cell_type": "code",
   "execution_count": null,
   "metadata": {
    "pycharm": {
     "name": "#%%\n"
    }
   },
   "outputs": [],
   "source": []
  }
 ],
 "metadata": {
  "kernelspec": {
   "display_name": "Python 3",
   "language": "python",
   "name": "python3"
  },
  "language_info": {
   "codemirror_mode": {
    "name": "ipython",
    "version": 3
   },
   "file_extension": ".py",
   "mimetype": "text/x-python",
   "name": "python",
   "nbconvert_exporter": "python",
   "pygments_lexer": "ipython3",
   "version": "3.6.8"
  }
 },
 "nbformat": 4,
 "nbformat_minor": 4
}