{
 "cells": [
  {
   "cell_type": "code",
   "execution_count": null,
   "outputs": [],
   "source": [
    "import random\n",
    "import os\n",
    "import pyaudio\n",
    "import numpy as np\n",
    "import json\n",
    "import time\n",
    "from pydub.playback import play\n",
    "from pydub import AudioSegment\n",
    "import serial"
   ],
   "metadata": {
    "collapsed": false
   },
   "id": "faeddfb914a3f824"
  },
  {
   "cell_type": "code",
   "execution_count": null,
   "outputs": [],
   "source": [
    "def preAudio(audio, length, db):\n",
    "    target_duration = length * 1000\n",
    "    audio = audio[:target_duration]\n",
    "    audio = np.array(audio.get_array_of_samples())\n",
    "    audio = audio / audio.std(ddof=1)\n",
    "    audio = (audio * db).astype(np.int16)\n",
    "    return audio"
   ],
   "metadata": {
    "collapsed": false
   },
   "id": "701ab1f58ba3c86b"
  },
  {
   "cell_type": "code",
   "execution_count": null,
   "outputs": [],
   "source": [
    "s = serial.Serial('com4', 115200, timeout=1)\n",
    "s0 = [255]\n",
    "s.write(s0)\n",
    "\n",
    "start_male = AudioSegment.from_file('male.mp3', format='mp3')\n",
    "start_female = AudioSegment.from_file('female.mp3', format='mp3')\n",
    "end_male = AudioSegment.from_file('end_male.mp3', format='mp3')\n",
    "end_female = AudioSegment.from_file('end_female.mp3', format='mp3')\n",
    "\n",
    "male_audio = ['./Audio/male/' + i for i in os.listdir('./Audio/male')]\n",
    "female_audio = ['./Audio/female/' + i for i in os.listdir('./Audio/female')]\n",
    "random.shuffle(male_audio)\n",
    "random.shuffle(female_audio)"
   ],
   "metadata": {
    "collapsed": false
   },
   "id": "8c5306551ca27f35"
  },
  {
   "cell_type": "code",
   "execution_count": null,
   "outputs": [],
   "source": [
    "audio_length = 70  # s\n",
    "db = 1000\n",
    "log = []\n",
    "\n",
    "name = input('please enter the name')\n",
    "# for i in range(min(len(male_audio), len(female_audio)))\n",
    "for i in range(5):\n",
    "    male_i = AudioSegment.from_file(male_audio[i], format='mp3')\n",
    "    female_i = AudioSegment.from_file(female_audio[i], format='mp3')\n",
    "\n",
    "    # 处理音频文件\n",
    "    male = preAudio(male_i, audio_length, db)\n",
    "    female = preAudio(female_i, audio_length, db)\n",
    "    \n",
    "    # 随机规则，随机男女，随机左右，播放提示音\n",
    "    att = random.sample(['male', 'female'], 1)[0]\n",
    "    att_location = random.sample(['left', 'right'], 1)[0]\n",
    "    \n",
    "    trigger = []\n",
    "    if 'male' == att and 'left' == att_location:\n",
    "        trigger = [1]\n",
    "    elif 'male' == att and 'right' == att_location:\n",
    "        trigger = [3]\n",
    "    elif 'female' == att and 'left' == att_location:\n",
    "        trigger = [2]\n",
    "    elif 'female' == att and 'right' == att_location:\n",
    "        trigger = [4]\n",
    "    \n",
    "    log_i = {\n",
    "        'i': i,\n",
    "        'length': audio_length,\n",
    "        'male_i': male_audio[i],\n",
    "        'female_i': female_audio[i],\n",
    "        'att': att,\n",
    "        'att_location': att_location,\n",
    "        'trigger': trigger[0]\n",
    "    }\n",
    "    print(log_i)\n",
    "    trigger = [s0[0] - trigger[0]]\n",
    "    \n",
    "    if 'male' == att:\n",
    "        play(start_male)\n",
    "    else:\n",
    "        play(start_female)\n",
    "    time.sleep(1)\n",
    "    \n",
    "    # 播放音频，并向saga发送triggers\n",
    "    stream = pyaudio.PyAudio().open(format=pyaudio.paInt16, channels=2, rate=48000, output=True)\n",
    "    \n",
    "    audio_data = np.array([])\n",
    "    if ('male' == att and 'left' == att_location) or ('female' == att and 'right' == att_location):\n",
    "        audio_data = np.column_stack((male, female)).flatten()\n",
    "    elif ('male' == att and 'right' == att_location) or ('female' == att and 'left' == att_location):\n",
    "        audio_data = np.column_stack((female, male)).flatten()\n",
    "    \n",
    "    s.write(trigger)\n",
    "    stream.write(audio_data.tobytes())\n",
    "    s.write(s0)\n",
    "    stream.stop_stream()\n",
    "    stream.close()\n",
    "    time.sleep(1)\n",
    "    \n",
    "    if 'male' == att:\n",
    "        play(end_male)\n",
    "    else:\n",
    "        play(end_female)\n",
    "    \n",
    "    # 记录日志\n",
    "    log.append(log_i)\n",
    "    input('press any key to continue')\n",
    "    time.sleep(1)\n",
    "\n",
    "s.close()\n",
    "log = json.dumps(log)\n",
    "with open('./log/{}-{}.json'.format(name, int(time.time())), 'w+', encoding='utf-8') as file:\n",
    "    file.write(log)\n",
    "print('end')"
   ],
   "metadata": {
    "collapsed": false
   },
   "id": "6cd0c0e7d36fad44"
  }
 ],
 "metadata": {
  "kernelspec": {
   "name": "python3",
   "language": "python",
   "display_name": "Python 3 (ipykernel)"
  },
  "language_info": {
   "codemirror_mode": {
    "name": "ipython",
    "version": 2
   },
   "file_extension": ".py",
   "mimetype": "text/x-python",
   "name": "python",
   "nbconvert_exporter": "python",
   "pygments_lexer": "ipython2",
   "version": "2.7.6"
  }
 },
 "nbformat": 4,
 "nbformat_minor": 5
}
